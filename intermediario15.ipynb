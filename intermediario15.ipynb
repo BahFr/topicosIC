{
 "cells": [
  {
   "cell_type": "code",
   "execution_count": 41,
   "metadata": {},
   "outputs": [
    {
     "name": "stderr",
     "output_type": "stream",
     "text": [
      "C:\\Users\\DELL\\Anaconda3\\lib\\site-packages\\IPython\\core\\interactiveshell.py:2785: DtypeWarning: Columns (1,5,7) have mixed types. Specify dtype option on import or set low_memory=False.\n",
      "  interactivity=interactivity, compiler=compiler, result=result)\n"
     ]
    },
    {
     "data": {
      "text/plain": [
       "(549487, 141)"
      ]
     },
     "execution_count": 41,
     "metadata": {},
     "output_type": "execute_result"
    }
   ],
   "source": [
    "import pandas\n",
    "import matplotlib.pyplot as plt\n",
    "import scipy.stats as stats\n",
    "enade2015=pandas.read_csv(\"MICRODADOS_ENADE_2015.txt\", sep=';',dtype={\"DS_VT_ESC_OFG\": str, \n",
    "                                                                     'NT_GER':str,\n",
    "                                                                     'NT_FG':str,\n",
    "                                                                     'NT_OBJ_FG':str,\n",
    "                                                                     'NT_DIS_FG':str,\n",
    "                                                                     'NT_CE':str,\n",
    "                                                                     'NT_OBJ_CE':str,\n",
    "                                                                     'NT_DIS_CE':str})\n",
    "\n",
    "\n",
    "enade2015.shape"
   ]
  },
  {
   "cell_type": "code",
   "execution_count": 42,
   "metadata": {},
   "outputs": [
    {
     "data": {
      "text/plain": [
       "Index(['NU_ANO', 'CO_IES', 'CO_CATEGAD', 'CO_ORGACAD', 'CO_GRUPO', 'CO_CURSO',\n",
       "       'CO_MODALIDADE', 'CO_MUNIC_CURSO', 'CO_UF_CURSO', 'CO_REGIAO_CURSO'],\n",
       "      dtype='object')"
      ]
     },
     "execution_count": 42,
     "metadata": {},
     "output_type": "execute_result"
    }
   ],
   "source": [
    "enade2015.columns[0:10]"
   ]
  },
  {
   "cell_type": "code",
   "execution_count": 43,
   "metadata": {},
   "outputs": [
    {
     "data": {
      "text/html": [
       "<div>\n",
       "<style scoped>\n",
       "    .dataframe tbody tr th:only-of-type {\n",
       "        vertical-align: middle;\n",
       "    }\n",
       "\n",
       "    .dataframe tbody tr th {\n",
       "        vertical-align: top;\n",
       "    }\n",
       "\n",
       "    .dataframe thead th {\n",
       "        text-align: right;\n",
       "    }\n",
       "</style>\n",
       "<table border=\"1\" class=\"dataframe\">\n",
       "  <thead>\n",
       "    <tr style=\"text-align: right;\">\n",
       "      <th></th>\n",
       "      <th>NT_GER</th>\n",
       "      <th>CO_CATEGAD</th>\n",
       "      <th>CO_UF_CURSO</th>\n",
       "      <th>QE_I08</th>\n",
       "      <th>QE_I10</th>\n",
       "    </tr>\n",
       "  </thead>\n",
       "  <tbody>\n",
       "    <tr>\n",
       "      <th>0</th>\n",
       "      <td>NaN</td>\n",
       "      <td>10002</td>\n",
       "      <td>51</td>\n",
       "      <td>NaN</td>\n",
       "      <td>NaN</td>\n",
       "    </tr>\n",
       "    <tr>\n",
       "      <th>1</th>\n",
       "      <td>66</td>\n",
       "      <td>10002</td>\n",
       "      <td>51</td>\n",
       "      <td>E</td>\n",
       "      <td>D</td>\n",
       "    </tr>\n",
       "    <tr>\n",
       "      <th>2</th>\n",
       "      <td>54.7</td>\n",
       "      <td>10002</td>\n",
       "      <td>51</td>\n",
       "      <td>E</td>\n",
       "      <td>A</td>\n",
       "    </tr>\n",
       "    <tr>\n",
       "      <th>3</th>\n",
       "      <td>77.1</td>\n",
       "      <td>10002</td>\n",
       "      <td>51</td>\n",
       "      <td>D</td>\n",
       "      <td>D</td>\n",
       "    </tr>\n",
       "    <tr>\n",
       "      <th>4</th>\n",
       "      <td>78.5</td>\n",
       "      <td>10002</td>\n",
       "      <td>51</td>\n",
       "      <td>F</td>\n",
       "      <td>D</td>\n",
       "    </tr>\n",
       "    <tr>\n",
       "      <th>5</th>\n",
       "      <td>63.3</td>\n",
       "      <td>10002</td>\n",
       "      <td>51</td>\n",
       "      <td>A</td>\n",
       "      <td>A</td>\n",
       "    </tr>\n",
       "    <tr>\n",
       "      <th>6</th>\n",
       "      <td>65.4</td>\n",
       "      <td>10002</td>\n",
       "      <td>51</td>\n",
       "      <td>F</td>\n",
       "      <td>E</td>\n",
       "    </tr>\n",
       "    <tr>\n",
       "      <th>7</th>\n",
       "      <td>53.7</td>\n",
       "      <td>10002</td>\n",
       "      <td>51</td>\n",
       "      <td>E</td>\n",
       "      <td>A</td>\n",
       "    </tr>\n",
       "    <tr>\n",
       "      <th>8</th>\n",
       "      <td>55.7</td>\n",
       "      <td>10002</td>\n",
       "      <td>51</td>\n",
       "      <td>F</td>\n",
       "      <td>A</td>\n",
       "    </tr>\n",
       "    <tr>\n",
       "      <th>9</th>\n",
       "      <td>72.4</td>\n",
       "      <td>10002</td>\n",
       "      <td>51</td>\n",
       "      <td>D</td>\n",
       "      <td>A</td>\n",
       "    </tr>\n",
       "  </tbody>\n",
       "</table>\n",
       "</div>"
      ],
      "text/plain": [
       "  NT_GER  CO_CATEGAD  CO_UF_CURSO QE_I08 QE_I10\n",
       "0    NaN       10002           51    NaN    NaN\n",
       "1     66       10002           51      E      D\n",
       "2   54.7       10002           51      E      A\n",
       "3   77.1       10002           51      D      D\n",
       "4   78.5       10002           51      F      D\n",
       "5   63.3       10002           51      A      A\n",
       "6   65.4       10002           51      F      E\n",
       "7   53.7       10002           51      E      A\n",
       "8   55.7       10002           51      F      A\n",
       "9   72.4       10002           51      D      A"
      ]
     },
     "execution_count": 43,
     "metadata": {},
     "output_type": "execute_result"
    }
   ],
   "source": [
    "tabela15 = pandas.DataFrame(enade2015, columns=['NT_GER', 'CO_CATEGAD', 'CO_UF_CURSO', 'QE_I08', 'QE_I10'])\n",
    "tabela15.head(10)"
   ]
  },
  {
   "cell_type": "code",
   "execution_count": 44,
   "metadata": {},
   "outputs": [],
   "source": [
    "tabela15['NT_GER'] = tabela15['NT_GER'].str.replace(',', '.')\n",
    "tabela15=tabela15.loc[(tabela15['NT_GER'].notnull())]\n",
    "tabela15['NT_GER'] = pandas.to_numeric(tabela15['NT_GER'])\n",
    "#tabela15.head()"
   ]
  },
  {
   "cell_type": "code",
   "execution_count": 45,
   "metadata": {},
   "outputs": [
    {
     "data": {
      "text/html": [
       "<div>\n",
       "<style scoped>\n",
       "    .dataframe tbody tr th:only-of-type {\n",
       "        vertical-align: middle;\n",
       "    }\n",
       "\n",
       "    .dataframe tbody tr th {\n",
       "        vertical-align: top;\n",
       "    }\n",
       "\n",
       "    .dataframe thead th {\n",
       "        text-align: right;\n",
       "    }\n",
       "</style>\n",
       "<table border=\"1\" class=\"dataframe\">\n",
       "  <thead>\n",
       "    <tr style=\"text-align: right;\">\n",
       "      <th></th>\n",
       "      <th>NT_GER</th>\n",
       "      <th>CO_CATEGAD</th>\n",
       "      <th>CO_UF_CURSO</th>\n",
       "      <th>QE_I08</th>\n",
       "      <th>QE_I10</th>\n",
       "    </tr>\n",
       "  </thead>\n",
       "  <tbody>\n",
       "    <tr>\n",
       "      <th>1</th>\n",
       "      <td>66.0</td>\n",
       "      <td>10002</td>\n",
       "      <td>51</td>\n",
       "      <td>5</td>\n",
       "      <td>4</td>\n",
       "    </tr>\n",
       "    <tr>\n",
       "      <th>2</th>\n",
       "      <td>54.7</td>\n",
       "      <td>10002</td>\n",
       "      <td>51</td>\n",
       "      <td>5</td>\n",
       "      <td>1</td>\n",
       "    </tr>\n",
       "    <tr>\n",
       "      <th>3</th>\n",
       "      <td>77.1</td>\n",
       "      <td>10002</td>\n",
       "      <td>51</td>\n",
       "      <td>4</td>\n",
       "      <td>4</td>\n",
       "    </tr>\n",
       "    <tr>\n",
       "      <th>4</th>\n",
       "      <td>78.5</td>\n",
       "      <td>10002</td>\n",
       "      <td>51</td>\n",
       "      <td>6</td>\n",
       "      <td>4</td>\n",
       "    </tr>\n",
       "    <tr>\n",
       "      <th>5</th>\n",
       "      <td>63.3</td>\n",
       "      <td>10002</td>\n",
       "      <td>51</td>\n",
       "      <td>1</td>\n",
       "      <td>1</td>\n",
       "    </tr>\n",
       "  </tbody>\n",
       "</table>\n",
       "</div>"
      ],
      "text/plain": [
       "   NT_GER  CO_CATEGAD  CO_UF_CURSO  QE_I08  QE_I10\n",
       "1    66.0       10002           51       5       4\n",
       "2    54.7       10002           51       5       1\n",
       "3    77.1       10002           51       4       4\n",
       "4    78.5       10002           51       6       4\n",
       "5    63.3       10002           51       1       1"
      ]
     },
     "execution_count": 45,
     "metadata": {},
     "output_type": "execute_result"
    }
   ],
   "source": [
    "tabela15=tabela15.loc[(tabela15['QE_I08'].notnull())]\n",
    "tabela15=tabela15.loc[(tabela15['QE_I10'].notnull())]\n",
    "\n",
    "tabela15['QE_I08'] = tabela15['QE_I08'].map({'A': 1, 'B': 2, 'C': 3, 'D': 4,'E': 5, 'F':6,'G':7})\n",
    "tabela15['QE_I10'] = tabela15['QE_I10'].map({'A': 1, 'B': 2, 'C': 3, 'D': 4,'E': 5})\n",
    "tabela15.head()"
   ]
  },
  {
   "cell_type": "code",
   "execution_count": 46,
   "metadata": {},
   "outputs": [
    {
     "data": {
      "text/plain": [
       "44.522485219027246"
      ]
     },
     "execution_count": 46,
     "metadata": {},
     "output_type": "execute_result"
    }
   ],
   "source": [
    "tabela15['NT_GER'].mean()"
   ]
  },
  {
   "cell_type": "code",
   "execution_count": 47,
   "metadata": {},
   "outputs": [
    {
     "data": {
      "text/plain": [
       "count    446520.000000\n",
       "mean         44.522485\n",
       "std          13.970354\n",
       "min           0.000000\n",
       "25%          34.500000\n",
       "50%          43.800000\n",
       "75%          54.100000\n",
       "max          95.500000\n",
       "Name: NT_GER, dtype: float64"
      ]
     },
     "execution_count": 47,
     "metadata": {},
     "output_type": "execute_result"
    }
   ],
   "source": [
    "tabela15['NT_GER'].describe()"
   ]
  },
  {
   "cell_type": "code",
   "execution_count": 48,
   "metadata": {},
   "outputs": [
    {
     "name": "stdout",
     "output_type": "stream",
     "text": [
      "indice da primeira maior nota 2015:  516661\n",
      "Maior nota:  95.5\n"
     ]
    }
   ],
   "source": [
    "print('indice da primeira maior nota 2015: ', tabela15['NT_GER'].idxmax())\n",
    "print('Maior nota: ', tabela15['NT_GER'][516661])\n",
    "#print(tabela['NT_GER'].idxmax())"
   ]
  },
  {
   "cell_type": "code",
   "execution_count": 49,
   "metadata": {},
   "outputs": [],
   "source": [
    "#UF15 = tabela15[tabela15['CO_UF_CURSO']==31]\n"
   ]
  },
  {
   "cell_type": "code",
   "execution_count": 50,
   "metadata": {},
   "outputs": [],
   "source": [
    "#UF15['NT_GER'].describe()"
   ]
  },
  {
   "cell_type": "code",
   "execution_count": 51,
   "metadata": {},
   "outputs": [
    {
     "data": {
      "text/html": [
       "<div>\n",
       "<style scoped>\n",
       "    .dataframe tbody tr th:only-of-type {\n",
       "        vertical-align: middle;\n",
       "    }\n",
       "\n",
       "    .dataframe tbody tr th {\n",
       "        vertical-align: top;\n",
       "    }\n",
       "\n",
       "    .dataframe thead th {\n",
       "        text-align: right;\n",
       "    }\n",
       "</style>\n",
       "<table border=\"1\" class=\"dataframe\">\n",
       "  <thead>\n",
       "    <tr style=\"text-align: right;\">\n",
       "      <th></th>\n",
       "      <th>NT_GER</th>\n",
       "      <th>CO_CATEGAD</th>\n",
       "      <th>CO_UF_CURSO</th>\n",
       "      <th>QE_I08</th>\n",
       "      <th>QE_I10</th>\n",
       "    </tr>\n",
       "  </thead>\n",
       "  <tbody>\n",
       "    <tr>\n",
       "      <th>count</th>\n",
       "      <td>62152.000000</td>\n",
       "      <td>62152.0</td>\n",
       "      <td>62152.000000</td>\n",
       "      <td>62152.000000</td>\n",
       "      <td>62152.000000</td>\n",
       "    </tr>\n",
       "    <tr>\n",
       "      <th>mean</th>\n",
       "      <td>50.214968</td>\n",
       "      <td>1.0</td>\n",
       "      <td>33.073175</td>\n",
       "      <td>3.690082</td>\n",
       "      <td>3.076731</td>\n",
       "    </tr>\n",
       "    <tr>\n",
       "      <th>std</th>\n",
       "      <td>15.270897</td>\n",
       "      <td>0.0</td>\n",
       "      <td>9.783728</td>\n",
       "      <td>1.695337</td>\n",
       "      <td>1.781644</td>\n",
       "    </tr>\n",
       "    <tr>\n",
       "      <th>min</th>\n",
       "      <td>0.000000</td>\n",
       "      <td>1.0</td>\n",
       "      <td>11.000000</td>\n",
       "      <td>1.000000</td>\n",
       "      <td>1.000000</td>\n",
       "    </tr>\n",
       "    <tr>\n",
       "      <th>25%</th>\n",
       "      <td>39.700000</td>\n",
       "      <td>1.0</td>\n",
       "      <td>26.000000</td>\n",
       "      <td>2.000000</td>\n",
       "      <td>1.000000</td>\n",
       "    </tr>\n",
       "    <tr>\n",
       "      <th>50%</th>\n",
       "      <td>50.700000</td>\n",
       "      <td>1.0</td>\n",
       "      <td>33.000000</td>\n",
       "      <td>4.000000</td>\n",
       "      <td>4.000000</td>\n",
       "    </tr>\n",
       "    <tr>\n",
       "      <th>75%</th>\n",
       "      <td>61.400000</td>\n",
       "      <td>1.0</td>\n",
       "      <td>41.000000</td>\n",
       "      <td>5.000000</td>\n",
       "      <td>5.000000</td>\n",
       "    </tr>\n",
       "    <tr>\n",
       "      <th>max</th>\n",
       "      <td>95.500000</td>\n",
       "      <td>1.0</td>\n",
       "      <td>53.000000</td>\n",
       "      <td>7.000000</td>\n",
       "      <td>5.000000</td>\n",
       "    </tr>\n",
       "  </tbody>\n",
       "</table>\n",
       "</div>"
      ],
      "text/plain": [
       "             NT_GER  CO_CATEGAD   CO_UF_CURSO        QE_I08        QE_I10\n",
       "count  62152.000000     62152.0  62152.000000  62152.000000  62152.000000\n",
       "mean      50.214968         1.0     33.073175      3.690082      3.076731\n",
       "std       15.270897         0.0      9.783728      1.695337      1.781644\n",
       "min        0.000000         1.0     11.000000      1.000000      1.000000\n",
       "25%       39.700000         1.0     26.000000      2.000000      1.000000\n",
       "50%       50.700000         1.0     33.000000      4.000000      4.000000\n",
       "75%       61.400000         1.0     41.000000      5.000000      5.000000\n",
       "max       95.500000         1.0     53.000000      7.000000      5.000000"
      ]
     },
     "execution_count": 51,
     "metadata": {},
     "output_type": "execute_result"
    }
   ],
   "source": [
    "#CATEGORIA DA UNIVERSIDADE\n",
    "#2015\n",
    "#Pública = 1\n",
    "#Privada = 2\n",
    "\n",
    "#tabela15 = tabela15.loc[(tabela15['CO_CATEGAD'].notnull())]\n",
    "#tabela15['CO_CATEGAD'] = tabela15['CO_CATEGAD'].map({'93': 1, '115':1, '116':1, '118':2, '121':2, '10001':1, '10002':1, '10003':1,\n",
    "#                                                    '10004':2,'10005':2,'10006':2,'10007':2,'10008':2,'10009':2})\n",
    "#UF15 = tabela15[tabela15['CO_UF_CURSO']==31]\n",
    "\n",
    "tabela15 = tabela15.loc[(tabela15['CO_CATEGAD'].notnull())]\n",
    "tabela15['CO_CATEGAD'] = tabela15['CO_CATEGAD'].map({93: 1, 115:1, 116:1, 118:2, 121:2, 10001:1, 10002:1, 10003:1,\n",
    "                                                    10004:2,10005:2,10006:2,10007:2,10008:2,10009:2})\n",
    "\n",
    "CAT15Pub = tabela15[tabela15['CO_CATEGAD']==1]\n",
    "CAT15Pub.describe()"
   ]
  },
  {
   "cell_type": "code",
   "execution_count": 52,
   "metadata": {},
   "outputs": [
    {
     "data": {
      "text/html": [
       "<div>\n",
       "<style scoped>\n",
       "    .dataframe tbody tr th:only-of-type {\n",
       "        vertical-align: middle;\n",
       "    }\n",
       "\n",
       "    .dataframe tbody tr th {\n",
       "        vertical-align: top;\n",
       "    }\n",
       "\n",
       "    .dataframe thead th {\n",
       "        text-align: right;\n",
       "    }\n",
       "</style>\n",
       "<table border=\"1\" class=\"dataframe\">\n",
       "  <thead>\n",
       "    <tr style=\"text-align: right;\">\n",
       "      <th></th>\n",
       "      <th>NT_GER</th>\n",
       "      <th>CO_CATEGAD</th>\n",
       "      <th>CO_UF_CURSO</th>\n",
       "      <th>QE_I08</th>\n",
       "      <th>QE_I10</th>\n",
       "    </tr>\n",
       "  </thead>\n",
       "  <tbody>\n",
       "    <tr>\n",
       "      <th>count</th>\n",
       "      <td>384368.000000</td>\n",
       "      <td>384368.0</td>\n",
       "      <td>384368.000000</td>\n",
       "      <td>384368.000000</td>\n",
       "      <td>384368.000000</td>\n",
       "    </tr>\n",
       "    <tr>\n",
       "      <th>mean</th>\n",
       "      <td>43.602015</td>\n",
       "      <td>2.0</td>\n",
       "      <td>35.543625</td>\n",
       "      <td>3.398553</td>\n",
       "      <td>3.545488</td>\n",
       "    </tr>\n",
       "    <tr>\n",
       "      <th>std</th>\n",
       "      <td>13.525347</td>\n",
       "      <td>0.0</td>\n",
       "      <td>8.589780</td>\n",
       "      <td>1.616955</td>\n",
       "      <td>1.726588</td>\n",
       "    </tr>\n",
       "    <tr>\n",
       "      <th>min</th>\n",
       "      <td>0.000000</td>\n",
       "      <td>2.0</td>\n",
       "      <td>11.000000</td>\n",
       "      <td>1.000000</td>\n",
       "      <td>1.000000</td>\n",
       "    </tr>\n",
       "    <tr>\n",
       "      <th>25%</th>\n",
       "      <td>33.900000</td>\n",
       "      <td>2.0</td>\n",
       "      <td>31.000000</td>\n",
       "      <td>2.000000</td>\n",
       "      <td>1.000000</td>\n",
       "    </tr>\n",
       "    <tr>\n",
       "      <th>50%</th>\n",
       "      <td>42.800000</td>\n",
       "      <td>2.0</td>\n",
       "      <td>35.000000</td>\n",
       "      <td>3.000000</td>\n",
       "      <td>5.000000</td>\n",
       "    </tr>\n",
       "    <tr>\n",
       "      <th>75%</th>\n",
       "      <td>52.800000</td>\n",
       "      <td>2.0</td>\n",
       "      <td>41.000000</td>\n",
       "      <td>5.000000</td>\n",
       "      <td>5.000000</td>\n",
       "    </tr>\n",
       "    <tr>\n",
       "      <th>max</th>\n",
       "      <td>95.400000</td>\n",
       "      <td>2.0</td>\n",
       "      <td>53.000000</td>\n",
       "      <td>7.000000</td>\n",
       "      <td>5.000000</td>\n",
       "    </tr>\n",
       "  </tbody>\n",
       "</table>\n",
       "</div>"
      ],
      "text/plain": [
       "              NT_GER  CO_CATEGAD    CO_UF_CURSO         QE_I08         QE_I10\n",
       "count  384368.000000    384368.0  384368.000000  384368.000000  384368.000000\n",
       "mean       43.602015         2.0      35.543625       3.398553       3.545488\n",
       "std        13.525347         0.0       8.589780       1.616955       1.726588\n",
       "min         0.000000         2.0      11.000000       1.000000       1.000000\n",
       "25%        33.900000         2.0      31.000000       2.000000       1.000000\n",
       "50%        42.800000         2.0      35.000000       3.000000       5.000000\n",
       "75%        52.800000         2.0      41.000000       5.000000       5.000000\n",
       "max        95.400000         2.0      53.000000       7.000000       5.000000"
      ]
     },
     "execution_count": 52,
     "metadata": {},
     "output_type": "execute_result"
    }
   ],
   "source": [
    "CAT15Priv = tabela15[tabela15['CO_CATEGAD']==2]\n",
    "CAT15Priv.describe()"
   ]
  },
  {
   "cell_type": "code",
   "execution_count": 53,
   "metadata": {},
   "outputs": [
    {
     "data": {
      "text/plain": [
       "count    384368.000000\n",
       "mean         43.602015\n",
       "std          13.525347\n",
       "min           0.000000\n",
       "25%          33.900000\n",
       "50%          42.800000\n",
       "75%          52.800000\n",
       "max          95.400000\n",
       "Name: NT_GER, dtype: float64"
      ]
     },
     "execution_count": 53,
     "metadata": {},
     "output_type": "execute_result"
    }
   ],
   "source": [
    "#somente as notas de quem respondeu a questão sobre a renda\n",
    "CAT15Priv=CAT15Priv.loc[(CAT15Priv['QE_I08'].notnull())]\n",
    "CAT15Priv.NT_GER.describe()"
   ]
  },
  {
   "cell_type": "code",
   "execution_count": 54,
   "metadata": {},
   "outputs": [
    {
     "data": {
      "text/plain": [
       "count    384368.000000\n",
       "mean         43.602015\n",
       "std          13.525347\n",
       "min           0.000000\n",
       "25%          33.900000\n",
       "50%          42.800000\n",
       "75%          52.800000\n",
       "max          95.400000\n",
       "Name: NT_GER, dtype: float64"
      ]
     },
     "execution_count": 54,
     "metadata": {},
     "output_type": "execute_result"
    }
   ],
   "source": [
    "#somente as notas de quem respondeu a questão sobre a situacao de trabalho\n",
    "CAT15Priv=CAT15Priv.loc[(CAT15Priv['QE_I10'].notnull())]\n",
    "CAT15Priv.NT_GER.describe()"
   ]
  },
  {
   "cell_type": "code",
   "execution_count": 55,
   "metadata": {},
   "outputs": [
    {
     "data": {
      "text/plain": [
       "3540    6\n",
       "3541    3\n",
       "3542    6\n",
       "3543    5\n",
       "3544    6\n",
       "3547    2\n",
       "3548    5\n",
       "3549    6\n",
       "3550    5\n",
       "3551    2\n",
       "Name: QE_I08, dtype: int64"
      ]
     },
     "execution_count": 55,
     "metadata": {},
     "output_type": "execute_result"
    }
   ],
   "source": [
    "CAT15Priv.QE_I08.head(10)"
   ]
  },
  {
   "cell_type": "code",
   "execution_count": 56,
   "metadata": {},
   "outputs": [
    {
     "data": {
      "text/plain": [
       "3540    5\n",
       "3541    3\n",
       "3542    2\n",
       "3543    3\n",
       "3544    1\n",
       "3547    1\n",
       "3548    1\n",
       "3549    4\n",
       "3550    1\n",
       "3551    1\n",
       "Name: QE_I10, dtype: int64"
      ]
     },
     "execution_count": 56,
     "metadata": {},
     "output_type": "execute_result"
    }
   ],
   "source": [
    "CAT15Priv.QE_I10.head(10)"
   ]
  },
  {
   "cell_type": "code",
   "execution_count": 57,
   "metadata": {},
   "outputs": [
    {
     "data": {
      "text/plain": [
       "count    62152.000000\n",
       "mean        50.214968\n",
       "std         15.270897\n",
       "min          0.000000\n",
       "25%         39.700000\n",
       "50%         50.700000\n",
       "75%         61.400000\n",
       "max         95.500000\n",
       "Name: NT_GER, dtype: float64"
      ]
     },
     "execution_count": 57,
     "metadata": {},
     "output_type": "execute_result"
    }
   ],
   "source": [
    "#somente as notas de quem respondeu a questão sobre a situação de trabalho\n",
    "#2015 publica\n",
    "CAT15Pub=CAT15Pub.loc[(CAT15Pub['QE_I10'].notnull())]\n",
    "CAT15Pub.NT_GER.describe()"
   ]
  },
  {
   "cell_type": "code",
   "execution_count": 58,
   "metadata": {},
   "outputs": [
    {
     "data": {
      "text/plain": [
       "count    62152.000000\n",
       "mean        50.214968\n",
       "std         15.270897\n",
       "min          0.000000\n",
       "25%         39.700000\n",
       "50%         50.700000\n",
       "75%         61.400000\n",
       "max         95.500000\n",
       "Name: NT_GER, dtype: float64"
      ]
     },
     "execution_count": 58,
     "metadata": {},
     "output_type": "execute_result"
    }
   ],
   "source": [
    "#somente as notas de quem respondeu a questão sobre a renda\n",
    "CAT15Pub=CAT15Pub.loc[(CAT15Pub['QE_I08'].notnull())]\n",
    "CAT15Pub.NT_GER.describe()"
   ]
  },
  {
   "cell_type": "code",
   "execution_count": 59,
   "metadata": {},
   "outputs": [
    {
     "data": {
      "text/plain": [
       "1     5\n",
       "2     5\n",
       "3     4\n",
       "4     6\n",
       "5     1\n",
       "6     6\n",
       "7     5\n",
       "8     6\n",
       "9     4\n",
       "10    4\n",
       "Name: QE_I08, dtype: int64"
      ]
     },
     "execution_count": 59,
     "metadata": {},
     "output_type": "execute_result"
    }
   ],
   "source": [
    "CAT15Pub.QE_I08.head(10)"
   ]
  },
  {
   "cell_type": "code",
   "execution_count": 60,
   "metadata": {},
   "outputs": [
    {
     "data": {
      "text/plain": [
       "1     4\n",
       "2     1\n",
       "3     4\n",
       "4     4\n",
       "5     1\n",
       "6     5\n",
       "7     1\n",
       "8     1\n",
       "9     1\n",
       "10    5\n",
       "Name: QE_I10, dtype: int64"
      ]
     },
     "execution_count": 60,
     "metadata": {},
     "output_type": "execute_result"
    }
   ],
   "source": [
    "CAT15Pub.QE_I10.head(10)"
   ]
  },
  {
   "cell_type": "code",
   "execution_count": 61,
   "metadata": {},
   "outputs": [
    {
     "data": {
      "image/png": "[encoded data removed]",
      "text/plain": [
       "<Figure size 432x288 with 1 Axes>"
      ]
     },
     "metadata": {},
     "output_type": "display_data"
    }
   ],
   "source": [
    "import matplotlib.pyplot as plt\n",
    "#visualmente\n",
    "plt.scatter( CAT15Pub.NT_GER, CAT15Pub.QE_I08)\n",
    "plt.ylabel('Faixa de renda')\n",
    "plt.xlabel('Nota FEDERAL.')\n",
    "plt.show()"
   ]
  },
  {
   "cell_type": "code",
   "execution_count": 62,
   "metadata": {},
   "outputs": [
    {
     "data": {
      "image/png": "[encoded data removed]",
      "text/plain": [
       "<Figure size 432x288 with 1 Axes>"
      ]
     },
     "metadata": {},
     "output_type": "display_data"
    }
   ],
   "source": [
    "import matplotlib.pyplot as plt\n",
    "#visualmente\n",
    "plt.scatter( CAT15Priv.NT_GER, CAT15Priv.QE_I08)\n",
    "plt.ylabel('Faixa de renda')\n",
    "plt.xlabel('Nota privada.')\n",
    "plt.show()"
   ]
  },
  {
   "cell_type": "code",
   "execution_count": 63,
   "metadata": {},
   "outputs": [
    {
     "data": {
      "image/png": "[encoded data removed]",
      "text/plain": [
       "<Figure size 432x288 with 1 Axes>"
      ]
     },
     "metadata": {},
     "output_type": "display_data"
    }
   ],
   "source": [
    "import matplotlib.pyplot as plt\n",
    "#visualmente\n",
    "plt.scatter( CAT15Pub.NT_GER, CAT15Pub.QE_I10)\n",
    "plt.ylabel('Situação de trabalho')\n",
    "plt.xlabel('Nota FEDERAL.')\n",
    "plt.show()"
   ]
  },
  {
   "cell_type": "code",
   "execution_count": 64,
   "metadata": {},
   "outputs": [
    {
     "data": {
      "image/png": "[encoded data removed]",
      "text/plain": [
       "<Figure size 432x288 with 1 Axes>"
      ]
     },
     "metadata": {},
     "output_type": "display_data"
    }
   ],
   "source": [
    "import matplotlib.pyplot as plt\n",
    "#visualmente\n",
    "plt.scatter( CAT15Priv.NT_GER, CAT15Priv.QE_I10)\n",
    "plt.ylabel('Situação de trabalho')\n",
    "plt.xlabel('Nota privada.')\n",
    "plt.show('2015')"
   ]
  },
  {
   "cell_type": "code",
   "execution_count": 65,
   "metadata": {},
   "outputs": [
    {
     "data": {
      "text/plain": [
       "<matplotlib.axes._subplots.AxesSubplot at 0x1f65a001be0>"
      ]
     },
     "execution_count": 65,
     "metadata": {},
     "output_type": "execute_result"
    },
    {
     "data": {
      "image/png": "[encoded data removed]",
      "text/plain": [
       "<Figure size 432x288 with 1 Axes>"
      ]
     },
     "metadata": {},
     "output_type": "display_data"
    }
   ],
   "source": [
    "pub10 = pandas.DataFrame(CAT15Pub, columns=['NT_GER', 'QE_I10'])\n",
    "pub10.boxplot(by='QE_I10')\n"
   ]
  },
  {
   "cell_type": "code",
   "execution_count": 66,
   "metadata": {},
   "outputs": [
    {
     "data": {
      "text/plain": [
       "<matplotlib.axes._subplots.AxesSubplot at 0x1f64e8146a0>"
      ]
     },
     "execution_count": 66,
     "metadata": {},
     "output_type": "execute_result"
    },
    {
     "data": {
      "image/png": "[encoded data removed]",
      "text/plain": [
       "<Figure size 432x288 with 1 Axes>"
      ]
     },
     "metadata": {},
     "output_type": "display_data"
    }
   ],
   "source": [
    "pub08 = pandas.DataFrame(CAT15Pub, columns=['NT_GER', 'QE_I08'])\n",
    "pub08.boxplot(by='QE_I08')"
   ]
  },
  {
   "cell_type": "code",
   "execution_count": 67,
   "metadata": {},
   "outputs": [
    {
     "data": {
      "text/plain": [
       "<matplotlib.axes._subplots.AxesSubplot at 0x1f653121f98>"
      ]
     },
     "execution_count": 67,
     "metadata": {},
     "output_type": "execute_result"
    },
    {
     "data": {
      "image/png": "[encoded data removed]",
      "text/plain": [
       "<Figure size 432x288 with 1 Axes>"
      ]
     },
     "metadata": {},
     "output_type": "display_data"
    }
   ],
   "source": [
    "priv10 = pandas.DataFrame(CAT15Priv, columns=['NT_GER', 'QE_I10'])\n",
    "#priv10.head(10)\n",
    "#qe22.boxplot(by='QE_I10')\n",
    "priv10.boxplot(by='QE_I10')"
   ]
  },
  {
   "cell_type": "code",
   "execution_count": 68,
   "metadata": {},
   "outputs": [
    {
     "data": {
      "text/plain": [
       "<matplotlib.axes._subplots.AxesSubplot at 0x1f639687a20>"
      ]
     },
     "execution_count": 68,
     "metadata": {},
     "output_type": "execute_result"
    },
    {
     "data": {
      "image/png": "[encoded data removed]",
      "text/plain": [
       "<Figure size 432x288 with 1 Axes>"
      ]
     },
     "metadata": {},
     "output_type": "display_data"
    }
   ],
   "source": [
    "priv08 = pandas.DataFrame(CAT15Priv, columns=['NT_GER', 'QE_I08'])\n",
    "priv08.boxplot(by='QE_I08')"
   ]
  },
  {
   "cell_type": "code",
   "execution_count": 69,
   "metadata": {},
   "outputs": [
    {
     "name": "stdout",
     "output_type": "stream",
     "text": [
      "count    23239.000000\n",
      "mean        48.279689\n",
      "std         14.654082\n",
      "min          0.000000\n",
      "25%         37.900000\n",
      "50%         48.100000\n",
      "75%         58.700000\n",
      "max         94.400000\n",
      "Name: NT_GER, dtype: float64\n"
     ]
    }
   ],
   "source": [
    "'''DOS ESTUDANTES DE ESCOLA PÚBLICA QUE TRABALHAM >=40 HORAS POR SEMANA '''\n",
    "trabalhopub1=pub10.loc[pub10.QE_I10 ==5]\n",
    "print(trabalhopub1.NT_GER.describe())\n"
   ]
  },
  {
   "cell_type": "code",
   "execution_count": 70,
   "metadata": {},
   "outputs": [
    {
     "data": {
      "text/plain": [
       "<matplotlib.axes._subplots.AxesSubplot at 0x1f651fde278>"
      ]
     },
     "execution_count": 70,
     "metadata": {},
     "output_type": "execute_result"
    },
    {
     "data": {
      "image/png": "[encoded data removed]",
      "text/plain": [
       "<Figure size 432x288 with 1 Axes>"
      ]
     },
     "metadata": {},
     "output_type": "display_data"
    }
   ],
   "source": [
    "#40 horas\n",
    "a=pandas.DataFrame(trabalhopub1, columns=['NT_GER', 'QE_I10'])\n",
    "a.boxplot(by='QE_I10')"
   ]
  },
  {
   "cell_type": "code",
   "execution_count": 71,
   "metadata": {},
   "outputs": [
    {
     "name": "stdout",
     "output_type": "stream",
     "text": [
      "count    195602.000000\n",
      "mean         42.997575\n",
      "std          13.170562\n",
      "min           0.000000\n",
      "25%          33.600000\n",
      "50%          42.200000\n",
      "75%          51.800000\n",
      "max          92.900000\n",
      "Name: NT_GER, dtype: float64\n"
     ]
    }
   ],
   "source": [
    "'''DOS ESTUDANTES DE ESCOLA PRIVADA QUE TRABALHAM >=40 HORAS POR SEMANA '''\n",
    "trabalhopriv1=priv10.loc[priv10.QE_I10 ==5]\n",
    "print(trabalhopriv1.NT_GER.describe())"
   ]
  },
  {
   "cell_type": "code",
   "execution_count": 72,
   "metadata": {},
   "outputs": [
    {
     "data": {
      "text/plain": [
       "<matplotlib.axes._subplots.AxesSubplot at 0x1f643dd03c8>"
      ]
     },
     "execution_count": 72,
     "metadata": {},
     "output_type": "execute_result"
    },
    {
     "data": {
      "image/png": "[encoded data removed]",
      "text/plain": [
       "<Figure size 432x288 with 1 Axes>"
      ]
     },
     "metadata": {},
     "output_type": "display_data"
    }
   ],
   "source": [
    "#40 horas\n",
    "a=pandas.DataFrame(trabalhopriv1, columns=['NT_GER', 'QE_I10'])\n",
    "a.boxplot(by='QE_I10')"
   ]
  },
  {
   "cell_type": "code",
   "execution_count": 73,
   "metadata": {},
   "outputs": [
    {
     "name": "stdout",
     "output_type": "stream",
     "text": [
      "count    23322.000000\n",
      "mean        51.969008\n",
      "std         15.457342\n",
      "min          0.000000\n",
      "25%         41.700000\n",
      "50%         53.000000\n",
      "75%         63.300000\n",
      "max         93.100000\n",
      "Name: NT_GER, dtype: float64\n"
     ]
    }
   ],
   "source": [
    "'''DOS ESTUDANTES DE ESCOLA PÚBLICA QUE NAO TRABALHAM '''\n",
    "trabalhopub=pub10.loc[pub10.QE_I10 ==1]\n",
    "print(trabalhopub.NT_GER.describe())\n"
   ]
  },
  {
   "cell_type": "code",
   "execution_count": 74,
   "metadata": {},
   "outputs": [
    {
     "data": {
      "text/plain": [
       "<matplotlib.axes._subplots.AxesSubplot at 0x1f635eeb198>"
      ]
     },
     "execution_count": 74,
     "metadata": {},
     "output_type": "execute_result"
    },
    {
     "data": {
      "image/png": "[encoded data removed]",
      "text/plain": [
       "<Figure size 432x288 with 1 Axes>"
      ]
     },
     "metadata": {},
     "output_type": "display_data"
    }
   ],
   "source": [
    "a=pandas.DataFrame(trabalhopub, columns=['NT_GER', 'QE_I10'])\n",
    "a.boxplot(by='QE_I10')"
   ]
  },
  {
   "cell_type": "code",
   "execution_count": 75,
   "metadata": {},
   "outputs": [
    {
     "name": "stdout",
     "output_type": "stream",
     "text": [
      "count    103282.000000\n",
      "mean         44.721633\n",
      "std          13.759438\n",
      "min           0.000000\n",
      "25%          34.800000\n",
      "50%          44.100000\n",
      "75%          54.300000\n",
      "max          92.900000\n",
      "Name: NT_GER, dtype: float64\n"
     ]
    }
   ],
   "source": [
    "'''DOS ESTUDANTES DE ESCOLA PRIVADA QUE NAO TRABALHAM '''\n",
    "trabalhopriv=priv10.loc[priv10.QE_I10 ==1]\n",
    "print(trabalhopriv.NT_GER.describe())"
   ]
  },
  {
   "cell_type": "code",
   "execution_count": 76,
   "metadata": {},
   "outputs": [
    {
     "data": {
      "text/plain": [
       "<matplotlib.axes._subplots.AxesSubplot at 0x1f62dd78320>"
      ]
     },
     "execution_count": 76,
     "metadata": {},
     "output_type": "execute_result"
    },
    {
     "data": {
      "image/png": "[encoded data removed]",
      "text/plain": [
       "<Figure size 432x288 with 1 Axes>"
      ]
     },
     "metadata": {},
     "output_type": "display_data"
    }
   ],
   "source": [
    "#não trabalham\n",
    "a=pandas.DataFrame(trabalhopriv, columns=['NT_GER', 'QE_I10'])\n",
    "a.boxplot(by='QE_I10')"
   ]
  },
  {
   "cell_type": "code",
   "execution_count": 78,
   "metadata": {},
   "outputs": [
    {
     "name": "stdout",
     "output_type": "stream",
     "text": [
      "count    6075.000000\n",
      "mean       44.671539\n",
      "std        14.316242\n",
      "min         0.000000\n",
      "25%        34.700000\n",
      "50%        44.300000\n",
      "75%        54.650000\n",
      "max        89.400000\n",
      "Name: NT_GER, dtype: float64\n"
     ]
    }
   ],
   "source": [
    "\"\"\" DOS ESTUDANTES DE ESCOLA PUBLICA COM A RENDA DE ATÉ 1,5 SALÁRIO MINIMO\"\"\"\n",
    "rendapub1=pub08.loc[pub08.QE_I08 ==1]\n",
    "print(rendapub1.NT_GER.describe())"
   ]
  },
  {
   "cell_type": "code",
   "execution_count": 79,
   "metadata": {},
   "outputs": [
    {
     "data": {
      "text/plain": [
       "<matplotlib.axes._subplots.AxesSubplot at 0x1f6544fa240>"
      ]
     },
     "execution_count": 79,
     "metadata": {},
     "output_type": "execute_result"
    },
    {
     "data": {
      "image/png": "[encoded data removed]",
      "text/plain": [
       "<Figure size 432x288 with 1 Axes>"
      ]
     },
     "metadata": {},
     "output_type": "display_data"
    }
   ],
   "source": [
    "a=pandas.DataFrame(rendapub1, columns=['NT_GER', 'QE_I08'])\n",
    "a.boxplot(by='QE_I08')"
   ]
  },
  {
   "cell_type": "code",
   "execution_count": 80,
   "metadata": {},
   "outputs": [
    {
     "name": "stdout",
     "output_type": "stream",
     "text": [
      "count    40126.000000\n",
      "mean        39.963278\n",
      "std         12.953256\n",
      "min          0.000000\n",
      "25%         30.700000\n",
      "50%         38.800000\n",
      "75%         48.200000\n",
      "max         88.000000\n",
      "Name: NT_GER, dtype: float64\n"
     ]
    }
   ],
   "source": [
    "\"\"\" DOS ESTUDANTES DE ESCOLA PRIVADA COM A RENDA DE ATÉ 1,5 SALÁRIO MINIMO\"\"\"\n",
    "rendapriv1=priv08.loc[priv08.QE_I08 ==1]\n",
    "print(rendapriv1.NT_GER.describe())"
   ]
  },
  {
   "cell_type": "code",
   "execution_count": 82,
   "metadata": {},
   "outputs": [
    {
     "data": {
      "text/plain": [
       "<matplotlib.axes._subplots.AxesSubplot at 0x1f643dd8400>"
      ]
     },
     "execution_count": 82,
     "metadata": {},
     "output_type": "execute_result"
    },
    {
     "data": {
      "image/png": "[encoded data removed]",
      "text/plain": [
       "<Figure size 432x288 with 1 Axes>"
      ]
     },
     "metadata": {},
     "output_type": "display_data"
    }
   ],
   "source": [
    "a=pandas.DataFrame(rendapriv1, columns=['NT_GER', 'QE_I08'])\n",
    "a.boxplot(by='QE_I08')"
   ]
  },
  {
   "cell_type": "code",
   "execution_count": 83,
   "metadata": {},
   "outputs": [
    {
     "name": "stdout",
     "output_type": "stream",
     "text": [
      "count    9606.000000\n",
      "mean       55.109536\n",
      "std        15.427382\n",
      "min         0.000000\n",
      "25%        45.400000\n",
      "50%        56.800000\n",
      "75%        66.475000\n",
      "max        93.100000\n",
      "Name: NT_GER, dtype: float64\n"
     ]
    }
   ],
   "source": [
    "\"\"\" DOS ESTUDANTES DE ESCOLA PUBLICA COM A RENDA DE 10 a 30 SALÁRIOS MINIMOS\"\"\"\n",
    "rendapub=pub08.loc[pub08.QE_I08 == 6]\n",
    "print(rendapub.NT_GER.describe())"
   ]
  },
  {
   "cell_type": "code",
   "execution_count": 84,
   "metadata": {},
   "outputs": [
    {
     "data": {
      "text/plain": [
       "<matplotlib.axes._subplots.AxesSubplot at 0x1f64f988278>"
      ]
     },
     "execution_count": 84,
     "metadata": {},
     "output_type": "execute_result"
    },
    {
     "data": {
      "image/png": "[encoded data removed]",
      "text/plain": [
       "<Figure size 432x288 with 1 Axes>"
      ]
     },
     "metadata": {},
     "output_type": "display_data"
    }
   ],
   "source": [
    "a=pandas.DataFrame(rendapub, columns=['NT_GER', 'QE_I08'])\n",
    "a.boxplot(by='QE_I08')"
   ]
  },
  {
   "cell_type": "code",
   "execution_count": 85,
   "metadata": {},
   "outputs": [
    {
     "name": "stdout",
     "output_type": "stream",
     "text": [
      "count    39848.000000\n",
      "mean        48.162794\n",
      "std         14.525457\n",
      "min          0.000000\n",
      "25%         37.700000\n",
      "50%         48.200000\n",
      "75%         58.700000\n",
      "max         92.600000\n",
      "Name: NT_GER, dtype: float64\n"
     ]
    }
   ],
   "source": [
    "\"\"\" DOS ESTUDANTES DE ESCOLA PRIVADA COM A RENDA DE 10 a 30 SALÁRIOS MINIMOS\"\"\"\n",
    "rendapriv=priv08.loc[priv08.QE_I08 == 6]\n",
    "print(rendapriv.NT_GER.describe())"
   ]
  },
  {
   "cell_type": "code",
   "execution_count": 86,
   "metadata": {},
   "outputs": [
    {
     "data": {
      "text/plain": [
       "<matplotlib.axes._subplots.AxesSubplot at 0x1f62cdcec88>"
      ]
     },
     "execution_count": 86,
     "metadata": {},
     "output_type": "execute_result"
    },
    {
     "data": {
      "image/png": "[encoded data removed]",
      "text/plain": [
       "<Figure size 432x288 with 1 Axes>"
      ]
     },
     "metadata": {},
     "output_type": "display_data"
    }
   ],
   "source": [
    "a=pandas.DataFrame(rendapriv, columns=['NT_GER', 'QE_I08'])\n",
    "a.boxplot(by='QE_I08')"
   ]
  },
  {
   "cell_type": "code",
   "execution_count": null,
   "metadata": {},
   "outputs": [],
   "source": []
  }
 ],
 "metadata": {
  "kernelspec": {
   "display_name": "Python 3",
   "language": "python",
   "name": "python3"
  },
  "language_info": {
   "codemirror_mode": {
    "name": "ipython",
    "version": 3
   },
   "file_extension": ".py",
   "mimetype": "text/x-python",
   "name": "python",
   "nbconvert_exporter": "python",
   "pygments_lexer": "ipython3",
   "version": "3.6.5"
  }
 },
 "nbformat": 4,
 "nbformat_minor": 2
}
