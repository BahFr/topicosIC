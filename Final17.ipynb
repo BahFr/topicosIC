{
 "cells": [
  {
   "cell_type": "code",
   "execution_count": 2,
   "metadata": {},
   "outputs": [
    {
     "data": {
      "text/plain": [
       "(537436, 150)"
      ]
     },
     "execution_count": 2,
     "metadata": {},
     "output_type": "execute_result"
    }
   ],
   "source": [
    "import pandas\n",
    "import matplotlib.pyplot as plt\n",
    "import scipy.stats as stats\n",
    "enade2017=pandas.read_csv(\"MICRODADOS_ENADE_2017.txt\", sep=';',dtype={\"DS_VT_ESC_OFG\": str, \n",
    "                                                                               'DS_VT_ESC_OCE':str,\n",
    "                                                                              'DS_VT_ACE_OCE':str,\n",
    "                                                                              'NT_GER':str,\n",
    "                                                                              'NT_FG':str,\n",
    "                                                                              'NT_OBJ_FG':str,\n",
    "                                                                              'NT_DIS_FG':str,\n",
    "                                                                              'NT_CE':str,\n",
    "                                                                              'NT_OBJ_CE':str,\n",
    "                                                                              'NT_DIS_CE':str})\n",
    "enade2017.shape"
   ]
  },
  {
   "cell_type": "code",
   "execution_count": 3,
   "metadata": {},
   "outputs": [
    {
     "data": {
      "text/html": [
       "<div>\n",
       "<style scoped>\n",
       "    .dataframe tbody tr th:only-of-type {\n",
       "        vertical-align: middle;\n",
       "    }\n",
       "\n",
       "    .dataframe tbody tr th {\n",
       "        vertical-align: top;\n",
       "    }\n",
       "\n",
       "    .dataframe thead th {\n",
       "        text-align: right;\n",
       "    }\n",
       "</style>\n",
       "<table border=\"1\" class=\"dataframe\">\n",
       "  <thead>\n",
       "    <tr style=\"text-align: right;\">\n",
       "      <th></th>\n",
       "      <th>NU_ANO</th>\n",
       "      <th>CO_IES</th>\n",
       "      <th>CO_CATEGAD</th>\n",
       "      <th>CO_ORGACAD</th>\n",
       "      <th>CO_GRUPO</th>\n",
       "      <th>CO_CURSO</th>\n",
       "      <th>CO_MODALIDADE</th>\n",
       "      <th>CO_MUNIC_CURSO</th>\n",
       "      <th>CO_UF_CURSO</th>\n",
       "      <th>CO_REGIAO_CURSO</th>\n",
       "      <th>...</th>\n",
       "      <th>QE_I72</th>\n",
       "      <th>QE_I73</th>\n",
       "      <th>QE_I74</th>\n",
       "      <th>QE_I75</th>\n",
       "      <th>QE_I76</th>\n",
       "      <th>QE_I77</th>\n",
       "      <th>QE_I78</th>\n",
       "      <th>QE_I79</th>\n",
       "      <th>QE_I80</th>\n",
       "      <th>QE_I81</th>\n",
       "    </tr>\n",
       "  </thead>\n",
       "  <tbody>\n",
       "    <tr>\n",
       "      <th>41</th>\n",
       "      <td>2017</td>\n",
       "      <td>1</td>\n",
       "      <td>1</td>\n",
       "      <td>10028</td>\n",
       "      <td>2001</td>\n",
       "      <td>6</td>\n",
       "      <td>1</td>\n",
       "      <td>5103403</td>\n",
       "      <td>51</td>\n",
       "      <td>5</td>\n",
       "      <td>...</td>\n",
       "      <td>H</td>\n",
       "      <td>A</td>\n",
       "      <td>B</td>\n",
       "      <td>B</td>\n",
       "      <td>A</td>\n",
       "      <td>C</td>\n",
       "      <td>D</td>\n",
       "      <td>C</td>\n",
       "      <td>B</td>\n",
       "      <td>B</td>\n",
       "    </tr>\n",
       "    <tr>\n",
       "      <th>42</th>\n",
       "      <td>2017</td>\n",
       "      <td>1</td>\n",
       "      <td>1</td>\n",
       "      <td>10028</td>\n",
       "      <td>2001</td>\n",
       "      <td>6</td>\n",
       "      <td>1</td>\n",
       "      <td>5103403</td>\n",
       "      <td>51</td>\n",
       "      <td>5</td>\n",
       "      <td>...</td>\n",
       "      <td>I</td>\n",
       "      <td>A</td>\n",
       "      <td>B</td>\n",
       "      <td>B</td>\n",
       "      <td>A</td>\n",
       "      <td>A</td>\n",
       "      <td>A</td>\n",
       "      <td>A</td>\n",
       "      <td>A</td>\n",
       "      <td>A</td>\n",
       "    </tr>\n",
       "    <tr>\n",
       "      <th>43</th>\n",
       "      <td>2017</td>\n",
       "      <td>1</td>\n",
       "      <td>1</td>\n",
       "      <td>10028</td>\n",
       "      <td>2001</td>\n",
       "      <td>6</td>\n",
       "      <td>1</td>\n",
       "      <td>5103403</td>\n",
       "      <td>51</td>\n",
       "      <td>5</td>\n",
       "      <td>...</td>\n",
       "      <td>I</td>\n",
       "      <td>A</td>\n",
       "      <td>A</td>\n",
       "      <td>A</td>\n",
       "      <td>A</td>\n",
       "      <td>E</td>\n",
       "      <td>C</td>\n",
       "      <td>C</td>\n",
       "      <td>B</td>\n",
       "      <td>B</td>\n",
       "    </tr>\n",
       "    <tr>\n",
       "      <th>44</th>\n",
       "      <td>2017</td>\n",
       "      <td>1</td>\n",
       "      <td>1</td>\n",
       "      <td>10028</td>\n",
       "      <td>2001</td>\n",
       "      <td>6</td>\n",
       "      <td>1</td>\n",
       "      <td>5103403</td>\n",
       "      <td>51</td>\n",
       "      <td>5</td>\n",
       "      <td>...</td>\n",
       "      <td>A</td>\n",
       "      <td>A</td>\n",
       "      <td>B</td>\n",
       "      <td>A</td>\n",
       "      <td>A</td>\n",
       "      <td>A</td>\n",
       "      <td>C</td>\n",
       "      <td>C</td>\n",
       "      <td>C</td>\n",
       "      <td>C</td>\n",
       "    </tr>\n",
       "    <tr>\n",
       "      <th>45</th>\n",
       "      <td>2017</td>\n",
       "      <td>1</td>\n",
       "      <td>1</td>\n",
       "      <td>10028</td>\n",
       "      <td>2001</td>\n",
       "      <td>6</td>\n",
       "      <td>1</td>\n",
       "      <td>5103403</td>\n",
       "      <td>51</td>\n",
       "      <td>5</td>\n",
       "      <td>...</td>\n",
       "      <td>I</td>\n",
       "      <td>A</td>\n",
       "      <td>A</td>\n",
       "      <td>A</td>\n",
       "      <td>C</td>\n",
       "      <td>A</td>\n",
       "      <td>B</td>\n",
       "      <td>B</td>\n",
       "      <td>A</td>\n",
       "      <td>B</td>\n",
       "    </tr>\n",
       "    <tr>\n",
       "      <th>47</th>\n",
       "      <td>2017</td>\n",
       "      <td>1</td>\n",
       "      <td>1</td>\n",
       "      <td>10028</td>\n",
       "      <td>2001</td>\n",
       "      <td>6</td>\n",
       "      <td>1</td>\n",
       "      <td>5103403</td>\n",
       "      <td>51</td>\n",
       "      <td>5</td>\n",
       "      <td>...</td>\n",
       "      <td>A</td>\n",
       "      <td>A</td>\n",
       "      <td>A</td>\n",
       "      <td>A</td>\n",
       "      <td>C</td>\n",
       "      <td>A</td>\n",
       "      <td>B</td>\n",
       "      <td>B</td>\n",
       "      <td>A</td>\n",
       "      <td>A</td>\n",
       "    </tr>\n",
       "    <tr>\n",
       "      <th>48</th>\n",
       "      <td>2017</td>\n",
       "      <td>1</td>\n",
       "      <td>1</td>\n",
       "      <td>10028</td>\n",
       "      <td>2001</td>\n",
       "      <td>6</td>\n",
       "      <td>1</td>\n",
       "      <td>5103403</td>\n",
       "      <td>51</td>\n",
       "      <td>5</td>\n",
       "      <td>...</td>\n",
       "      <td>I</td>\n",
       "      <td>A</td>\n",
       "      <td>B</td>\n",
       "      <td>B</td>\n",
       "      <td>D</td>\n",
       "      <td>A</td>\n",
       "      <td>A</td>\n",
       "      <td>C</td>\n",
       "      <td>B</td>\n",
       "      <td>B</td>\n",
       "    </tr>\n",
       "    <tr>\n",
       "      <th>49</th>\n",
       "      <td>2017</td>\n",
       "      <td>1</td>\n",
       "      <td>1</td>\n",
       "      <td>10028</td>\n",
       "      <td>2001</td>\n",
       "      <td>6</td>\n",
       "      <td>1</td>\n",
       "      <td>5103403</td>\n",
       "      <td>51</td>\n",
       "      <td>5</td>\n",
       "      <td>...</td>\n",
       "      <td>A</td>\n",
       "      <td>A</td>\n",
       "      <td>B</td>\n",
       "      <td>B</td>\n",
       "      <td>D</td>\n",
       "      <td>A</td>\n",
       "      <td>A</td>\n",
       "      <td>A</td>\n",
       "      <td>C</td>\n",
       "      <td>C</td>\n",
       "    </tr>\n",
       "    <tr>\n",
       "      <th>50</th>\n",
       "      <td>2017</td>\n",
       "      <td>1</td>\n",
       "      <td>1</td>\n",
       "      <td>10028</td>\n",
       "      <td>2001</td>\n",
       "      <td>6</td>\n",
       "      <td>1</td>\n",
       "      <td>5103403</td>\n",
       "      <td>51</td>\n",
       "      <td>5</td>\n",
       "      <td>...</td>\n",
       "      <td>I</td>\n",
       "      <td>A</td>\n",
       "      <td>A</td>\n",
       "      <td>A</td>\n",
       "      <td>C</td>\n",
       "      <td>A</td>\n",
       "      <td>A</td>\n",
       "      <td>A</td>\n",
       "      <td>A</td>\n",
       "      <td>A</td>\n",
       "    </tr>\n",
       "    <tr>\n",
       "      <th>52</th>\n",
       "      <td>2017</td>\n",
       "      <td>1</td>\n",
       "      <td>1</td>\n",
       "      <td>10028</td>\n",
       "      <td>2001</td>\n",
       "      <td>6</td>\n",
       "      <td>1</td>\n",
       "      <td>5103403</td>\n",
       "      <td>51</td>\n",
       "      <td>5</td>\n",
       "      <td>...</td>\n",
       "      <td>I</td>\n",
       "      <td>E</td>\n",
       "      <td>A</td>\n",
       "      <td>B</td>\n",
       "      <td>C</td>\n",
       "      <td>A</td>\n",
       "      <td>B</td>\n",
       "      <td>C</td>\n",
       "      <td>A</td>\n",
       "      <td>B</td>\n",
       "    </tr>\n",
       "    <tr>\n",
       "      <th>53</th>\n",
       "      <td>2017</td>\n",
       "      <td>1</td>\n",
       "      <td>1</td>\n",
       "      <td>10028</td>\n",
       "      <td>2001</td>\n",
       "      <td>6</td>\n",
       "      <td>1</td>\n",
       "      <td>5103403</td>\n",
       "      <td>51</td>\n",
       "      <td>5</td>\n",
       "      <td>...</td>\n",
       "      <td>I</td>\n",
       "      <td>A</td>\n",
       "      <td>A</td>\n",
       "      <td>B</td>\n",
       "      <td>C</td>\n",
       "      <td>A</td>\n",
       "      <td>B</td>\n",
       "      <td>C</td>\n",
       "      <td>B</td>\n",
       "      <td>C</td>\n",
       "    </tr>\n",
       "    <tr>\n",
       "      <th>54</th>\n",
       "      <td>2017</td>\n",
       "      <td>1</td>\n",
       "      <td>1</td>\n",
       "      <td>10028</td>\n",
       "      <td>2001</td>\n",
       "      <td>6</td>\n",
       "      <td>1</td>\n",
       "      <td>5103403</td>\n",
       "      <td>51</td>\n",
       "      <td>5</td>\n",
       "      <td>...</td>\n",
       "      <td>I</td>\n",
       "      <td>A</td>\n",
       "      <td>A</td>\n",
       "      <td>B</td>\n",
       "      <td>C</td>\n",
       "      <td>C</td>\n",
       "      <td>B</td>\n",
       "      <td>B</td>\n",
       "      <td>B</td>\n",
       "      <td>B</td>\n",
       "    </tr>\n",
       "    <tr>\n",
       "      <th>55</th>\n",
       "      <td>2017</td>\n",
       "      <td>1</td>\n",
       "      <td>1</td>\n",
       "      <td>10028</td>\n",
       "      <td>2001</td>\n",
       "      <td>6</td>\n",
       "      <td>1</td>\n",
       "      <td>5103403</td>\n",
       "      <td>51</td>\n",
       "      <td>5</td>\n",
       "      <td>...</td>\n",
       "      <td>I</td>\n",
       "      <td>A</td>\n",
       "      <td>A</td>\n",
       "      <td>A</td>\n",
       "      <td>D</td>\n",
       "      <td>A</td>\n",
       "      <td>B</td>\n",
       "      <td>B</td>\n",
       "      <td>A</td>\n",
       "      <td>A</td>\n",
       "    </tr>\n",
       "    <tr>\n",
       "      <th>56</th>\n",
       "      <td>2017</td>\n",
       "      <td>1</td>\n",
       "      <td>1</td>\n",
       "      <td>10028</td>\n",
       "      <td>2001</td>\n",
       "      <td>6</td>\n",
       "      <td>1</td>\n",
       "      <td>5103403</td>\n",
       "      <td>51</td>\n",
       "      <td>5</td>\n",
       "      <td>...</td>\n",
       "      <td>I</td>\n",
       "      <td>A</td>\n",
       "      <td>B</td>\n",
       "      <td>B</td>\n",
       "      <td>B</td>\n",
       "      <td>A</td>\n",
       "      <td>C</td>\n",
       "      <td>B</td>\n",
       "      <td>D</td>\n",
       "      <td>B</td>\n",
       "    </tr>\n",
       "    <tr>\n",
       "      <th>57</th>\n",
       "      <td>2017</td>\n",
       "      <td>1</td>\n",
       "      <td>1</td>\n",
       "      <td>10028</td>\n",
       "      <td>2001</td>\n",
       "      <td>6</td>\n",
       "      <td>1</td>\n",
       "      <td>5103403</td>\n",
       "      <td>51</td>\n",
       "      <td>5</td>\n",
       "      <td>...</td>\n",
       "      <td>I</td>\n",
       "      <td>A</td>\n",
       "      <td>B</td>\n",
       "      <td>A</td>\n",
       "      <td>A</td>\n",
       "      <td>A</td>\n",
       "      <td>B</td>\n",
       "      <td>B</td>\n",
       "      <td>B</td>\n",
       "      <td>A</td>\n",
       "    </tr>\n",
       "    <tr>\n",
       "      <th>58</th>\n",
       "      <td>2017</td>\n",
       "      <td>1</td>\n",
       "      <td>1</td>\n",
       "      <td>10028</td>\n",
       "      <td>2001</td>\n",
       "      <td>6</td>\n",
       "      <td>1</td>\n",
       "      <td>5103403</td>\n",
       "      <td>51</td>\n",
       "      <td>5</td>\n",
       "      <td>...</td>\n",
       "      <td>A</td>\n",
       "      <td>A</td>\n",
       "      <td>A</td>\n",
       "      <td>A</td>\n",
       "      <td>E</td>\n",
       "      <td>A</td>\n",
       "      <td>B</td>\n",
       "      <td>B</td>\n",
       "      <td>B</td>\n",
       "      <td>B</td>\n",
       "    </tr>\n",
       "    <tr>\n",
       "      <th>59</th>\n",
       "      <td>2017</td>\n",
       "      <td>1</td>\n",
       "      <td>1</td>\n",
       "      <td>10028</td>\n",
       "      <td>2001</td>\n",
       "      <td>6</td>\n",
       "      <td>1</td>\n",
       "      <td>5103403</td>\n",
       "      <td>51</td>\n",
       "      <td>5</td>\n",
       "      <td>...</td>\n",
       "      <td>B</td>\n",
       "      <td>A</td>\n",
       "      <td>A</td>\n",
       "      <td>B</td>\n",
       "      <td>C</td>\n",
       "      <td>A</td>\n",
       "      <td>B</td>\n",
       "      <td>B</td>\n",
       "      <td>B</td>\n",
       "      <td>B</td>\n",
       "    </tr>\n",
       "    <tr>\n",
       "      <th>60</th>\n",
       "      <td>2017</td>\n",
       "      <td>1</td>\n",
       "      <td>1</td>\n",
       "      <td>10028</td>\n",
       "      <td>2001</td>\n",
       "      <td>6</td>\n",
       "      <td>1</td>\n",
       "      <td>5103403</td>\n",
       "      <td>51</td>\n",
       "      <td>5</td>\n",
       "      <td>...</td>\n",
       "      <td>A</td>\n",
       "      <td>A</td>\n",
       "      <td>B</td>\n",
       "      <td>A</td>\n",
       "      <td>C</td>\n",
       "      <td>A</td>\n",
       "      <td>C</td>\n",
       "      <td>C</td>\n",
       "      <td>A</td>\n",
       "      <td>A</td>\n",
       "    </tr>\n",
       "    <tr>\n",
       "      <th>61</th>\n",
       "      <td>2017</td>\n",
       "      <td>1</td>\n",
       "      <td>1</td>\n",
       "      <td>10028</td>\n",
       "      <td>2001</td>\n",
       "      <td>6</td>\n",
       "      <td>1</td>\n",
       "      <td>5103403</td>\n",
       "      <td>51</td>\n",
       "      <td>5</td>\n",
       "      <td>...</td>\n",
       "      <td>I</td>\n",
       "      <td>A</td>\n",
       "      <td>B</td>\n",
       "      <td>A</td>\n",
       "      <td>C</td>\n",
       "      <td>E</td>\n",
       "      <td>C</td>\n",
       "      <td>D</td>\n",
       "      <td>C</td>\n",
       "      <td>B</td>\n",
       "    </tr>\n",
       "    <tr>\n",
       "      <th>62</th>\n",
       "      <td>2017</td>\n",
       "      <td>1</td>\n",
       "      <td>1</td>\n",
       "      <td>10028</td>\n",
       "      <td>2001</td>\n",
       "      <td>6</td>\n",
       "      <td>1</td>\n",
       "      <td>5103403</td>\n",
       "      <td>51</td>\n",
       "      <td>5</td>\n",
       "      <td>...</td>\n",
       "      <td>I</td>\n",
       "      <td>A</td>\n",
       "      <td>B</td>\n",
       "      <td>A</td>\n",
       "      <td>C</td>\n",
       "      <td>A</td>\n",
       "      <td>B</td>\n",
       "      <td>B</td>\n",
       "      <td>A</td>\n",
       "      <td>B</td>\n",
       "    </tr>\n",
       "    <tr>\n",
       "      <th>63</th>\n",
       "      <td>2017</td>\n",
       "      <td>1</td>\n",
       "      <td>1</td>\n",
       "      <td>10028</td>\n",
       "      <td>2001</td>\n",
       "      <td>6</td>\n",
       "      <td>1</td>\n",
       "      <td>5103403</td>\n",
       "      <td>51</td>\n",
       "      <td>5</td>\n",
       "      <td>...</td>\n",
       "      <td>I</td>\n",
       "      <td>A</td>\n",
       "      <td>A</td>\n",
       "      <td>B</td>\n",
       "      <td>A</td>\n",
       "      <td>C</td>\n",
       "      <td>C</td>\n",
       "      <td>D</td>\n",
       "      <td>A</td>\n",
       "      <td>B</td>\n",
       "    </tr>\n",
       "    <tr>\n",
       "      <th>64</th>\n",
       "      <td>2017</td>\n",
       "      <td>1</td>\n",
       "      <td>1</td>\n",
       "      <td>10028</td>\n",
       "      <td>2001</td>\n",
       "      <td>6</td>\n",
       "      <td>1</td>\n",
       "      <td>5103403</td>\n",
       "      <td>51</td>\n",
       "      <td>5</td>\n",
       "      <td>...</td>\n",
       "      <td>I</td>\n",
       "      <td>A</td>\n",
       "      <td>B</td>\n",
       "      <td>B</td>\n",
       "      <td>D</td>\n",
       "      <td>A</td>\n",
       "      <td>B</td>\n",
       "      <td>B</td>\n",
       "      <td>A</td>\n",
       "      <td>A</td>\n",
       "    </tr>\n",
       "    <tr>\n",
       "      <th>65</th>\n",
       "      <td>2017</td>\n",
       "      <td>1</td>\n",
       "      <td>1</td>\n",
       "      <td>10028</td>\n",
       "      <td>2001</td>\n",
       "      <td>6</td>\n",
       "      <td>1</td>\n",
       "      <td>5103403</td>\n",
       "      <td>51</td>\n",
       "      <td>5</td>\n",
       "      <td>...</td>\n",
       "      <td>I</td>\n",
       "      <td>D</td>\n",
       "      <td>B</td>\n",
       "      <td>A</td>\n",
       "      <td>C</td>\n",
       "      <td>D</td>\n",
       "      <td>B</td>\n",
       "      <td>B</td>\n",
       "      <td>B</td>\n",
       "      <td>B</td>\n",
       "    </tr>\n",
       "    <tr>\n",
       "      <th>66</th>\n",
       "      <td>2017</td>\n",
       "      <td>1</td>\n",
       "      <td>1</td>\n",
       "      <td>10028</td>\n",
       "      <td>2001</td>\n",
       "      <td>6</td>\n",
       "      <td>1</td>\n",
       "      <td>5103403</td>\n",
       "      <td>51</td>\n",
       "      <td>5</td>\n",
       "      <td>...</td>\n",
       "      <td>I</td>\n",
       "      <td>A</td>\n",
       "      <td>A</td>\n",
       "      <td>A</td>\n",
       "      <td>B</td>\n",
       "      <td>A</td>\n",
       "      <td>B</td>\n",
       "      <td>B</td>\n",
       "      <td>A</td>\n",
       "      <td>A</td>\n",
       "    </tr>\n",
       "    <tr>\n",
       "      <th>67</th>\n",
       "      <td>2017</td>\n",
       "      <td>1</td>\n",
       "      <td>1</td>\n",
       "      <td>10028</td>\n",
       "      <td>2001</td>\n",
       "      <td>6</td>\n",
       "      <td>1</td>\n",
       "      <td>5103403</td>\n",
       "      <td>51</td>\n",
       "      <td>5</td>\n",
       "      <td>...</td>\n",
       "      <td>B</td>\n",
       "      <td>C</td>\n",
       "      <td>B</td>\n",
       "      <td>B</td>\n",
       "      <td>D</td>\n",
       "      <td>A</td>\n",
       "      <td>C</td>\n",
       "      <td>C</td>\n",
       "      <td>B</td>\n",
       "      <td>B</td>\n",
       "    </tr>\n",
       "    <tr>\n",
       "      <th>68</th>\n",
       "      <td>2017</td>\n",
       "      <td>1</td>\n",
       "      <td>1</td>\n",
       "      <td>10028</td>\n",
       "      <td>2001</td>\n",
       "      <td>6</td>\n",
       "      <td>1</td>\n",
       "      <td>5103403</td>\n",
       "      <td>51</td>\n",
       "      <td>5</td>\n",
       "      <td>...</td>\n",
       "      <td>A</td>\n",
       "      <td>A</td>\n",
       "      <td>B</td>\n",
       "      <td>B</td>\n",
       "      <td>B</td>\n",
       "      <td>A</td>\n",
       "      <td>B</td>\n",
       "      <td>B</td>\n",
       "      <td>C</td>\n",
       "      <td>C</td>\n",
       "    </tr>\n",
       "    <tr>\n",
       "      <th>69</th>\n",
       "      <td>2017</td>\n",
       "      <td>1</td>\n",
       "      <td>1</td>\n",
       "      <td>10028</td>\n",
       "      <td>2001</td>\n",
       "      <td>6</td>\n",
       "      <td>1</td>\n",
       "      <td>5103403</td>\n",
       "      <td>51</td>\n",
       "      <td>5</td>\n",
       "      <td>...</td>\n",
       "      <td>I</td>\n",
       "      <td>A</td>\n",
       "      <td>B</td>\n",
       "      <td>C</td>\n",
       "      <td>A</td>\n",
       "      <td>A</td>\n",
       "      <td>B</td>\n",
       "      <td>A</td>\n",
       "      <td>A</td>\n",
       "      <td>A</td>\n",
       "    </tr>\n",
       "    <tr>\n",
       "      <th>70</th>\n",
       "      <td>2017</td>\n",
       "      <td>1</td>\n",
       "      <td>1</td>\n",
       "      <td>10028</td>\n",
       "      <td>2001</td>\n",
       "      <td>6</td>\n",
       "      <td>1</td>\n",
       "      <td>5103403</td>\n",
       "      <td>51</td>\n",
       "      <td>5</td>\n",
       "      <td>...</td>\n",
       "      <td>A</td>\n",
       "      <td>A</td>\n",
       "      <td>B</td>\n",
       "      <td>B</td>\n",
       "      <td>B</td>\n",
       "      <td>A</td>\n",
       "      <td>B</td>\n",
       "      <td>C</td>\n",
       "      <td>C</td>\n",
       "      <td>C</td>\n",
       "    </tr>\n",
       "    <tr>\n",
       "      <th>71</th>\n",
       "      <td>2017</td>\n",
       "      <td>1</td>\n",
       "      <td>1</td>\n",
       "      <td>10028</td>\n",
       "      <td>2001</td>\n",
       "      <td>6</td>\n",
       "      <td>1</td>\n",
       "      <td>5103403</td>\n",
       "      <td>51</td>\n",
       "      <td>5</td>\n",
       "      <td>...</td>\n",
       "      <td>I</td>\n",
       "      <td>A</td>\n",
       "      <td>B</td>\n",
       "      <td>B</td>\n",
       "      <td>B</td>\n",
       "      <td>C</td>\n",
       "      <td>A</td>\n",
       "      <td>A</td>\n",
       "      <td>A</td>\n",
       "      <td>A</td>\n",
       "    </tr>\n",
       "    <tr>\n",
       "      <th>72</th>\n",
       "      <td>2017</td>\n",
       "      <td>1</td>\n",
       "      <td>1</td>\n",
       "      <td>10028</td>\n",
       "      <td>2001</td>\n",
       "      <td>6</td>\n",
       "      <td>1</td>\n",
       "      <td>5103403</td>\n",
       "      <td>51</td>\n",
       "      <td>5</td>\n",
       "      <td>...</td>\n",
       "      <td>I</td>\n",
       "      <td>A</td>\n",
       "      <td>B</td>\n",
       "      <td>B</td>\n",
       "      <td>D</td>\n",
       "      <td>A</td>\n",
       "      <td>C</td>\n",
       "      <td>C</td>\n",
       "      <td>C</td>\n",
       "      <td>C</td>\n",
       "    </tr>\n",
       "    <tr>\n",
       "      <th>...</th>\n",
       "      <td>...</td>\n",
       "      <td>...</td>\n",
       "      <td>...</td>\n",
       "      <td>...</td>\n",
       "      <td>...</td>\n",
       "      <td>...</td>\n",
       "      <td>...</td>\n",
       "      <td>...</td>\n",
       "      <td>...</td>\n",
       "      <td>...</td>\n",
       "      <td>...</td>\n",
       "      <td>...</td>\n",
       "      <td>...</td>\n",
       "      <td>...</td>\n",
       "      <td>...</td>\n",
       "      <td>...</td>\n",
       "      <td>...</td>\n",
       "      <td>...</td>\n",
       "      <td>...</td>\n",
       "      <td>...</td>\n",
       "      <td>...</td>\n",
       "    </tr>\n",
       "    <tr>\n",
       "      <th>534857</th>\n",
       "      <td>2017</td>\n",
       "      <td>666</td>\n",
       "      <td>2</td>\n",
       "      <td>10028</td>\n",
       "      <td>904</td>\n",
       "      <td>5001302</td>\n",
       "      <td>0</td>\n",
       "      <td>2910800</td>\n",
       "      <td>29</td>\n",
       "      <td>2</td>\n",
       "      <td>...</td>\n",
       "      <td>I</td>\n",
       "      <td>A</td>\n",
       "      <td>C</td>\n",
       "      <td>F</td>\n",
       "      <td>D</td>\n",
       "      <td>A</td>\n",
       "      <td>B</td>\n",
       "      <td>B</td>\n",
       "      <td>A</td>\n",
       "      <td>A</td>\n",
       "    </tr>\n",
       "    <tr>\n",
       "      <th>534858</th>\n",
       "      <td>2017</td>\n",
       "      <td>666</td>\n",
       "      <td>2</td>\n",
       "      <td>10028</td>\n",
       "      <td>904</td>\n",
       "      <td>5001302</td>\n",
       "      <td>0</td>\n",
       "      <td>2910800</td>\n",
       "      <td>29</td>\n",
       "      <td>2</td>\n",
       "      <td>...</td>\n",
       "      <td>A</td>\n",
       "      <td>A</td>\n",
       "      <td>C</td>\n",
       "      <td>F</td>\n",
       "      <td>E</td>\n",
       "      <td>A</td>\n",
       "      <td>C</td>\n",
       "      <td>B</td>\n",
       "      <td>A</td>\n",
       "      <td>A</td>\n",
       "    </tr>\n",
       "    <tr>\n",
       "      <th>534859</th>\n",
       "      <td>2017</td>\n",
       "      <td>666</td>\n",
       "      <td>2</td>\n",
       "      <td>10028</td>\n",
       "      <td>904</td>\n",
       "      <td>5001302</td>\n",
       "      <td>0</td>\n",
       "      <td>2910800</td>\n",
       "      <td>29</td>\n",
       "      <td>2</td>\n",
       "      <td>...</td>\n",
       "      <td>I</td>\n",
       "      <td>A</td>\n",
       "      <td>C</td>\n",
       "      <td>F</td>\n",
       "      <td>E</td>\n",
       "      <td>A</td>\n",
       "      <td>A</td>\n",
       "      <td>B</td>\n",
       "      <td>A</td>\n",
       "      <td>A</td>\n",
       "    </tr>\n",
       "    <tr>\n",
       "      <th>534860</th>\n",
       "      <td>2017</td>\n",
       "      <td>666</td>\n",
       "      <td>2</td>\n",
       "      <td>10028</td>\n",
       "      <td>904</td>\n",
       "      <td>5001302</td>\n",
       "      <td>0</td>\n",
       "      <td>2910800</td>\n",
       "      <td>29</td>\n",
       "      <td>2</td>\n",
       "      <td>...</td>\n",
       "      <td>I</td>\n",
       "      <td>A</td>\n",
       "      <td>A</td>\n",
       "      <td>C</td>\n",
       "      <td>C</td>\n",
       "      <td>A</td>\n",
       "      <td>A</td>\n",
       "      <td>A</td>\n",
       "      <td>A</td>\n",
       "      <td>A</td>\n",
       "    </tr>\n",
       "    <tr>\n",
       "      <th>534861</th>\n",
       "      <td>2017</td>\n",
       "      <td>666</td>\n",
       "      <td>2</td>\n",
       "      <td>10028</td>\n",
       "      <td>904</td>\n",
       "      <td>5001302</td>\n",
       "      <td>0</td>\n",
       "      <td>2910800</td>\n",
       "      <td>29</td>\n",
       "      <td>2</td>\n",
       "      <td>...</td>\n",
       "      <td>B</td>\n",
       "      <td>A</td>\n",
       "      <td>B</td>\n",
       "      <td>B</td>\n",
       "      <td>D</td>\n",
       "      <td>C</td>\n",
       "      <td>B</td>\n",
       "      <td>B</td>\n",
       "      <td>B</td>\n",
       "      <td>B</td>\n",
       "    </tr>\n",
       "    <tr>\n",
       "      <th>534862</th>\n",
       "      <td>2017</td>\n",
       "      <td>666</td>\n",
       "      <td>2</td>\n",
       "      <td>10028</td>\n",
       "      <td>904</td>\n",
       "      <td>5001302</td>\n",
       "      <td>0</td>\n",
       "      <td>2910800</td>\n",
       "      <td>29</td>\n",
       "      <td>2</td>\n",
       "      <td>...</td>\n",
       "      <td>C</td>\n",
       "      <td>D</td>\n",
       "      <td>B</td>\n",
       "      <td>C</td>\n",
       "      <td>A</td>\n",
       "      <td>A</td>\n",
       "      <td>B</td>\n",
       "      <td>C</td>\n",
       "      <td>A</td>\n",
       "      <td>A</td>\n",
       "    </tr>\n",
       "    <tr>\n",
       "      <th>534863</th>\n",
       "      <td>2017</td>\n",
       "      <td>1446</td>\n",
       "      <td>4</td>\n",
       "      <td>10020</td>\n",
       "      <td>2001</td>\n",
       "      <td>5001328</td>\n",
       "      <td>0</td>\n",
       "      <td>5300108</td>\n",
       "      <td>53</td>\n",
       "      <td>5</td>\n",
       "      <td>...</td>\n",
       "      <td>I</td>\n",
       "      <td>F</td>\n",
       "      <td>E</td>\n",
       "      <td>I</td>\n",
       "      <td>F</td>\n",
       "      <td>D</td>\n",
       "      <td>A</td>\n",
       "      <td>B</td>\n",
       "      <td>D</td>\n",
       "      <td>D</td>\n",
       "    </tr>\n",
       "    <tr>\n",
       "      <th>534864</th>\n",
       "      <td>2017</td>\n",
       "      <td>1446</td>\n",
       "      <td>4</td>\n",
       "      <td>10020</td>\n",
       "      <td>2001</td>\n",
       "      <td>5001328</td>\n",
       "      <td>0</td>\n",
       "      <td>5300108</td>\n",
       "      <td>53</td>\n",
       "      <td>5</td>\n",
       "      <td>...</td>\n",
       "      <td>B</td>\n",
       "      <td>A</td>\n",
       "      <td>A</td>\n",
       "      <td>B</td>\n",
       "      <td>F</td>\n",
       "      <td>A</td>\n",
       "      <td>B</td>\n",
       "      <td>A</td>\n",
       "      <td>B</td>\n",
       "      <td>A</td>\n",
       "    </tr>\n",
       "    <tr>\n",
       "      <th>534865</th>\n",
       "      <td>2017</td>\n",
       "      <td>1446</td>\n",
       "      <td>4</td>\n",
       "      <td>10020</td>\n",
       "      <td>2001</td>\n",
       "      <td>5001328</td>\n",
       "      <td>0</td>\n",
       "      <td>5300108</td>\n",
       "      <td>53</td>\n",
       "      <td>5</td>\n",
       "      <td>...</td>\n",
       "      <td>B</td>\n",
       "      <td>F</td>\n",
       "      <td>E</td>\n",
       "      <td>I</td>\n",
       "      <td>F</td>\n",
       "      <td>A</td>\n",
       "      <td>B</td>\n",
       "      <td>B</td>\n",
       "      <td>D</td>\n",
       "      <td>D</td>\n",
       "    </tr>\n",
       "    <tr>\n",
       "      <th>534866</th>\n",
       "      <td>2017</td>\n",
       "      <td>1446</td>\n",
       "      <td>4</td>\n",
       "      <td>10020</td>\n",
       "      <td>2001</td>\n",
       "      <td>5001328</td>\n",
       "      <td>0</td>\n",
       "      <td>5300108</td>\n",
       "      <td>53</td>\n",
       "      <td>5</td>\n",
       "      <td>...</td>\n",
       "      <td>A</td>\n",
       "      <td>D</td>\n",
       "      <td>B</td>\n",
       "      <td>C</td>\n",
       "      <td>C</td>\n",
       "      <td>A</td>\n",
       "      <td>A</td>\n",
       "      <td>B</td>\n",
       "      <td>B</td>\n",
       "      <td>B</td>\n",
       "    </tr>\n",
       "    <tr>\n",
       "      <th>534867</th>\n",
       "      <td>2017</td>\n",
       "      <td>1446</td>\n",
       "      <td>4</td>\n",
       "      <td>10020</td>\n",
       "      <td>2001</td>\n",
       "      <td>5001328</td>\n",
       "      <td>0</td>\n",
       "      <td>5300108</td>\n",
       "      <td>53</td>\n",
       "      <td>5</td>\n",
       "      <td>...</td>\n",
       "      <td>I</td>\n",
       "      <td>A</td>\n",
       "      <td>A</td>\n",
       "      <td>A</td>\n",
       "      <td>C</td>\n",
       "      <td>A</td>\n",
       "      <td>A</td>\n",
       "      <td>A</td>\n",
       "      <td>A</td>\n",
       "      <td>A</td>\n",
       "    </tr>\n",
       "    <tr>\n",
       "      <th>534868</th>\n",
       "      <td>2017</td>\n",
       "      <td>1446</td>\n",
       "      <td>4</td>\n",
       "      <td>10020</td>\n",
       "      <td>2001</td>\n",
       "      <td>5001328</td>\n",
       "      <td>0</td>\n",
       "      <td>5300108</td>\n",
       "      <td>53</td>\n",
       "      <td>5</td>\n",
       "      <td>...</td>\n",
       "      <td>A</td>\n",
       "      <td>A</td>\n",
       "      <td>D</td>\n",
       "      <td>A</td>\n",
       "      <td>C</td>\n",
       "      <td>A</td>\n",
       "      <td>B</td>\n",
       "      <td>B</td>\n",
       "      <td>A</td>\n",
       "      <td>A</td>\n",
       "    </tr>\n",
       "    <tr>\n",
       "      <th>534869</th>\n",
       "      <td>2017</td>\n",
       "      <td>1446</td>\n",
       "      <td>4</td>\n",
       "      <td>10020</td>\n",
       "      <td>2001</td>\n",
       "      <td>5001328</td>\n",
       "      <td>0</td>\n",
       "      <td>5300108</td>\n",
       "      <td>53</td>\n",
       "      <td>5</td>\n",
       "      <td>...</td>\n",
       "      <td>B</td>\n",
       "      <td>A</td>\n",
       "      <td>A</td>\n",
       "      <td>B</td>\n",
       "      <td>C</td>\n",
       "      <td>A</td>\n",
       "      <td>B</td>\n",
       "      <td>B</td>\n",
       "      <td>B</td>\n",
       "      <td>A</td>\n",
       "    </tr>\n",
       "    <tr>\n",
       "      <th>534870</th>\n",
       "      <td>2017</td>\n",
       "      <td>1446</td>\n",
       "      <td>4</td>\n",
       "      <td>10020</td>\n",
       "      <td>2001</td>\n",
       "      <td>5001328</td>\n",
       "      <td>0</td>\n",
       "      <td>5300108</td>\n",
       "      <td>53</td>\n",
       "      <td>5</td>\n",
       "      <td>...</td>\n",
       "      <td>A</td>\n",
       "      <td>B</td>\n",
       "      <td>D</td>\n",
       "      <td>A</td>\n",
       "      <td>C</td>\n",
       "      <td>C</td>\n",
       "      <td>B</td>\n",
       "      <td>B</td>\n",
       "      <td>A</td>\n",
       "      <td>A</td>\n",
       "    </tr>\n",
       "    <tr>\n",
       "      <th>534871</th>\n",
       "      <td>2017</td>\n",
       "      <td>1446</td>\n",
       "      <td>4</td>\n",
       "      <td>10020</td>\n",
       "      <td>2001</td>\n",
       "      <td>5001328</td>\n",
       "      <td>0</td>\n",
       "      <td>5300108</td>\n",
       "      <td>53</td>\n",
       "      <td>5</td>\n",
       "      <td>...</td>\n",
       "      <td>H</td>\n",
       "      <td>F</td>\n",
       "      <td>E</td>\n",
       "      <td>I</td>\n",
       "      <td>F</td>\n",
       "      <td>A</td>\n",
       "      <td>B</td>\n",
       "      <td>B</td>\n",
       "      <td>B</td>\n",
       "      <td>B</td>\n",
       "    </tr>\n",
       "    <tr>\n",
       "      <th>534872</th>\n",
       "      <td>2017</td>\n",
       "      <td>1446</td>\n",
       "      <td>4</td>\n",
       "      <td>10020</td>\n",
       "      <td>2001</td>\n",
       "      <td>5001328</td>\n",
       "      <td>0</td>\n",
       "      <td>5300108</td>\n",
       "      <td>53</td>\n",
       "      <td>5</td>\n",
       "      <td>...</td>\n",
       "      <td>I</td>\n",
       "      <td>F</td>\n",
       "      <td>E</td>\n",
       "      <td>I</td>\n",
       "      <td>F</td>\n",
       "      <td>A</td>\n",
       "      <td>A</td>\n",
       "      <td>A</td>\n",
       "      <td>D</td>\n",
       "      <td>D</td>\n",
       "    </tr>\n",
       "    <tr>\n",
       "      <th>534873</th>\n",
       "      <td>2017</td>\n",
       "      <td>1446</td>\n",
       "      <td>4</td>\n",
       "      <td>10020</td>\n",
       "      <td>2001</td>\n",
       "      <td>5001328</td>\n",
       "      <td>0</td>\n",
       "      <td>5300108</td>\n",
       "      <td>53</td>\n",
       "      <td>5</td>\n",
       "      <td>...</td>\n",
       "      <td>I</td>\n",
       "      <td>D</td>\n",
       "      <td>B</td>\n",
       "      <td>A</td>\n",
       "      <td>C</td>\n",
       "      <td>B</td>\n",
       "      <td>C</td>\n",
       "      <td>B</td>\n",
       "      <td>A</td>\n",
       "      <td>A</td>\n",
       "    </tr>\n",
       "    <tr>\n",
       "      <th>534874</th>\n",
       "      <td>2017</td>\n",
       "      <td>1446</td>\n",
       "      <td>4</td>\n",
       "      <td>10020</td>\n",
       "      <td>2001</td>\n",
       "      <td>5001328</td>\n",
       "      <td>0</td>\n",
       "      <td>5300108</td>\n",
       "      <td>53</td>\n",
       "      <td>5</td>\n",
       "      <td>...</td>\n",
       "      <td>A</td>\n",
       "      <td>A</td>\n",
       "      <td>A</td>\n",
       "      <td>A</td>\n",
       "      <td>C</td>\n",
       "      <td>B</td>\n",
       "      <td>A</td>\n",
       "      <td>A</td>\n",
       "      <td>A</td>\n",
       "      <td>B</td>\n",
       "    </tr>\n",
       "    <tr>\n",
       "      <th>534875</th>\n",
       "      <td>2017</td>\n",
       "      <td>1446</td>\n",
       "      <td>4</td>\n",
       "      <td>10020</td>\n",
       "      <td>2001</td>\n",
       "      <td>5001328</td>\n",
       "      <td>0</td>\n",
       "      <td>5300108</td>\n",
       "      <td>53</td>\n",
       "      <td>5</td>\n",
       "      <td>...</td>\n",
       "      <td>E</td>\n",
       "      <td>F</td>\n",
       "      <td>E</td>\n",
       "      <td>I</td>\n",
       "      <td>F</td>\n",
       "      <td>A</td>\n",
       "      <td>A</td>\n",
       "      <td>B</td>\n",
       "      <td>D</td>\n",
       "      <td>D</td>\n",
       "    </tr>\n",
       "    <tr>\n",
       "      <th>534876</th>\n",
       "      <td>2017</td>\n",
       "      <td>1446</td>\n",
       "      <td>4</td>\n",
       "      <td>10020</td>\n",
       "      <td>2001</td>\n",
       "      <td>5001328</td>\n",
       "      <td>0</td>\n",
       "      <td>5300108</td>\n",
       "      <td>53</td>\n",
       "      <td>5</td>\n",
       "      <td>...</td>\n",
       "      <td>I</td>\n",
       "      <td>F</td>\n",
       "      <td>E</td>\n",
       "      <td>I</td>\n",
       "      <td>F</td>\n",
       "      <td>A</td>\n",
       "      <td>A</td>\n",
       "      <td>A</td>\n",
       "      <td>A</td>\n",
       "      <td>A</td>\n",
       "    </tr>\n",
       "    <tr>\n",
       "      <th>534877</th>\n",
       "      <td>2017</td>\n",
       "      <td>1446</td>\n",
       "      <td>4</td>\n",
       "      <td>10020</td>\n",
       "      <td>2001</td>\n",
       "      <td>5001328</td>\n",
       "      <td>0</td>\n",
       "      <td>5300108</td>\n",
       "      <td>53</td>\n",
       "      <td>5</td>\n",
       "      <td>...</td>\n",
       "      <td>A</td>\n",
       "      <td>A</td>\n",
       "      <td>A</td>\n",
       "      <td>A</td>\n",
       "      <td>D</td>\n",
       "      <td>D</td>\n",
       "      <td>B</td>\n",
       "      <td>B</td>\n",
       "      <td>B</td>\n",
       "      <td>A</td>\n",
       "    </tr>\n",
       "    <tr>\n",
       "      <th>534878</th>\n",
       "      <td>2017</td>\n",
       "      <td>1446</td>\n",
       "      <td>4</td>\n",
       "      <td>10020</td>\n",
       "      <td>2001</td>\n",
       "      <td>5001328</td>\n",
       "      <td>0</td>\n",
       "      <td>5300108</td>\n",
       "      <td>53</td>\n",
       "      <td>5</td>\n",
       "      <td>...</td>\n",
       "      <td>B</td>\n",
       "      <td>A</td>\n",
       "      <td>E</td>\n",
       "      <td>I</td>\n",
       "      <td>F</td>\n",
       "      <td>A</td>\n",
       "      <td>B</td>\n",
       "      <td>B</td>\n",
       "      <td>B</td>\n",
       "      <td>B</td>\n",
       "    </tr>\n",
       "    <tr>\n",
       "      <th>534879</th>\n",
       "      <td>2017</td>\n",
       "      <td>1446</td>\n",
       "      <td>4</td>\n",
       "      <td>10020</td>\n",
       "      <td>2001</td>\n",
       "      <td>5001328</td>\n",
       "      <td>0</td>\n",
       "      <td>5300108</td>\n",
       "      <td>53</td>\n",
       "      <td>5</td>\n",
       "      <td>...</td>\n",
       "      <td>A</td>\n",
       "      <td>A</td>\n",
       "      <td>A</td>\n",
       "      <td>A</td>\n",
       "      <td>B</td>\n",
       "      <td>A</td>\n",
       "      <td>A</td>\n",
       "      <td>A</td>\n",
       "      <td>A</td>\n",
       "      <td>A</td>\n",
       "    </tr>\n",
       "    <tr>\n",
       "      <th>534880</th>\n",
       "      <td>2017</td>\n",
       "      <td>1446</td>\n",
       "      <td>4</td>\n",
       "      <td>10020</td>\n",
       "      <td>2001</td>\n",
       "      <td>5001328</td>\n",
       "      <td>0</td>\n",
       "      <td>5300108</td>\n",
       "      <td>53</td>\n",
       "      <td>5</td>\n",
       "      <td>...</td>\n",
       "      <td>D</td>\n",
       "      <td>F</td>\n",
       "      <td>E</td>\n",
       "      <td>I</td>\n",
       "      <td>F</td>\n",
       "      <td>B</td>\n",
       "      <td>B</td>\n",
       "      <td>C</td>\n",
       "      <td>B</td>\n",
       "      <td>B</td>\n",
       "    </tr>\n",
       "    <tr>\n",
       "      <th>534881</th>\n",
       "      <td>2017</td>\n",
       "      <td>1446</td>\n",
       "      <td>4</td>\n",
       "      <td>10020</td>\n",
       "      <td>2001</td>\n",
       "      <td>5001328</td>\n",
       "      <td>0</td>\n",
       "      <td>5300108</td>\n",
       "      <td>53</td>\n",
       "      <td>5</td>\n",
       "      <td>...</td>\n",
       "      <td>A</td>\n",
       "      <td>D</td>\n",
       "      <td>A</td>\n",
       "      <td>A</td>\n",
       "      <td>C</td>\n",
       "      <td>C</td>\n",
       "      <td>A</td>\n",
       "      <td>A</td>\n",
       "      <td>A</td>\n",
       "      <td>A</td>\n",
       "    </tr>\n",
       "    <tr>\n",
       "      <th>534882</th>\n",
       "      <td>2017</td>\n",
       "      <td>1446</td>\n",
       "      <td>4</td>\n",
       "      <td>10020</td>\n",
       "      <td>2001</td>\n",
       "      <td>5001328</td>\n",
       "      <td>0</td>\n",
       "      <td>5300108</td>\n",
       "      <td>53</td>\n",
       "      <td>5</td>\n",
       "      <td>...</td>\n",
       "      <td>I</td>\n",
       "      <td>F</td>\n",
       "      <td>E</td>\n",
       "      <td>I</td>\n",
       "      <td>F</td>\n",
       "      <td>A</td>\n",
       "      <td>C</td>\n",
       "      <td>D</td>\n",
       "      <td>D</td>\n",
       "      <td>D</td>\n",
       "    </tr>\n",
       "    <tr>\n",
       "      <th>534883</th>\n",
       "      <td>2017</td>\n",
       "      <td>1446</td>\n",
       "      <td>4</td>\n",
       "      <td>10020</td>\n",
       "      <td>2001</td>\n",
       "      <td>5001328</td>\n",
       "      <td>0</td>\n",
       "      <td>5300108</td>\n",
       "      <td>53</td>\n",
       "      <td>5</td>\n",
       "      <td>...</td>\n",
       "      <td>A</td>\n",
       "      <td>A</td>\n",
       "      <td>A</td>\n",
       "      <td>A</td>\n",
       "      <td>B</td>\n",
       "      <td>A</td>\n",
       "      <td>A</td>\n",
       "      <td>A</td>\n",
       "      <td>A</td>\n",
       "      <td>A</td>\n",
       "    </tr>\n",
       "    <tr>\n",
       "      <th>534884</th>\n",
       "      <td>2017</td>\n",
       "      <td>1446</td>\n",
       "      <td>4</td>\n",
       "      <td>10020</td>\n",
       "      <td>2001</td>\n",
       "      <td>5001328</td>\n",
       "      <td>0</td>\n",
       "      <td>5300108</td>\n",
       "      <td>53</td>\n",
       "      <td>5</td>\n",
       "      <td>...</td>\n",
       "      <td>D</td>\n",
       "      <td>A</td>\n",
       "      <td>A</td>\n",
       "      <td>B</td>\n",
       "      <td>C</td>\n",
       "      <td>A</td>\n",
       "      <td>B</td>\n",
       "      <td>B</td>\n",
       "      <td>B</td>\n",
       "      <td>D</td>\n",
       "    </tr>\n",
       "    <tr>\n",
       "      <th>534885</th>\n",
       "      <td>2017</td>\n",
       "      <td>1446</td>\n",
       "      <td>4</td>\n",
       "      <td>10020</td>\n",
       "      <td>2001</td>\n",
       "      <td>5001328</td>\n",
       "      <td>0</td>\n",
       "      <td>5300108</td>\n",
       "      <td>53</td>\n",
       "      <td>5</td>\n",
       "      <td>...</td>\n",
       "      <td>A</td>\n",
       "      <td>D</td>\n",
       "      <td>B</td>\n",
       "      <td>A</td>\n",
       "      <td>C</td>\n",
       "      <td>C</td>\n",
       "      <td>B</td>\n",
       "      <td>B</td>\n",
       "      <td>A</td>\n",
       "      <td>A</td>\n",
       "    </tr>\n",
       "    <tr>\n",
       "      <th>534886</th>\n",
       "      <td>2017</td>\n",
       "      <td>1446</td>\n",
       "      <td>4</td>\n",
       "      <td>10020</td>\n",
       "      <td>2001</td>\n",
       "      <td>5001328</td>\n",
       "      <td>0</td>\n",
       "      <td>5300108</td>\n",
       "      <td>53</td>\n",
       "      <td>5</td>\n",
       "      <td>...</td>\n",
       "      <td>E</td>\n",
       "      <td>F</td>\n",
       "      <td>E</td>\n",
       "      <td>I</td>\n",
       "      <td>F</td>\n",
       "      <td>E</td>\n",
       "      <td>B</td>\n",
       "      <td>B</td>\n",
       "      <td>B</td>\n",
       "      <td>D</td>\n",
       "    </tr>\n",
       "  </tbody>\n",
       "</table>\n",
       "<p>227726 rows × 150 columns</p>\n",
       "</div>"
      ],
      "text/plain": [
       "        NU_ANO  CO_IES  CO_CATEGAD  CO_ORGACAD  CO_GRUPO  CO_CURSO  \\\n",
       "41        2017       1           1       10028      2001         6   \n",
       "42        2017       1           1       10028      2001         6   \n",
       "43        2017       1           1       10028      2001         6   \n",
       "44        2017       1           1       10028      2001         6   \n",
       "45        2017       1           1       10028      2001         6   \n",
       "47        2017       1           1       10028      2001         6   \n",
       "48        2017       1           1       10028      2001         6   \n",
       "49        2017       1           1       10028      2001         6   \n",
       "50        2017       1           1       10028      2001         6   \n",
       "52        2017       1           1       10028      2001         6   \n",
       "53        2017       1           1       10028      2001         6   \n",
       "54        2017       1           1       10028      2001         6   \n",
       "55        2017       1           1       10028      2001         6   \n",
       "56        2017       1           1       10028      2001         6   \n",
       "57        2017       1           1       10028      2001         6   \n",
       "58        2017       1           1       10028      2001         6   \n",
       "59        2017       1           1       10028      2001         6   \n",
       "60        2017       1           1       10028      2001         6   \n",
       "61        2017       1           1       10028      2001         6   \n",
       "62        2017       1           1       10028      2001         6   \n",
       "63        2017       1           1       10028      2001         6   \n",
       "64        2017       1           1       10028      2001         6   \n",
       "65        2017       1           1       10028      2001         6   \n",
       "66        2017       1           1       10028      2001         6   \n",
       "67        2017       1           1       10028      2001         6   \n",
       "68        2017       1           1       10028      2001         6   \n",
       "69        2017       1           1       10028      2001         6   \n",
       "70        2017       1           1       10028      2001         6   \n",
       "71        2017       1           1       10028      2001         6   \n",
       "72        2017       1           1       10028      2001         6   \n",
       "...        ...     ...         ...         ...       ...       ...   \n",
       "534857    2017     666           2       10028       904   5001302   \n",
       "534858    2017     666           2       10028       904   5001302   \n",
       "534859    2017     666           2       10028       904   5001302   \n",
       "534860    2017     666           2       10028       904   5001302   \n",
       "534861    2017     666           2       10028       904   5001302   \n",
       "534862    2017     666           2       10028       904   5001302   \n",
       "534863    2017    1446           4       10020      2001   5001328   \n",
       "534864    2017    1446           4       10020      2001   5001328   \n",
       "534865    2017    1446           4       10020      2001   5001328   \n",
       "534866    2017    1446           4       10020      2001   5001328   \n",
       "534867    2017    1446           4       10020      2001   5001328   \n",
       "534868    2017    1446           4       10020      2001   5001328   \n",
       "534869    2017    1446           4       10020      2001   5001328   \n",
       "534870    2017    1446           4       10020      2001   5001328   \n",
       "534871    2017    1446           4       10020      2001   5001328   \n",
       "534872    2017    1446           4       10020      2001   5001328   \n",
       "534873    2017    1446           4       10020      2001   5001328   \n",
       "534874    2017    1446           4       10020      2001   5001328   \n",
       "534875    2017    1446           4       10020      2001   5001328   \n",
       "534876    2017    1446           4       10020      2001   5001328   \n",
       "534877    2017    1446           4       10020      2001   5001328   \n",
       "534878    2017    1446           4       10020      2001   5001328   \n",
       "534879    2017    1446           4       10020      2001   5001328   \n",
       "534880    2017    1446           4       10020      2001   5001328   \n",
       "534881    2017    1446           4       10020      2001   5001328   \n",
       "534882    2017    1446           4       10020      2001   5001328   \n",
       "534883    2017    1446           4       10020      2001   5001328   \n",
       "534884    2017    1446           4       10020      2001   5001328   \n",
       "534885    2017    1446           4       10020      2001   5001328   \n",
       "534886    2017    1446           4       10020      2001   5001328   \n",
       "\n",
       "        CO_MODALIDADE  CO_MUNIC_CURSO  CO_UF_CURSO  CO_REGIAO_CURSO   ...    \\\n",
       "41                  1         5103403           51                5   ...     \n",
       "42                  1         5103403           51                5   ...     \n",
       "43                  1         5103403           51                5   ...     \n",
       "44                  1         5103403           51                5   ...     \n",
       "45                  1         5103403           51                5   ...     \n",
       "47                  1         5103403           51                5   ...     \n",
       "48                  1         5103403           51                5   ...     \n",
       "49                  1         5103403           51                5   ...     \n",
       "50                  1         5103403           51                5   ...     \n",
       "52                  1         5103403           51                5   ...     \n",
       "53                  1         5103403           51                5   ...     \n",
       "54                  1         5103403           51                5   ...     \n",
       "55                  1         5103403           51                5   ...     \n",
       "56                  1         5103403           51                5   ...     \n",
       "57                  1         5103403           51                5   ...     \n",
       "58                  1         5103403           51                5   ...     \n",
       "59                  1         5103403           51                5   ...     \n",
       "60                  1         5103403           51                5   ...     \n",
       "61                  1         5103403           51                5   ...     \n",
       "62                  1         5103403           51                5   ...     \n",
       "63                  1         5103403           51                5   ...     \n",
       "64                  1         5103403           51                5   ...     \n",
       "65                  1         5103403           51                5   ...     \n",
       "66                  1         5103403           51                5   ...     \n",
       "67                  1         5103403           51                5   ...     \n",
       "68                  1         5103403           51                5   ...     \n",
       "69                  1         5103403           51                5   ...     \n",
       "70                  1         5103403           51                5   ...     \n",
       "71                  1         5103403           51                5   ...     \n",
       "72                  1         5103403           51                5   ...     \n",
       "...               ...             ...          ...              ...   ...     \n",
       "534857              0         2910800           29                2   ...     \n",
       "534858              0         2910800           29                2   ...     \n",
       "534859              0         2910800           29                2   ...     \n",
       "534860              0         2910800           29                2   ...     \n",
       "534861              0         2910800           29                2   ...     \n",
       "534862              0         2910800           29                2   ...     \n",
       "534863              0         5300108           53                5   ...     \n",
       "534864              0         5300108           53                5   ...     \n",
       "534865              0         5300108           53                5   ...     \n",
       "534866              0         5300108           53                5   ...     \n",
       "534867              0         5300108           53                5   ...     \n",
       "534868              0         5300108           53                5   ...     \n",
       "534869              0         5300108           53                5   ...     \n",
       "534870              0         5300108           53                5   ...     \n",
       "534871              0         5300108           53                5   ...     \n",
       "534872              0         5300108           53                5   ...     \n",
       "534873              0         5300108           53                5   ...     \n",
       "534874              0         5300108           53                5   ...     \n",
       "534875              0         5300108           53                5   ...     \n",
       "534876              0         5300108           53                5   ...     \n",
       "534877              0         5300108           53                5   ...     \n",
       "534878              0         5300108           53                5   ...     \n",
       "534879              0         5300108           53                5   ...     \n",
       "534880              0         5300108           53                5   ...     \n",
       "534881              0         5300108           53                5   ...     \n",
       "534882              0         5300108           53                5   ...     \n",
       "534883              0         5300108           53                5   ...     \n",
       "534884              0         5300108           53                5   ...     \n",
       "534885              0         5300108           53                5   ...     \n",
       "534886              0         5300108           53                5   ...     \n",
       "\n",
       "        QE_I72 QE_I73  QE_I74  QE_I75  QE_I76  QE_I77  QE_I78  QE_I79  QE_I80  \\\n",
       "41           H      A       B       B       A       C       D       C       B   \n",
       "42           I      A       B       B       A       A       A       A       A   \n",
       "43           I      A       A       A       A       E       C       C       B   \n",
       "44           A      A       B       A       A       A       C       C       C   \n",
       "45           I      A       A       A       C       A       B       B       A   \n",
       "47           A      A       A       A       C       A       B       B       A   \n",
       "48           I      A       B       B       D       A       A       C       B   \n",
       "49           A      A       B       B       D       A       A       A       C   \n",
       "50           I      A       A       A       C       A       A       A       A   \n",
       "52           I      E       A       B       C       A       B       C       A   \n",
       "53           I      A       A       B       C       A       B       C       B   \n",
       "54           I      A       A       B       C       C       B       B       B   \n",
       "55           I      A       A       A       D       A       B       B       A   \n",
       "56           I      A       B       B       B       A       C       B       D   \n",
       "57           I      A       B       A       A       A       B       B       B   \n",
       "58           A      A       A       A       E       A       B       B       B   \n",
       "59           B      A       A       B       C       A       B       B       B   \n",
       "60           A      A       B       A       C       A       C       C       A   \n",
       "61           I      A       B       A       C       E       C       D       C   \n",
       "62           I      A       B       A       C       A       B       B       A   \n",
       "63           I      A       A       B       A       C       C       D       A   \n",
       "64           I      A       B       B       D       A       B       B       A   \n",
       "65           I      D       B       A       C       D       B       B       B   \n",
       "66           I      A       A       A       B       A       B       B       A   \n",
       "67           B      C       B       B       D       A       C       C       B   \n",
       "68           A      A       B       B       B       A       B       B       C   \n",
       "69           I      A       B       C       A       A       B       A       A   \n",
       "70           A      A       B       B       B       A       B       C       C   \n",
       "71           I      A       B       B       B       C       A       A       A   \n",
       "72           I      A       B       B       D       A       C       C       C   \n",
       "...        ...    ...     ...     ...     ...     ...     ...     ...     ...   \n",
       "534857       I      A       C       F       D       A       B       B       A   \n",
       "534858       A      A       C       F       E       A       C       B       A   \n",
       "534859       I      A       C       F       E       A       A       B       A   \n",
       "534860       I      A       A       C       C       A       A       A       A   \n",
       "534861       B      A       B       B       D       C       B       B       B   \n",
       "534862       C      D       B       C       A       A       B       C       A   \n",
       "534863       I      F       E       I       F       D       A       B       D   \n",
       "534864       B      A       A       B       F       A       B       A       B   \n",
       "534865       B      F       E       I       F       A       B       B       D   \n",
       "534866       A      D       B       C       C       A       A       B       B   \n",
       "534867       I      A       A       A       C       A       A       A       A   \n",
       "534868       A      A       D       A       C       A       B       B       A   \n",
       "534869       B      A       A       B       C       A       B       B       B   \n",
       "534870       A      B       D       A       C       C       B       B       A   \n",
       "534871       H      F       E       I       F       A       B       B       B   \n",
       "534872       I      F       E       I       F       A       A       A       D   \n",
       "534873       I      D       B       A       C       B       C       B       A   \n",
       "534874       A      A       A       A       C       B       A       A       A   \n",
       "534875       E      F       E       I       F       A       A       B       D   \n",
       "534876       I      F       E       I       F       A       A       A       A   \n",
       "534877       A      A       A       A       D       D       B       B       B   \n",
       "534878       B      A       E       I       F       A       B       B       B   \n",
       "534879       A      A       A       A       B       A       A       A       A   \n",
       "534880       D      F       E       I       F       B       B       C       B   \n",
       "534881       A      D       A       A       C       C       A       A       A   \n",
       "534882       I      F       E       I       F       A       C       D       D   \n",
       "534883       A      A       A       A       B       A       A       A       A   \n",
       "534884       D      A       A       B       C       A       B       B       B   \n",
       "534885       A      D       B       A       C       C       B       B       A   \n",
       "534886       E      F       E       I       F       E       B       B       B   \n",
       "\n",
       "        QE_I81  \n",
       "41           B  \n",
       "42           A  \n",
       "43           B  \n",
       "44           C  \n",
       "45           B  \n",
       "47           A  \n",
       "48           B  \n",
       "49           C  \n",
       "50           A  \n",
       "52           B  \n",
       "53           C  \n",
       "54           B  \n",
       "55           A  \n",
       "56           B  \n",
       "57           A  \n",
       "58           B  \n",
       "59           B  \n",
       "60           A  \n",
       "61           B  \n",
       "62           B  \n",
       "63           B  \n",
       "64           A  \n",
       "65           B  \n",
       "66           A  \n",
       "67           B  \n",
       "68           C  \n",
       "69           A  \n",
       "70           C  \n",
       "71           A  \n",
       "72           C  \n",
       "...        ...  \n",
       "534857       A  \n",
       "534858       A  \n",
       "534859       A  \n",
       "534860       A  \n",
       "534861       B  \n",
       "534862       A  \n",
       "534863       D  \n",
       "534864       A  \n",
       "534865       D  \n",
       "534866       B  \n",
       "534867       A  \n",
       "534868       A  \n",
       "534869       A  \n",
       "534870       A  \n",
       "534871       B  \n",
       "534872       D  \n",
       "534873       A  \n",
       "534874       B  \n",
       "534875       D  \n",
       "534876       A  \n",
       "534877       A  \n",
       "534878       B  \n",
       "534879       A  \n",
       "534880       B  \n",
       "534881       A  \n",
       "534882       D  \n",
       "534883       A  \n",
       "534884       D  \n",
       "534885       A  \n",
       "534886       D  \n",
       "\n",
       "[227726 rows x 150 columns]"
      ]
     },
     "execution_count": 3,
     "metadata": {},
     "output_type": "execute_result"
    }
   ],
   "source": [
    "enade2017.dropna()"
   ]
  },
  {
   "cell_type": "code",
   "execution_count": 4,
   "metadata": {},
   "outputs": [
    {
     "data": {
      "text/html": [
       "<div>\n",
       "<style scoped>\n",
       "    .dataframe tbody tr th:only-of-type {\n",
       "        vertical-align: middle;\n",
       "    }\n",
       "\n",
       "    .dataframe tbody tr th {\n",
       "        vertical-align: top;\n",
       "    }\n",
       "\n",
       "    .dataframe thead th {\n",
       "        text-align: right;\n",
       "    }\n",
       "</style>\n",
       "<table border=\"1\" class=\"dataframe\">\n",
       "  <thead>\n",
       "    <tr style=\"text-align: right;\">\n",
       "      <th></th>\n",
       "      <th>ANO_FIM_EM</th>\n",
       "      <th>ANO_IN_GRAD</th>\n",
       "      <th>NT_GER</th>\n",
       "      <th>QE_I02</th>\n",
       "      <th>QE_I05</th>\n",
       "      <th>QE_I06</th>\n",
       "      <th>QE_I08</th>\n",
       "      <th>QE_I17</th>\n",
       "      <th>QE_I20</th>\n",
       "      <th>QE_I25</th>\n",
       "      <th>CO_CATEGAD</th>\n",
       "      <th>CO_GRUPO</th>\n",
       "      <th>CO_UF_CURSO</th>\n",
       "      <th>CO_REGIAO_CURSO</th>\n",
       "      <th>NU_IDADE</th>\n",
       "      <th>TP_SEXO</th>\n",
       "    </tr>\n",
       "  </thead>\n",
       "  <tbody>\n",
       "    <tr>\n",
       "      <th>0</th>\n",
       "      <td>2007.0</td>\n",
       "      <td>2012.0</td>\n",
       "      <td>52,6</td>\n",
       "      <td>A</td>\n",
       "      <td>F</td>\n",
       "      <td>A</td>\n",
       "      <td>B</td>\n",
       "      <td>B</td>\n",
       "      <td>H</td>\n",
       "      <td>H</td>\n",
       "      <td>1</td>\n",
       "      <td>5710</td>\n",
       "      <td>51</td>\n",
       "      <td>5</td>\n",
       "      <td>26</td>\n",
       "      <td>F</td>\n",
       "    </tr>\n",
       "    <tr>\n",
       "      <th>1</th>\n",
       "      <td>2013.0</td>\n",
       "      <td>2013.0</td>\n",
       "      <td>63,1</td>\n",
       "      <td>D</td>\n",
       "      <td>D</td>\n",
       "      <td>C</td>\n",
       "      <td>B</td>\n",
       "      <td>A</td>\n",
       "      <td>K</td>\n",
       "      <td>C</td>\n",
       "      <td>1</td>\n",
       "      <td>5710</td>\n",
       "      <td>51</td>\n",
       "      <td>5</td>\n",
       "      <td>23</td>\n",
       "      <td>F</td>\n",
       "    </tr>\n",
       "    <tr>\n",
       "      <th>2</th>\n",
       "      <td>2011.0</td>\n",
       "      <td>2013.0</td>\n",
       "      <td>33,7</td>\n",
       "      <td>D</td>\n",
       "      <td>F</td>\n",
       "      <td>B</td>\n",
       "      <td>F</td>\n",
       "      <td>B</td>\n",
       "      <td>A</td>\n",
       "      <td>E</td>\n",
       "      <td>1</td>\n",
       "      <td>5710</td>\n",
       "      <td>51</td>\n",
       "      <td>5</td>\n",
       "      <td>23</td>\n",
       "      <td>M</td>\n",
       "    </tr>\n",
       "    <tr>\n",
       "      <th>3</th>\n",
       "      <td>2011.0</td>\n",
       "      <td>2013.0</td>\n",
       "      <td>58,1</td>\n",
       "      <td>A</td>\n",
       "      <td>D</td>\n",
       "      <td>D</td>\n",
       "      <td>B</td>\n",
       "      <td>A</td>\n",
       "      <td>C</td>\n",
       "      <td>E</td>\n",
       "      <td>1</td>\n",
       "      <td>5710</td>\n",
       "      <td>51</td>\n",
       "      <td>5</td>\n",
       "      <td>23</td>\n",
       "      <td>M</td>\n",
       "    </tr>\n",
       "    <tr>\n",
       "      <th>4</th>\n",
       "      <td>2010.0</td>\n",
       "      <td>2013.0</td>\n",
       "      <td>46,3</td>\n",
       "      <td>A</td>\n",
       "      <td>F</td>\n",
       "      <td>B</td>\n",
       "      <td>F</td>\n",
       "      <td>B</td>\n",
       "      <td>G</td>\n",
       "      <td>A</td>\n",
       "      <td>1</td>\n",
       "      <td>5710</td>\n",
       "      <td>51</td>\n",
       "      <td>5</td>\n",
       "      <td>24</td>\n",
       "      <td>M</td>\n",
       "    </tr>\n",
       "    <tr>\n",
       "      <th>5</th>\n",
       "      <td>2011.0</td>\n",
       "      <td>2012.0</td>\n",
       "      <td>64,2</td>\n",
       "      <td>F</td>\n",
       "      <td>B</td>\n",
       "      <td>B</td>\n",
       "      <td>C</td>\n",
       "      <td>A</td>\n",
       "      <td>G</td>\n",
       "      <td>C</td>\n",
       "      <td>1</td>\n",
       "      <td>5710</td>\n",
       "      <td>51</td>\n",
       "      <td>5</td>\n",
       "      <td>23</td>\n",
       "      <td>M</td>\n",
       "    </tr>\n",
       "    <tr>\n",
       "      <th>6</th>\n",
       "      <td>2012.0</td>\n",
       "      <td>2013.0</td>\n",
       "      <td>41,4</td>\n",
       "      <td>D</td>\n",
       "      <td>D</td>\n",
       "      <td>B</td>\n",
       "      <td>C</td>\n",
       "      <td>A</td>\n",
       "      <td>H</td>\n",
       "      <td>D</td>\n",
       "      <td>1</td>\n",
       "      <td>5710</td>\n",
       "      <td>51</td>\n",
       "      <td>5</td>\n",
       "      <td>21</td>\n",
       "      <td>F</td>\n",
       "    </tr>\n",
       "    <tr>\n",
       "      <th>7</th>\n",
       "      <td>2011.0</td>\n",
       "      <td>2012.0</td>\n",
       "      <td>48,8</td>\n",
       "      <td>D</td>\n",
       "      <td>E</td>\n",
       "      <td>B</td>\n",
       "      <td>C</td>\n",
       "      <td>B</td>\n",
       "      <td>G</td>\n",
       "      <td>D</td>\n",
       "      <td>1</td>\n",
       "      <td>5710</td>\n",
       "      <td>51</td>\n",
       "      <td>5</td>\n",
       "      <td>23</td>\n",
       "      <td>M</td>\n",
       "    </tr>\n",
       "    <tr>\n",
       "      <th>8</th>\n",
       "      <td>2011.0</td>\n",
       "      <td>2013.0</td>\n",
       "      <td>52,9</td>\n",
       "      <td>F</td>\n",
       "      <td>F</td>\n",
       "      <td>B</td>\n",
       "      <td>E</td>\n",
       "      <td>A</td>\n",
       "      <td>G</td>\n",
       "      <td>C</td>\n",
       "      <td>1</td>\n",
       "      <td>5710</td>\n",
       "      <td>51</td>\n",
       "      <td>5</td>\n",
       "      <td>23</td>\n",
       "      <td>F</td>\n",
       "    </tr>\n",
       "    <tr>\n",
       "      <th>9</th>\n",
       "      <td>2011.0</td>\n",
       "      <td>2013.0</td>\n",
       "      <td>62,7</td>\n",
       "      <td>D</td>\n",
       "      <td>D</td>\n",
       "      <td>B</td>\n",
       "      <td>C</td>\n",
       "      <td>B</td>\n",
       "      <td>H</td>\n",
       "      <td>E</td>\n",
       "      <td>1</td>\n",
       "      <td>5710</td>\n",
       "      <td>51</td>\n",
       "      <td>5</td>\n",
       "      <td>22</td>\n",
       "      <td>F</td>\n",
       "    </tr>\n",
       "  </tbody>\n",
       "</table>\n",
       "</div>"
      ],
      "text/plain": [
       "   ANO_FIM_EM  ANO_IN_GRAD NT_GER QE_I02 QE_I05 QE_I06 QE_I08 QE_I17 QE_I20  \\\n",
       "0      2007.0       2012.0   52,6      A      F      A      B      B      H   \n",
       "1      2013.0       2013.0   63,1      D      D      C      B      A      K   \n",
       "2      2011.0       2013.0   33,7      D      F      B      F      B      A   \n",
       "3      2011.0       2013.0   58,1      A      D      D      B      A      C   \n",
       "4      2010.0       2013.0   46,3      A      F      B      F      B      G   \n",
       "5      2011.0       2012.0   64,2      F      B      B      C      A      G   \n",
       "6      2012.0       2013.0   41,4      D      D      B      C      A      H   \n",
       "7      2011.0       2012.0   48,8      D      E      B      C      B      G   \n",
       "8      2011.0       2013.0   52,9      F      F      B      E      A      G   \n",
       "9      2011.0       2013.0   62,7      D      D      B      C      B      H   \n",
       "\n",
       "  QE_I25  CO_CATEGAD  CO_GRUPO  CO_UF_CURSO  CO_REGIAO_CURSO  NU_IDADE TP_SEXO  \n",
       "0      H           1      5710           51                5        26       F  \n",
       "1      C           1      5710           51                5        23       F  \n",
       "2      E           1      5710           51                5        23       M  \n",
       "3      E           1      5710           51                5        23       M  \n",
       "4      A           1      5710           51                5        24       M  \n",
       "5      C           1      5710           51                5        23       M  \n",
       "6      D           1      5710           51                5        21       F  \n",
       "7      D           1      5710           51                5        23       M  \n",
       "8      C           1      5710           51                5        23       F  \n",
       "9      E           1      5710           51                5        22       F  "
      ]
     },
     "execution_count": 4,
     "metadata": {},
     "output_type": "execute_result"
    }
   ],
   "source": [
    "tabela17 = pandas.DataFrame(enade2017, columns=['ANO_FIM_EM', 'ANO_IN_GRAD', 'NT_GER','QE_I02', \n",
    "                                               'QE_I05', 'QE_I06', 'QE_I08', 'QE_I17', 'QE_I20', 'QE_I25', 'CO_CATEGAD', 'CO_GRUPO',\n",
    "                                               'CO_UF_CURSO', 'CO_REGIAO_CURSO', 'NU_IDADE', 'TP_SEXO'])\n",
    "tabela17.head(10)"
   ]
  },
  {
   "cell_type": "code",
   "execution_count": 5,
   "metadata": {},
   "outputs": [
    {
     "data": {
      "text/html": [
       "<div>\n",
       "<style scoped>\n",
       "    .dataframe tbody tr th:only-of-type {\n",
       "        vertical-align: middle;\n",
       "    }\n",
       "\n",
       "    .dataframe tbody tr th {\n",
       "        vertical-align: top;\n",
       "    }\n",
       "\n",
       "    .dataframe thead th {\n",
       "        text-align: right;\n",
       "    }\n",
       "</style>\n",
       "<table border=\"1\" class=\"dataframe\">\n",
       "  <thead>\n",
       "    <tr style=\"text-align: right;\">\n",
       "      <th></th>\n",
       "      <th>ANO_FIM_EM</th>\n",
       "      <th>ANO_IN_GRAD</th>\n",
       "      <th>NT_GER</th>\n",
       "      <th>QE_I02</th>\n",
       "      <th>QE_I05</th>\n",
       "      <th>QE_I06</th>\n",
       "      <th>QE_I08</th>\n",
       "      <th>QE_I17</th>\n",
       "      <th>QE_I20</th>\n",
       "      <th>QE_I25</th>\n",
       "      <th>CO_CATEGAD</th>\n",
       "      <th>CO_GRUPO</th>\n",
       "      <th>CO_UF_CURSO</th>\n",
       "      <th>CO_REGIAO_CURSO</th>\n",
       "      <th>NU_IDADE</th>\n",
       "      <th>TP_SEXO</th>\n",
       "    </tr>\n",
       "  </thead>\n",
       "  <tbody>\n",
       "    <tr>\n",
       "      <th>0</th>\n",
       "      <td>2007.0</td>\n",
       "      <td>2012.0</td>\n",
       "      <td>52.6</td>\n",
       "      <td>A</td>\n",
       "      <td>F</td>\n",
       "      <td>A</td>\n",
       "      <td>B</td>\n",
       "      <td>B</td>\n",
       "      <td>H</td>\n",
       "      <td>H</td>\n",
       "      <td>1</td>\n",
       "      <td>5710</td>\n",
       "      <td>51</td>\n",
       "      <td>5</td>\n",
       "      <td>26</td>\n",
       "      <td>F</td>\n",
       "    </tr>\n",
       "    <tr>\n",
       "      <th>1</th>\n",
       "      <td>2013.0</td>\n",
       "      <td>2013.0</td>\n",
       "      <td>63.1</td>\n",
       "      <td>D</td>\n",
       "      <td>D</td>\n",
       "      <td>C</td>\n",
       "      <td>B</td>\n",
       "      <td>A</td>\n",
       "      <td>K</td>\n",
       "      <td>C</td>\n",
       "      <td>1</td>\n",
       "      <td>5710</td>\n",
       "      <td>51</td>\n",
       "      <td>5</td>\n",
       "      <td>23</td>\n",
       "      <td>F</td>\n",
       "    </tr>\n",
       "    <tr>\n",
       "      <th>2</th>\n",
       "      <td>2011.0</td>\n",
       "      <td>2013.0</td>\n",
       "      <td>33.7</td>\n",
       "      <td>D</td>\n",
       "      <td>F</td>\n",
       "      <td>B</td>\n",
       "      <td>F</td>\n",
       "      <td>B</td>\n",
       "      <td>A</td>\n",
       "      <td>E</td>\n",
       "      <td>1</td>\n",
       "      <td>5710</td>\n",
       "      <td>51</td>\n",
       "      <td>5</td>\n",
       "      <td>23</td>\n",
       "      <td>M</td>\n",
       "    </tr>\n",
       "    <tr>\n",
       "      <th>3</th>\n",
       "      <td>2011.0</td>\n",
       "      <td>2013.0</td>\n",
       "      <td>58.1</td>\n",
       "      <td>A</td>\n",
       "      <td>D</td>\n",
       "      <td>D</td>\n",
       "      <td>B</td>\n",
       "      <td>A</td>\n",
       "      <td>C</td>\n",
       "      <td>E</td>\n",
       "      <td>1</td>\n",
       "      <td>5710</td>\n",
       "      <td>51</td>\n",
       "      <td>5</td>\n",
       "      <td>23</td>\n",
       "      <td>M</td>\n",
       "    </tr>\n",
       "    <tr>\n",
       "      <th>4</th>\n",
       "      <td>2010.0</td>\n",
       "      <td>2013.0</td>\n",
       "      <td>46.3</td>\n",
       "      <td>A</td>\n",
       "      <td>F</td>\n",
       "      <td>B</td>\n",
       "      <td>F</td>\n",
       "      <td>B</td>\n",
       "      <td>G</td>\n",
       "      <td>A</td>\n",
       "      <td>1</td>\n",
       "      <td>5710</td>\n",
       "      <td>51</td>\n",
       "      <td>5</td>\n",
       "      <td>24</td>\n",
       "      <td>M</td>\n",
       "    </tr>\n",
       "  </tbody>\n",
       "</table>\n",
       "</div>"
      ],
      "text/plain": [
       "   ANO_FIM_EM  ANO_IN_GRAD  NT_GER QE_I02 QE_I05 QE_I06 QE_I08 QE_I17 QE_I20  \\\n",
       "0      2007.0       2012.0    52.6      A      F      A      B      B      H   \n",
       "1      2013.0       2013.0    63.1      D      D      C      B      A      K   \n",
       "2      2011.0       2013.0    33.7      D      F      B      F      B      A   \n",
       "3      2011.0       2013.0    58.1      A      D      D      B      A      C   \n",
       "4      2010.0       2013.0    46.3      A      F      B      F      B      G   \n",
       "\n",
       "  QE_I25  CO_CATEGAD  CO_GRUPO  CO_UF_CURSO  CO_REGIAO_CURSO  NU_IDADE TP_SEXO  \n",
       "0      H           1      5710           51                5        26       F  \n",
       "1      C           1      5710           51                5        23       F  \n",
       "2      E           1      5710           51                5        23       M  \n",
       "3      E           1      5710           51                5        23       M  \n",
       "4      A           1      5710           51                5        24       M  "
      ]
     },
     "execution_count": 5,
     "metadata": {},
     "output_type": "execute_result"
    }
   ],
   "source": [
    "#LIMPEZA DE DADOS \n",
    "#substitui vírgula por ponto\n",
    "\n",
    "tabela17['NT_GER'] = tabela17['NT_GER'].str.replace(',', '.')\n",
    "tabela17=tabela17.loc[(tabela17['NT_GER'].notnull())]\n",
    "tabela17['NT_GER'] = pandas.to_numeric(tabela17['NT_GER'])\n",
    "tabela17.head()"
   ]
  },
  {
   "cell_type": "markdown",
   "metadata": {},
   "source": [
    "Mapeando os dados"
   ]
  },
  {
   "cell_type": "code",
   "execution_count": 6,
   "metadata": {},
   "outputs": [
    {
     "data": {
      "text/html": [
       "<div>\n",
       "<style scoped>\n",
       "    .dataframe tbody tr th:only-of-type {\n",
       "        vertical-align: middle;\n",
       "    }\n",
       "\n",
       "    .dataframe tbody tr th {\n",
       "        vertical-align: top;\n",
       "    }\n",
       "\n",
       "    .dataframe thead th {\n",
       "        text-align: right;\n",
       "    }\n",
       "</style>\n",
       "<table border=\"1\" class=\"dataframe\">\n",
       "  <thead>\n",
       "    <tr style=\"text-align: right;\">\n",
       "      <th></th>\n",
       "      <th>ANO_FIM_EM</th>\n",
       "      <th>ANO_IN_GRAD</th>\n",
       "      <th>NT_GER</th>\n",
       "      <th>QE_I02</th>\n",
       "      <th>QE_I05</th>\n",
       "      <th>QE_I06</th>\n",
       "      <th>QE_I08</th>\n",
       "      <th>QE_I17</th>\n",
       "      <th>QE_I20</th>\n",
       "      <th>QE_I25</th>\n",
       "      <th>CO_CATEGAD</th>\n",
       "      <th>CO_GRUPO</th>\n",
       "      <th>CO_UF_CURSO</th>\n",
       "      <th>CO_REGIAO_CURSO</th>\n",
       "      <th>NU_IDADE</th>\n",
       "      <th>TP_SEXO</th>\n",
       "    </tr>\n",
       "  </thead>\n",
       "  <tbody>\n",
       "    <tr>\n",
       "      <th>0</th>\n",
       "      <td>2007.0</td>\n",
       "      <td>2012.0</td>\n",
       "      <td>52.6</td>\n",
       "      <td>A</td>\n",
       "      <td>F</td>\n",
       "      <td>A</td>\n",
       "      <td>B</td>\n",
       "      <td>B</td>\n",
       "      <td>H</td>\n",
       "      <td>H</td>\n",
       "      <td>1</td>\n",
       "      <td>5710</td>\n",
       "      <td>51</td>\n",
       "      <td>5</td>\n",
       "      <td>26</td>\n",
       "      <td>2</td>\n",
       "    </tr>\n",
       "    <tr>\n",
       "      <th>1</th>\n",
       "      <td>2013.0</td>\n",
       "      <td>2013.0</td>\n",
       "      <td>63.1</td>\n",
       "      <td>D</td>\n",
       "      <td>D</td>\n",
       "      <td>C</td>\n",
       "      <td>B</td>\n",
       "      <td>A</td>\n",
       "      <td>K</td>\n",
       "      <td>C</td>\n",
       "      <td>1</td>\n",
       "      <td>5710</td>\n",
       "      <td>51</td>\n",
       "      <td>5</td>\n",
       "      <td>23</td>\n",
       "      <td>2</td>\n",
       "    </tr>\n",
       "    <tr>\n",
       "      <th>2</th>\n",
       "      <td>2011.0</td>\n",
       "      <td>2013.0</td>\n",
       "      <td>33.7</td>\n",
       "      <td>D</td>\n",
       "      <td>F</td>\n",
       "      <td>B</td>\n",
       "      <td>F</td>\n",
       "      <td>B</td>\n",
       "      <td>A</td>\n",
       "      <td>E</td>\n",
       "      <td>1</td>\n",
       "      <td>5710</td>\n",
       "      <td>51</td>\n",
       "      <td>5</td>\n",
       "      <td>23</td>\n",
       "      <td>1</td>\n",
       "    </tr>\n",
       "    <tr>\n",
       "      <th>3</th>\n",
       "      <td>2011.0</td>\n",
       "      <td>2013.0</td>\n",
       "      <td>58.1</td>\n",
       "      <td>A</td>\n",
       "      <td>D</td>\n",
       "      <td>D</td>\n",
       "      <td>B</td>\n",
       "      <td>A</td>\n",
       "      <td>C</td>\n",
       "      <td>E</td>\n",
       "      <td>1</td>\n",
       "      <td>5710</td>\n",
       "      <td>51</td>\n",
       "      <td>5</td>\n",
       "      <td>23</td>\n",
       "      <td>1</td>\n",
       "    </tr>\n",
       "    <tr>\n",
       "      <th>4</th>\n",
       "      <td>2010.0</td>\n",
       "      <td>2013.0</td>\n",
       "      <td>46.3</td>\n",
       "      <td>A</td>\n",
       "      <td>F</td>\n",
       "      <td>B</td>\n",
       "      <td>F</td>\n",
       "      <td>B</td>\n",
       "      <td>G</td>\n",
       "      <td>A</td>\n",
       "      <td>1</td>\n",
       "      <td>5710</td>\n",
       "      <td>51</td>\n",
       "      <td>5</td>\n",
       "      <td>24</td>\n",
       "      <td>1</td>\n",
       "    </tr>\n",
       "  </tbody>\n",
       "</table>\n",
       "</div>"
      ],
      "text/plain": [
       "   ANO_FIM_EM  ANO_IN_GRAD  NT_GER QE_I02 QE_I05 QE_I06 QE_I08 QE_I17 QE_I20  \\\n",
       "0      2007.0       2012.0    52.6      A      F      A      B      B      H   \n",
       "1      2013.0       2013.0    63.1      D      D      C      B      A      K   \n",
       "2      2011.0       2013.0    33.7      D      F      B      F      B      A   \n",
       "3      2011.0       2013.0    58.1      A      D      D      B      A      C   \n",
       "4      2010.0       2013.0    46.3      A      F      B      F      B      G   \n",
       "\n",
       "  QE_I25  CO_CATEGAD  CO_GRUPO  CO_UF_CURSO  CO_REGIAO_CURSO  NU_IDADE  \\\n",
       "0      H           1      5710           51                5        26   \n",
       "1      C           1      5710           51                5        23   \n",
       "2      E           1      5710           51                5        23   \n",
       "3      E           1      5710           51                5        23   \n",
       "4      A           1      5710           51                5        24   \n",
       "\n",
       "   TP_SEXO  \n",
       "0        2  \n",
       "1        2  \n",
       "2        1  \n",
       "3        1  \n",
       "4        1  "
      ]
     },
     "execution_count": 6,
     "metadata": {},
     "output_type": "execute_result"
    }
   ],
   "source": [
    "tabela17=tabela17.loc[(tabela17['TP_SEXO'].notnull())]\n",
    "\n",
    "tabela17['TP_SEXO'] = tabela17['TP_SEXO'].map({'M': 1, 'F': 2})\n",
    "\n",
    "tabela17.head()"
   ]
  },
  {
   "cell_type": "code",
   "execution_count": 7,
   "metadata": {},
   "outputs": [
    {
     "data": {
      "text/html": [
       "<div>\n",
       "<style scoped>\n",
       "    .dataframe tbody tr th:only-of-type {\n",
       "        vertical-align: middle;\n",
       "    }\n",
       "\n",
       "    .dataframe tbody tr th {\n",
       "        vertical-align: top;\n",
       "    }\n",
       "\n",
       "    .dataframe thead th {\n",
       "        text-align: right;\n",
       "    }\n",
       "</style>\n",
       "<table border=\"1\" class=\"dataframe\">\n",
       "  <thead>\n",
       "    <tr style=\"text-align: right;\">\n",
       "      <th></th>\n",
       "      <th>ANO_FIM_EM</th>\n",
       "      <th>ANO_IN_GRAD</th>\n",
       "      <th>NT_GER</th>\n",
       "      <th>QE_I02</th>\n",
       "      <th>QE_I05</th>\n",
       "      <th>QE_I06</th>\n",
       "      <th>QE_I08</th>\n",
       "      <th>QE_I17</th>\n",
       "      <th>QE_I20</th>\n",
       "      <th>QE_I25</th>\n",
       "      <th>CO_CATEGAD</th>\n",
       "      <th>CO_GRUPO</th>\n",
       "      <th>CO_UF_CURSO</th>\n",
       "      <th>CO_REGIAO_CURSO</th>\n",
       "      <th>NU_IDADE</th>\n",
       "      <th>TP_SEXO</th>\n",
       "    </tr>\n",
       "  </thead>\n",
       "  <tbody>\n",
       "    <tr>\n",
       "      <th>0</th>\n",
       "      <td>2007.0</td>\n",
       "      <td>2012.0</td>\n",
       "      <td>52.6</td>\n",
       "      <td>1</td>\n",
       "      <td>6</td>\n",
       "      <td>A</td>\n",
       "      <td>B</td>\n",
       "      <td>B</td>\n",
       "      <td>H</td>\n",
       "      <td>H</td>\n",
       "      <td>1</td>\n",
       "      <td>5710</td>\n",
       "      <td>51</td>\n",
       "      <td>5</td>\n",
       "      <td>26</td>\n",
       "      <td>2</td>\n",
       "    </tr>\n",
       "    <tr>\n",
       "      <th>1</th>\n",
       "      <td>2013.0</td>\n",
       "      <td>2013.0</td>\n",
       "      <td>63.1</td>\n",
       "      <td>4</td>\n",
       "      <td>4</td>\n",
       "      <td>C</td>\n",
       "      <td>B</td>\n",
       "      <td>A</td>\n",
       "      <td>K</td>\n",
       "      <td>C</td>\n",
       "      <td>1</td>\n",
       "      <td>5710</td>\n",
       "      <td>51</td>\n",
       "      <td>5</td>\n",
       "      <td>23</td>\n",
       "      <td>2</td>\n",
       "    </tr>\n",
       "    <tr>\n",
       "      <th>2</th>\n",
       "      <td>2011.0</td>\n",
       "      <td>2013.0</td>\n",
       "      <td>33.7</td>\n",
       "      <td>4</td>\n",
       "      <td>6</td>\n",
       "      <td>B</td>\n",
       "      <td>F</td>\n",
       "      <td>B</td>\n",
       "      <td>A</td>\n",
       "      <td>E</td>\n",
       "      <td>1</td>\n",
       "      <td>5710</td>\n",
       "      <td>51</td>\n",
       "      <td>5</td>\n",
       "      <td>23</td>\n",
       "      <td>1</td>\n",
       "    </tr>\n",
       "    <tr>\n",
       "      <th>3</th>\n",
       "      <td>2011.0</td>\n",
       "      <td>2013.0</td>\n",
       "      <td>58.1</td>\n",
       "      <td>1</td>\n",
       "      <td>4</td>\n",
       "      <td>D</td>\n",
       "      <td>B</td>\n",
       "      <td>A</td>\n",
       "      <td>C</td>\n",
       "      <td>E</td>\n",
       "      <td>1</td>\n",
       "      <td>5710</td>\n",
       "      <td>51</td>\n",
       "      <td>5</td>\n",
       "      <td>23</td>\n",
       "      <td>1</td>\n",
       "    </tr>\n",
       "    <tr>\n",
       "      <th>4</th>\n",
       "      <td>2010.0</td>\n",
       "      <td>2013.0</td>\n",
       "      <td>46.3</td>\n",
       "      <td>1</td>\n",
       "      <td>6</td>\n",
       "      <td>B</td>\n",
       "      <td>F</td>\n",
       "      <td>B</td>\n",
       "      <td>G</td>\n",
       "      <td>A</td>\n",
       "      <td>1</td>\n",
       "      <td>5710</td>\n",
       "      <td>51</td>\n",
       "      <td>5</td>\n",
       "      <td>24</td>\n",
       "      <td>1</td>\n",
       "    </tr>\n",
       "  </tbody>\n",
       "</table>\n",
       "</div>"
      ],
      "text/plain": [
       "   ANO_FIM_EM  ANO_IN_GRAD  NT_GER  QE_I02  QE_I05 QE_I06 QE_I08 QE_I17  \\\n",
       "0      2007.0       2012.0    52.6       1       6      A      B      B   \n",
       "1      2013.0       2013.0    63.1       4       4      C      B      A   \n",
       "2      2011.0       2013.0    33.7       4       6      B      F      B   \n",
       "3      2011.0       2013.0    58.1       1       4      D      B      A   \n",
       "4      2010.0       2013.0    46.3       1       6      B      F      B   \n",
       "\n",
       "  QE_I20 QE_I25  CO_CATEGAD  CO_GRUPO  CO_UF_CURSO  CO_REGIAO_CURSO  NU_IDADE  \\\n",
       "0      H      H           1      5710           51                5        26   \n",
       "1      K      C           1      5710           51                5        23   \n",
       "2      A      E           1      5710           51                5        23   \n",
       "3      C      E           1      5710           51                5        23   \n",
       "4      G      A           1      5710           51                5        24   \n",
       "\n",
       "   TP_SEXO  \n",
       "0        2  \n",
       "1        2  \n",
       "2        1  \n",
       "3        1  \n",
       "4        1  "
      ]
     },
     "execution_count": 7,
     "metadata": {},
     "output_type": "execute_result"
    }
   ],
   "source": [
    "tabela17=tabela17.loc[(tabela17['QE_I02'].notnull())]\n",
    "tabela17=tabela17.loc[(tabela17['QE_I05'].notnull())]\n",
    "\n",
    "tabela17['QE_I02'] = tabela17['QE_I02'].map({'A': 1, 'B': 2, 'C': 3, 'D' : 4, 'E' : 5, 'F' : 6})\n",
    "tabela17['QE_I05'] = tabela17['QE_I05'].map({'A': 1, 'B': 2, 'C': 3, 'D' : 4, 'E' : 5, 'F' : 6})\n",
    "\n",
    "tabela17.head()"
   ]
  },
  {
   "cell_type": "code",
   "execution_count": 8,
   "metadata": {},
   "outputs": [
    {
     "data": {
      "text/html": [
       "<div>\n",
       "<style scoped>\n",
       "    .dataframe tbody tr th:only-of-type {\n",
       "        vertical-align: middle;\n",
       "    }\n",
       "\n",
       "    .dataframe tbody tr th {\n",
       "        vertical-align: top;\n",
       "    }\n",
       "\n",
       "    .dataframe thead th {\n",
       "        text-align: right;\n",
       "    }\n",
       "</style>\n",
       "<table border=\"1\" class=\"dataframe\">\n",
       "  <thead>\n",
       "    <tr style=\"text-align: right;\">\n",
       "      <th></th>\n",
       "      <th>ANO_FIM_EM</th>\n",
       "      <th>ANO_IN_GRAD</th>\n",
       "      <th>NT_GER</th>\n",
       "      <th>QE_I02</th>\n",
       "      <th>QE_I05</th>\n",
       "      <th>QE_I06</th>\n",
       "      <th>QE_I08</th>\n",
       "      <th>QE_I17</th>\n",
       "      <th>QE_I20</th>\n",
       "      <th>QE_I25</th>\n",
       "      <th>CO_CATEGAD</th>\n",
       "      <th>CO_GRUPO</th>\n",
       "      <th>CO_UF_CURSO</th>\n",
       "      <th>CO_REGIAO_CURSO</th>\n",
       "      <th>NU_IDADE</th>\n",
       "      <th>TP_SEXO</th>\n",
       "    </tr>\n",
       "  </thead>\n",
       "  <tbody>\n",
       "    <tr>\n",
       "      <th>0</th>\n",
       "      <td>2007.0</td>\n",
       "      <td>2012.0</td>\n",
       "      <td>52.6</td>\n",
       "      <td>1</td>\n",
       "      <td>6</td>\n",
       "      <td>1</td>\n",
       "      <td>2</td>\n",
       "      <td>2</td>\n",
       "      <td>H</td>\n",
       "      <td>H</td>\n",
       "      <td>1</td>\n",
       "      <td>5710</td>\n",
       "      <td>51</td>\n",
       "      <td>5</td>\n",
       "      <td>26</td>\n",
       "      <td>2</td>\n",
       "    </tr>\n",
       "    <tr>\n",
       "      <th>1</th>\n",
       "      <td>2013.0</td>\n",
       "      <td>2013.0</td>\n",
       "      <td>63.1</td>\n",
       "      <td>4</td>\n",
       "      <td>4</td>\n",
       "      <td>3</td>\n",
       "      <td>2</td>\n",
       "      <td>1</td>\n",
       "      <td>K</td>\n",
       "      <td>C</td>\n",
       "      <td>1</td>\n",
       "      <td>5710</td>\n",
       "      <td>51</td>\n",
       "      <td>5</td>\n",
       "      <td>23</td>\n",
       "      <td>2</td>\n",
       "    </tr>\n",
       "    <tr>\n",
       "      <th>2</th>\n",
       "      <td>2011.0</td>\n",
       "      <td>2013.0</td>\n",
       "      <td>33.7</td>\n",
       "      <td>4</td>\n",
       "      <td>6</td>\n",
       "      <td>2</td>\n",
       "      <td>6</td>\n",
       "      <td>2</td>\n",
       "      <td>A</td>\n",
       "      <td>E</td>\n",
       "      <td>1</td>\n",
       "      <td>5710</td>\n",
       "      <td>51</td>\n",
       "      <td>5</td>\n",
       "      <td>23</td>\n",
       "      <td>1</td>\n",
       "    </tr>\n",
       "    <tr>\n",
       "      <th>3</th>\n",
       "      <td>2011.0</td>\n",
       "      <td>2013.0</td>\n",
       "      <td>58.1</td>\n",
       "      <td>1</td>\n",
       "      <td>4</td>\n",
       "      <td>4</td>\n",
       "      <td>2</td>\n",
       "      <td>1</td>\n",
       "      <td>C</td>\n",
       "      <td>E</td>\n",
       "      <td>1</td>\n",
       "      <td>5710</td>\n",
       "      <td>51</td>\n",
       "      <td>5</td>\n",
       "      <td>23</td>\n",
       "      <td>1</td>\n",
       "    </tr>\n",
       "    <tr>\n",
       "      <th>4</th>\n",
       "      <td>2010.0</td>\n",
       "      <td>2013.0</td>\n",
       "      <td>46.3</td>\n",
       "      <td>1</td>\n",
       "      <td>6</td>\n",
       "      <td>2</td>\n",
       "      <td>6</td>\n",
       "      <td>2</td>\n",
       "      <td>G</td>\n",
       "      <td>A</td>\n",
       "      <td>1</td>\n",
       "      <td>5710</td>\n",
       "      <td>51</td>\n",
       "      <td>5</td>\n",
       "      <td>24</td>\n",
       "      <td>1</td>\n",
       "    </tr>\n",
       "  </tbody>\n",
       "</table>\n",
       "</div>"
      ],
      "text/plain": [
       "   ANO_FIM_EM  ANO_IN_GRAD  NT_GER  QE_I02  QE_I05  QE_I06  QE_I08  QE_I17  \\\n",
       "0      2007.0       2012.0    52.6       1       6       1       2       2   \n",
       "1      2013.0       2013.0    63.1       4       4       3       2       1   \n",
       "2      2011.0       2013.0    33.7       4       6       2       6       2   \n",
       "3      2011.0       2013.0    58.1       1       4       4       2       1   \n",
       "4      2010.0       2013.0    46.3       1       6       2       6       2   \n",
       "\n",
       "  QE_I20 QE_I25  CO_CATEGAD  CO_GRUPO  CO_UF_CURSO  CO_REGIAO_CURSO  NU_IDADE  \\\n",
       "0      H      H           1      5710           51                5        26   \n",
       "1      K      C           1      5710           51                5        23   \n",
       "2      A      E           1      5710           51                5        23   \n",
       "3      C      E           1      5710           51                5        23   \n",
       "4      G      A           1      5710           51                5        24   \n",
       "\n",
       "   TP_SEXO  \n",
       "0        2  \n",
       "1        2  \n",
       "2        1  \n",
       "3        1  \n",
       "4        1  "
      ]
     },
     "execution_count": 8,
     "metadata": {},
     "output_type": "execute_result"
    }
   ],
   "source": [
    "tabela17=tabela17.loc[(tabela17['QE_I06'].notnull())]\n",
    "tabela17=tabela17.loc[(tabela17['QE_I08'].notnull())]\n",
    "tabela17=tabela17.loc[(tabela17['QE_I17'].notnull())]\n",
    "\n",
    "tabela17['QE_I06'] = tabela17['QE_I06'].map({'A': 1, 'B': 2, 'C': 3, 'D': 4,'E': 5, 'F':6})\n",
    "tabela17['QE_I08'] = tabela17['QE_I08'].map({'A': 1, 'B': 2, 'C': 3, 'D': 4,'E': 5,'F':6, 'G':7})\n",
    "tabela17['QE_I17'] = tabela17['QE_I17'].map({'A': 1, 'B': 2, 'C': 3, 'D': 4,'E': 5,'F':6})\n",
    "\n",
    "tabela17.head()"
   ]
  },
  {
   "cell_type": "code",
   "execution_count": 9,
   "metadata": {},
   "outputs": [
    {
     "data": {
      "text/html": [
       "<div>\n",
       "<style scoped>\n",
       "    .dataframe tbody tr th:only-of-type {\n",
       "        vertical-align: middle;\n",
       "    }\n",
       "\n",
       "    .dataframe tbody tr th {\n",
       "        vertical-align: top;\n",
       "    }\n",
       "\n",
       "    .dataframe thead th {\n",
       "        text-align: right;\n",
       "    }\n",
       "</style>\n",
       "<table border=\"1\" class=\"dataframe\">\n",
       "  <thead>\n",
       "    <tr style=\"text-align: right;\">\n",
       "      <th></th>\n",
       "      <th>ANO_FIM_EM</th>\n",
       "      <th>ANO_IN_GRAD</th>\n",
       "      <th>NT_GER</th>\n",
       "      <th>QE_I02</th>\n",
       "      <th>QE_I05</th>\n",
       "      <th>QE_I06</th>\n",
       "      <th>QE_I08</th>\n",
       "      <th>QE_I17</th>\n",
       "      <th>QE_I20</th>\n",
       "      <th>QE_I25</th>\n",
       "      <th>CO_CATEGAD</th>\n",
       "      <th>CO_GRUPO</th>\n",
       "      <th>CO_UF_CURSO</th>\n",
       "      <th>CO_REGIAO_CURSO</th>\n",
       "      <th>NU_IDADE</th>\n",
       "      <th>TP_SEXO</th>\n",
       "    </tr>\n",
       "  </thead>\n",
       "  <tbody>\n",
       "    <tr>\n",
       "      <th>0</th>\n",
       "      <td>2007.0</td>\n",
       "      <td>2012.0</td>\n",
       "      <td>52.6</td>\n",
       "      <td>1</td>\n",
       "      <td>6</td>\n",
       "      <td>1</td>\n",
       "      <td>2</td>\n",
       "      <td>2</td>\n",
       "      <td>8</td>\n",
       "      <td>8</td>\n",
       "      <td>1</td>\n",
       "      <td>5710</td>\n",
       "      <td>51</td>\n",
       "      <td>5</td>\n",
       "      <td>26</td>\n",
       "      <td>2</td>\n",
       "    </tr>\n",
       "    <tr>\n",
       "      <th>1</th>\n",
       "      <td>2013.0</td>\n",
       "      <td>2013.0</td>\n",
       "      <td>63.1</td>\n",
       "      <td>4</td>\n",
       "      <td>4</td>\n",
       "      <td>3</td>\n",
       "      <td>2</td>\n",
       "      <td>1</td>\n",
       "      <td>11</td>\n",
       "      <td>3</td>\n",
       "      <td>1</td>\n",
       "      <td>5710</td>\n",
       "      <td>51</td>\n",
       "      <td>5</td>\n",
       "      <td>23</td>\n",
       "      <td>2</td>\n",
       "    </tr>\n",
       "    <tr>\n",
       "      <th>2</th>\n",
       "      <td>2011.0</td>\n",
       "      <td>2013.0</td>\n",
       "      <td>33.7</td>\n",
       "      <td>4</td>\n",
       "      <td>6</td>\n",
       "      <td>2</td>\n",
       "      <td>6</td>\n",
       "      <td>2</td>\n",
       "      <td>1</td>\n",
       "      <td>5</td>\n",
       "      <td>1</td>\n",
       "      <td>5710</td>\n",
       "      <td>51</td>\n",
       "      <td>5</td>\n",
       "      <td>23</td>\n",
       "      <td>1</td>\n",
       "    </tr>\n",
       "    <tr>\n",
       "      <th>3</th>\n",
       "      <td>2011.0</td>\n",
       "      <td>2013.0</td>\n",
       "      <td>58.1</td>\n",
       "      <td>1</td>\n",
       "      <td>4</td>\n",
       "      <td>4</td>\n",
       "      <td>2</td>\n",
       "      <td>1</td>\n",
       "      <td>3</td>\n",
       "      <td>5</td>\n",
       "      <td>1</td>\n",
       "      <td>5710</td>\n",
       "      <td>51</td>\n",
       "      <td>5</td>\n",
       "      <td>23</td>\n",
       "      <td>1</td>\n",
       "    </tr>\n",
       "    <tr>\n",
       "      <th>4</th>\n",
       "      <td>2010.0</td>\n",
       "      <td>2013.0</td>\n",
       "      <td>46.3</td>\n",
       "      <td>1</td>\n",
       "      <td>6</td>\n",
       "      <td>2</td>\n",
       "      <td>6</td>\n",
       "      <td>2</td>\n",
       "      <td>7</td>\n",
       "      <td>1</td>\n",
       "      <td>1</td>\n",
       "      <td>5710</td>\n",
       "      <td>51</td>\n",
       "      <td>5</td>\n",
       "      <td>24</td>\n",
       "      <td>1</td>\n",
       "    </tr>\n",
       "  </tbody>\n",
       "</table>\n",
       "</div>"
      ],
      "text/plain": [
       "   ANO_FIM_EM  ANO_IN_GRAD  NT_GER  QE_I02  QE_I05  QE_I06  QE_I08  QE_I17  \\\n",
       "0      2007.0       2012.0    52.6       1       6       1       2       2   \n",
       "1      2013.0       2013.0    63.1       4       4       3       2       1   \n",
       "2      2011.0       2013.0    33.7       4       6       2       6       2   \n",
       "3      2011.0       2013.0    58.1       1       4       4       2       1   \n",
       "4      2010.0       2013.0    46.3       1       6       2       6       2   \n",
       "\n",
       "   QE_I20  QE_I25  CO_CATEGAD  CO_GRUPO  CO_UF_CURSO  CO_REGIAO_CURSO  \\\n",
       "0       8       8           1      5710           51                5   \n",
       "1      11       3           1      5710           51                5   \n",
       "2       1       5           1      5710           51                5   \n",
       "3       3       5           1      5710           51                5   \n",
       "4       7       1           1      5710           51                5   \n",
       "\n",
       "   NU_IDADE  TP_SEXO  \n",
       "0        26        2  \n",
       "1        23        2  \n",
       "2        23        1  \n",
       "3        23        1  \n",
       "4        24        1  "
      ]
     },
     "execution_count": 9,
     "metadata": {},
     "output_type": "execute_result"
    }
   ],
   "source": [
    "tabela17=tabela17.loc[(tabela17['QE_I20'].notnull())]\n",
    "tabela17=tabela17.loc[(tabela17['QE_I25'].notnull())]\n",
    "\n",
    "tabela17['QE_I20'] = tabela17['QE_I20'].map({'A': 1, 'B': 2, 'C': 3, 'D': 4,'E': 5, 'F':6, 'G':7, 'H':8, 'I':9, 'J':10, 'K':11})\n",
    "tabela17['QE_I25'] = tabela17['QE_I25'].map({'A': 1, 'B': 2, 'C': 3, 'D': 4,'E': 5,'F':6,'G':7,'H':8})\n",
    "\n",
    "tabela17.head()"
   ]
  },
  {
   "cell_type": "code",
   "execution_count": 10,
   "metadata": {},
   "outputs": [],
   "source": [
    "#filtrar por curso\n",
    "\n",
    "ccompb = tabela17[tabela17['CO_GRUPO']==4004]\n",
    "ccompl =  tabela17[tabela17['CO_GRUPO']==4005]\n",
    "engcomp = tabela17[tabela17['CO_GRUPO']==4003]\n",
    "sistinf =  tabela17[tabela17['CO_GRUPO']==4006]\n",
    "tads =  tabela17[tabela17['CO_GRUPO']==72]\n",
    "tredes =  tabela17[tabela17['CO_GRUPO']==79]\n",
    "tgti = tabela17[tabela17['CO_GRUPO']==6409]"
   ]
  },
  {
   "cell_type": "markdown",
   "metadata": {},
   "source": [
    "ciência da computação bacharel"
   ]
  },
  {
   "cell_type": "code",
   "execution_count": 11,
   "metadata": {
    "scrolled": false
   },
   "outputs": [
    {
     "name": "stdout",
     "output_type": "stream",
     "text": [
      "quant homens ccomp bacharel\n",
      "7397\n",
      "media homens ccomp bacharel\n",
      "43.54317966743272\n"
     ]
    }
   ],
   "source": [
    "#masculino\n",
    "masccompb = ccompb[ccompb['TP_SEXO']==1]\n",
    "qmaccompb=masccompb['NT_GER'].count()\n",
    "print(\"quant homens ccomp bacharel\")\n",
    "print(qmaccompb)\n",
    "\n",
    "mmasccompb=masccompb['NT_GER'].mean()\n",
    "print(\"media homens ccomp bacharel\")\n",
    "print(mmasccompb)"
   ]
  },
  {
   "cell_type": "code",
   "execution_count": 12,
   "metadata": {},
   "outputs": [
    {
     "name": "stdout",
     "output_type": "stream",
     "text": [
      "quant mulheres ccomp licenciatura\n",
      "1011\n",
      "media mulheres ccomp bacharel\n",
      "41.72551928783381\n"
     ]
    }
   ],
   "source": [
    "#feminino\n",
    "femccompb = ccompb[ccompb['TP_SEXO']==2]\n",
    "qfemccompb=femccompb['NT_GER'].count()\n",
    "print(\"quant mulheres ccomp licenciatura\")\n",
    "print(qfemccompb)\n",
    "\n",
    "mfemccompb=femccompb['NT_GER'].mean()\n",
    "print(\"media mulheres ccomp bacharel\")\n",
    "print(mfemccompb)"
   ]
  },
  {
   "cell_type": "markdown",
   "metadata": {},
   "source": [
    "ciência da computação licenciatura"
   ]
  },
  {
   "cell_type": "code",
   "execution_count": 13,
   "metadata": {},
   "outputs": [
    {
     "name": "stdout",
     "output_type": "stream",
     "text": [
      "quant homens ccomp licenciatura\n",
      "730\n",
      "media homens ccomp licenciatura\n",
      "41.91191780821916\n"
     ]
    }
   ],
   "source": [
    "#masculino\n",
    "masccompl = ccompl[ccompl['TP_SEXO']==1]\n",
    "qmasccompl=masccompl['NT_GER'].count()\n",
    "print(\"quant homens ccomp licenciatura\")\n",
    "print(qmasccompl)\n",
    "\n",
    "mmasccompl=masccompl['NT_GER'].mean()\n",
    "print(\"media homens ccomp licenciatura\")\n",
    "print(mmasccompl)"
   ]
  },
  {
   "cell_type": "code",
   "execution_count": 14,
   "metadata": {},
   "outputs": [
    {
     "name": "stdout",
     "output_type": "stream",
     "text": [
      "quant mulheres ccomp licenciatura\n",
      "350\n",
      "media mulheres ccomp licenciatura\n",
      "38.40942857142856\n"
     ]
    }
   ],
   "source": [
    "#feminino\n",
    "femccompl = ccompl[ccompl['TP_SEXO']==2]\n",
    "qfemccompl=femccompl['NT_GER'].count()\n",
    "print('quant mulheres ccomp licenciatura')\n",
    "print(qfemccompl)\n",
    "\n",
    "mfemccompl=femccompl['NT_GER'].mean()\n",
    "print('media mulheres ccomp licenciatura')\n",
    "print(mfemccompl)"
   ]
  },
  {
   "cell_type": "markdown",
   "metadata": {},
   "source": [
    "engenharia da computação"
   ]
  },
  {
   "cell_type": "code",
   "execution_count": 15,
   "metadata": {},
   "outputs": [
    {
     "name": "stdout",
     "output_type": "stream",
     "text": [
      "quant homens engcomp\n",
      "3022\n",
      "media homens engcomp\n",
      "45.81522170747852\n"
     ]
    }
   ],
   "source": [
    "#masculino\n",
    "mascengcomp = engcomp[engcomp['TP_SEXO']==1]\n",
    "qmascengcomp=mascengcomp['NT_GER'].count()\n",
    "print(\"quant homens engcomp\")\n",
    "print(qmascengcomp)\n",
    "\n",
    "mmascengcomp=mascengcomp['NT_GER'].mean()\n",
    "print(\"media homens engcomp\")\n",
    "print(mmascengcomp)"
   ]
  },
  {
   "cell_type": "code",
   "execution_count": 16,
   "metadata": {},
   "outputs": [
    {
     "name": "stdout",
     "output_type": "stream",
     "text": [
      "quant mulheres engcomp\n",
      "431\n",
      "media mulheres engcomp\n",
      "42.89814385150811\n"
     ]
    }
   ],
   "source": [
    "#feminino\n",
    "femengcomp = engcomp[engcomp['TP_SEXO']==2]\n",
    "qfemengcomp=femengcomp['NT_GER'].count()\n",
    "print('quant mulheres engcomp')\n",
    "print(qfemengcomp)\n",
    "\n",
    "mfemengcomp=femengcomp['NT_GER'].mean()\n",
    "print('media mulheres engcomp')\n",
    "print(mfemengcomp)"
   ]
  },
  {
   "cell_type": "markdown",
   "metadata": {},
   "source": [
    "sistemas de informação "
   ]
  },
  {
   "cell_type": "code",
   "execution_count": 17,
   "metadata": {},
   "outputs": [
    {
     "name": "stdout",
     "output_type": "stream",
     "text": [
      "quant homens sistinf\n",
      "9919\n",
      "media homens sistinf\n",
      "45.004637564270865\n"
     ]
    }
   ],
   "source": [
    "#masculino\n",
    "mascsistinf = sistinf[sistinf['TP_SEXO']==1]\n",
    "qmascsistinf=mascsistinf['NT_GER'].count()\n",
    "print(\"quant homens sistinf\")\n",
    "print(qmascsistinf)\n",
    "\n",
    "mmascsistinf=mascsistinf['NT_GER'].mean()\n",
    "print(\"media homens sistinf\")\n",
    "print(mmascsistinf)"
   ]
  },
  {
   "cell_type": "code",
   "execution_count": 18,
   "metadata": {},
   "outputs": [
    {
     "name": "stdout",
     "output_type": "stream",
     "text": [
      "quant mulheres sistinf\n",
      "1983\n",
      "media mulheres sistinf\n",
      "43.42708018154312\n"
     ]
    }
   ],
   "source": [
    "#feminino\n",
    "femsistinf = sistinf[sistinf['TP_SEXO']==2]\n",
    "qfemsistinf=femsistinf['NT_GER'].count()\n",
    "print(\"quant mulheres sistinf\")\n",
    "print(qfemsistinf)\n",
    "\n",
    "mfemsistinf=femsistinf['NT_GER'].mean()\n",
    "print(\"media mulheres sistinf\")\n",
    "print(mfemsistinf)"
   ]
  },
  {
   "cell_type": "code",
   "execution_count": 129,
   "metadata": {},
   "outputs": [
    {
     "name": "stdout",
     "output_type": "stream",
     "text": [
      "Quantidade de homens em tads\n",
      "8302\n",
      "Media de nota homens em tads\n",
      "40.33888219706107\n"
     ]
    }
   ],
   "source": [
    "mastads = tads[tads['TP_SEXO']==1]\n",
    "Qmastads=mastads['NT_GER'].count()\n",
    "Mmastads=mastads['NT_GER'].mean()\n",
    "print(\"Quantidade de homens em tads\")\n",
    "print(Qmastads)\n",
    "print(\"Media de nota homens em tads\")\n",
    "print(Mmastads)\n"
   ]
  },
  {
   "cell_type": "code",
   "execution_count": 130,
   "metadata": {},
   "outputs": [
    {
     "name": "stdout",
     "output_type": "stream",
     "text": [
      "Quantidade de mulheres em tads\n",
      "1334\n",
      "Media de nota mulheres em tads\n",
      "39.597526236881556\n"
     ]
    }
   ],
   "source": [
    "femtads = tads[tads['TP_SEXO']==2]\n",
    "Qfemtads=femtads['NT_GER'].count()\n",
    "Mfemtads=femtads['NT_GER'].mean()\n",
    "print(\"Quantidade de mulheres em tads\")\n",
    "print(Qfemtads)\n",
    "print(\"Media de nota mulheres em tads\")\n",
    "print(Mfemtads)"
   ]
  },
  {
   "cell_type": "code",
   "execution_count": 44,
   "metadata": {
    "scrolled": true
   },
   "outputs": [
    {
     "name": "stdout",
     "output_type": "stream",
     "text": [
      "Quantidade de homens em tredes\n",
      "2273\n",
      "Media de nota homens em tredes\n",
      "34.01007479102509\n"
     ]
    }
   ],
   "source": [
    "mastredes = tredes[tredes['TP_SEXO']==1]\n",
    "Qmastredes=mastredes['NT_GER'].count()\n",
    "Mmastredes=mastredes['NT_GER'].mean()\n",
    "print(\"Quantidade de homens em tredes\")\n",
    "print(Qmastredes)\n",
    "print(\"Media de nota homens em tredes\")\n",
    "print(Mmastredes)"
   ]
  },
  {
   "cell_type": "code",
   "execution_count": 45,
   "metadata": {},
   "outputs": [
    {
     "name": "stdout",
     "output_type": "stream",
     "text": [
      "Quantidade de mulheres em tredes\n",
      "207\n",
      "Media de nota mulheres em tredes\n",
      "30.833333333333346\n"
     ]
    }
   ],
   "source": [
    "femtredes = tredes[tredes['TP_SEXO']==2]\n",
    "Qfemtredes=femtredes['NT_GER'].count()\n",
    "Mfemtredes=femtredes['NT_GER'].mean()\n",
    "print(\"Quantidade de mulheres em tredes\")\n",
    "print(Qfemtredes)\n",
    "print(\"Media de nota mulheres em tredes\")\n",
    "print(Mfemtredes)"
   ]
  },
  {
   "cell_type": "code",
   "execution_count": 46,
   "metadata": {
    "scrolled": true
   },
   "outputs": [
    {
     "name": "stdout",
     "output_type": "stream",
     "text": [
      "Quantidade de homens em tgti\n",
      "2673\n",
      "Media de nota homens em tgti\n",
      "45.8946127946129\n"
     ]
    }
   ],
   "source": [
    "mastgti = tgti[tgti['TP_SEXO']==1]\n",
    "Qmastgti=mastgti['NT_GER'].count()\n",
    "Mmastgti=mastgti['NT_GER'].mean()\n",
    "print(\"Quantidade de homens em tgti\")\n",
    "print(Qmastgti)\n",
    "print(\"Media de nota homens em tgti\")\n",
    "print(Mmastgti)"
   ]
  },
  {
   "cell_type": "code",
   "execution_count": 47,
   "metadata": {},
   "outputs": [
    {
     "name": "stdout",
     "output_type": "stream",
     "text": [
      "Quantidade de mulheres em tgdi\n",
      "530\n",
      "Media de nota mulheres em tgdi\n",
      "43.61811320754722\n"
     ]
    }
   ],
   "source": [
    "femtgti = tgti[tgti['TP_SEXO']==2]\n",
    "Qfemtgti=femtgti['NT_GER'].count()\n",
    "Mfemtgti=femtgti['NT_GER'].mean()\n",
    "print(\"Quantidade de mulheres em tgdi\")\n",
    "print(Qfemtgti)\n",
    "print(\"Media de nota mulheres em tgdi\")\n",
    "print(Mfemtgti)"
   ]
  },
  {
   "cell_type": "markdown",
   "metadata": {},
   "source": [
    "<h3>juntando todos os cursos numa única variável</h3>"
   ]
  },
  {
   "cell_type": "code",
   "execution_count": 19,
   "metadata": {},
   "outputs": [
    {
     "data": {
      "text/html": [
       "<div>\n",
       "<style scoped>\n",
       "    .dataframe tbody tr th:only-of-type {\n",
       "        vertical-align: middle;\n",
       "    }\n",
       "\n",
       "    .dataframe tbody tr th {\n",
       "        vertical-align: top;\n",
       "    }\n",
       "\n",
       "    .dataframe thead th {\n",
       "        text-align: right;\n",
       "    }\n",
       "</style>\n",
       "<table border=\"1\" class=\"dataframe\">\n",
       "  <thead>\n",
       "    <tr style=\"text-align: right;\">\n",
       "      <th></th>\n",
       "      <th>ANO_FIM_EM</th>\n",
       "      <th>ANO_IN_GRAD</th>\n",
       "      <th>NT_GER</th>\n",
       "      <th>QE_I02</th>\n",
       "      <th>QE_I05</th>\n",
       "      <th>QE_I06</th>\n",
       "      <th>QE_I08</th>\n",
       "      <th>QE_I17</th>\n",
       "      <th>QE_I20</th>\n",
       "      <th>QE_I25</th>\n",
       "      <th>CO_CATEGAD</th>\n",
       "      <th>CO_GRUPO</th>\n",
       "      <th>CO_UF_CURSO</th>\n",
       "      <th>CO_REGIAO_CURSO</th>\n",
       "      <th>NU_IDADE</th>\n",
       "      <th>TP_SEXO</th>\n",
       "    </tr>\n",
       "  </thead>\n",
       "  <tbody>\n",
       "    <tr>\n",
       "      <th>count</th>\n",
       "      <td>40162.000000</td>\n",
       "      <td>40162.000000</td>\n",
       "      <td>40162.000000</td>\n",
       "      <td>40162.000000</td>\n",
       "      <td>40162.000000</td>\n",
       "      <td>40162.000000</td>\n",
       "      <td>40162.000000</td>\n",
       "      <td>40162.000000</td>\n",
       "      <td>40162.000000</td>\n",
       "      <td>40162.000000</td>\n",
       "      <td>40162.000000</td>\n",
       "      <td>40162.0</td>\n",
       "      <td>40162.000000</td>\n",
       "      <td>40162.000000</td>\n",
       "      <td>40162.000000</td>\n",
       "      <td>40162.000000</td>\n",
       "    </tr>\n",
       "    <tr>\n",
       "      <th>mean</th>\n",
       "      <td>2008.539092</td>\n",
       "      <td>2013.313829</td>\n",
       "      <td>42.701305</td>\n",
       "      <td>2.190603</td>\n",
       "      <td>3.822967</td>\n",
       "      <td>2.290996</td>\n",
       "      <td>3.154151</td>\n",
       "      <td>1.596136</td>\n",
       "      <td>3.736891</td>\n",
       "      <td>3.756536</td>\n",
       "      <td>3.367238</td>\n",
       "      <td>1.0</td>\n",
       "      <td>34.241298</td>\n",
       "      <td>3.067576</td>\n",
       "      <td>26.678950</td>\n",
       "      <td>1.145560</td>\n",
       "    </tr>\n",
       "    <tr>\n",
       "      <th>std</th>\n",
       "      <td>5.229346</td>\n",
       "      <td>1.984003</td>\n",
       "      <td>13.543019</td>\n",
       "      <td>1.507531</td>\n",
       "      <td>1.224539</td>\n",
       "      <td>0.760019</td>\n",
       "      <td>1.511875</td>\n",
       "      <td>1.045554</td>\n",
       "      <td>2.980205</td>\n",
       "      <td>2.374225</td>\n",
       "      <td>1.561841</td>\n",
       "      <td>0.0</td>\n",
       "      <td>8.543333</td>\n",
       "      <td>0.928357</td>\n",
       "      <td>6.135044</td>\n",
       "      <td>0.352669</td>\n",
       "    </tr>\n",
       "    <tr>\n",
       "      <th>min</th>\n",
       "      <td>1962.000000</td>\n",
       "      <td>1993.000000</td>\n",
       "      <td>0.000000</td>\n",
       "      <td>1.000000</td>\n",
       "      <td>1.000000</td>\n",
       "      <td>1.000000</td>\n",
       "      <td>1.000000</td>\n",
       "      <td>1.000000</td>\n",
       "      <td>1.000000</td>\n",
       "      <td>1.000000</td>\n",
       "      <td>1.000000</td>\n",
       "      <td>1.0</td>\n",
       "      <td>11.000000</td>\n",
       "      <td>1.000000</td>\n",
       "      <td>17.000000</td>\n",
       "      <td>1.000000</td>\n",
       "    </tr>\n",
       "    <tr>\n",
       "      <th>25%</th>\n",
       "      <td>2007.000000</td>\n",
       "      <td>2012.000000</td>\n",
       "      <td>33.100000</td>\n",
       "      <td>1.000000</td>\n",
       "      <td>3.000000</td>\n",
       "      <td>2.000000</td>\n",
       "      <td>2.000000</td>\n",
       "      <td>1.000000</td>\n",
       "      <td>1.000000</td>\n",
       "      <td>1.000000</td>\n",
       "      <td>2.000000</td>\n",
       "      <td>1.0</td>\n",
       "      <td>31.000000</td>\n",
       "      <td>3.000000</td>\n",
       "      <td>22.000000</td>\n",
       "      <td>1.000000</td>\n",
       "    </tr>\n",
       "    <tr>\n",
       "      <th>50%</th>\n",
       "      <td>2010.000000</td>\n",
       "      <td>2014.000000</td>\n",
       "      <td>42.200000</td>\n",
       "      <td>1.000000</td>\n",
       "      <td>4.000000</td>\n",
       "      <td>2.000000</td>\n",
       "      <td>3.000000</td>\n",
       "      <td>1.000000</td>\n",
       "      <td>3.000000</td>\n",
       "      <td>3.000000</td>\n",
       "      <td>4.000000</td>\n",
       "      <td>1.0</td>\n",
       "      <td>35.000000</td>\n",
       "      <td>3.000000</td>\n",
       "      <td>25.000000</td>\n",
       "      <td>1.000000</td>\n",
       "    </tr>\n",
       "    <tr>\n",
       "      <th>75%</th>\n",
       "      <td>2012.000000</td>\n",
       "      <td>2015.000000</td>\n",
       "      <td>51.900000</td>\n",
       "      <td>4.000000</td>\n",
       "      <td>5.000000</td>\n",
       "      <td>3.000000</td>\n",
       "      <td>4.000000</td>\n",
       "      <td>2.000000</td>\n",
       "      <td>7.000000</td>\n",
       "      <td>5.000000</td>\n",
       "      <td>5.000000</td>\n",
       "      <td>1.0</td>\n",
       "      <td>41.000000</td>\n",
       "      <td>4.000000</td>\n",
       "      <td>29.000000</td>\n",
       "      <td>1.000000</td>\n",
       "    </tr>\n",
       "    <tr>\n",
       "      <th>max</th>\n",
       "      <td>2017.000000</td>\n",
       "      <td>2017.000000</td>\n",
       "      <td>96.200000</td>\n",
       "      <td>6.000000</td>\n",
       "      <td>6.000000</td>\n",
       "      <td>6.000000</td>\n",
       "      <td>7.000000</td>\n",
       "      <td>6.000000</td>\n",
       "      <td>11.000000</td>\n",
       "      <td>8.000000</td>\n",
       "      <td>7.000000</td>\n",
       "      <td>1.0</td>\n",
       "      <td>53.000000</td>\n",
       "      <td>5.000000</td>\n",
       "      <td>73.000000</td>\n",
       "      <td>2.000000</td>\n",
       "    </tr>\n",
       "  </tbody>\n",
       "</table>\n",
       "</div>"
      ],
      "text/plain": [
       "         ANO_FIM_EM   ANO_IN_GRAD        NT_GER        QE_I02        QE_I05  \\\n",
       "count  40162.000000  40162.000000  40162.000000  40162.000000  40162.000000   \n",
       "mean    2008.539092   2013.313829     42.701305      2.190603      3.822967   \n",
       "std        5.229346      1.984003     13.543019      1.507531      1.224539   \n",
       "min     1962.000000   1993.000000      0.000000      1.000000      1.000000   \n",
       "25%     2007.000000   2012.000000     33.100000      1.000000      3.000000   \n",
       "50%     2010.000000   2014.000000     42.200000      1.000000      4.000000   \n",
       "75%     2012.000000   2015.000000     51.900000      4.000000      5.000000   \n",
       "max     2017.000000   2017.000000     96.200000      6.000000      6.000000   \n",
       "\n",
       "             QE_I06        QE_I08        QE_I17        QE_I20        QE_I25  \\\n",
       "count  40162.000000  40162.000000  40162.000000  40162.000000  40162.000000   \n",
       "mean       2.290996      3.154151      1.596136      3.736891      3.756536   \n",
       "std        0.760019      1.511875      1.045554      2.980205      2.374225   \n",
       "min        1.000000      1.000000      1.000000      1.000000      1.000000   \n",
       "25%        2.000000      2.000000      1.000000      1.000000      1.000000   \n",
       "50%        2.000000      3.000000      1.000000      3.000000      3.000000   \n",
       "75%        3.000000      4.000000      2.000000      7.000000      5.000000   \n",
       "max        6.000000      7.000000      6.000000     11.000000      8.000000   \n",
       "\n",
       "         CO_CATEGAD  CO_GRUPO   CO_UF_CURSO  CO_REGIAO_CURSO      NU_IDADE  \\\n",
       "count  40162.000000   40162.0  40162.000000     40162.000000  40162.000000   \n",
       "mean       3.367238       1.0     34.241298         3.067576     26.678950   \n",
       "std        1.561841       0.0      8.543333         0.928357      6.135044   \n",
       "min        1.000000       1.0     11.000000         1.000000     17.000000   \n",
       "25%        2.000000       1.0     31.000000         3.000000     22.000000   \n",
       "50%        4.000000       1.0     35.000000         3.000000     25.000000   \n",
       "75%        5.000000       1.0     41.000000         4.000000     29.000000   \n",
       "max        7.000000       1.0     53.000000         5.000000     73.000000   \n",
       "\n",
       "            TP_SEXO  \n",
       "count  40162.000000  \n",
       "mean       1.145560  \n",
       "std        0.352669  \n",
       "min        1.000000  \n",
       "25%        1.000000  \n",
       "50%        1.000000  \n",
       "75%        1.000000  \n",
       "max        2.000000  "
      ]
     },
     "execution_count": 19,
     "metadata": {},
     "output_type": "execute_result"
    }
   ],
   "source": [
    "tabela17=tabela17.loc[(tabela17['CO_GRUPO'].notnull())]\n",
    "tabela17['CO_GRUPO']=tabela17['CO_GRUPO'].map({4004: 1, 4005: 1, 4003: 1, 4006: 1, 72 : 1, 79 : 1, 6409:1})\n",
    "\n",
    "ti = tabela17[tabela17['CO_GRUPO']==1]\n",
    "ti.describe()"
   ]
  },
  {
   "cell_type": "markdown",
   "metadata": {},
   "source": [
    "tipo de sexo"
   ]
  },
  {
   "cell_type": "code",
   "execution_count": 20,
   "metadata": {},
   "outputs": [
    {
     "name": "stdout",
     "output_type": "stream",
     "text": [
      "quant homens todos os cursos de ti\n",
      "34316\n",
      "media homens todos os cursos de ti\n",
      "42.90750087422776\n"
     ]
    }
   ],
   "source": [
    "mascti = ti[ti['TP_SEXO']==1]\n",
    "qmascti=mascti['NT_GER'].count()\n",
    "print(\"quant homens todos os cursos de ti\")\n",
    "print(qmascti)\n",
    "\n",
    "mmascti=mascti['NT_GER'].mean()\n",
    "print(\"media homens todos os cursos de ti\")\n",
    "print(mmascti)"
   ]
  },
  {
   "cell_type": "code",
   "execution_count": 21,
   "metadata": {},
   "outputs": [
    {
     "name": "stdout",
     "output_type": "stream",
     "text": [
      "quant mulheres todos os cursos de ti  \n",
      "5846\n",
      "media mulheres todos os cursos de ti\n",
      "41.49093397194675\n"
     ]
    }
   ],
   "source": [
    "femti = ti[ti['TP_SEXO']==2]\n",
    "qfemti=femti['NT_GER'].count()\n",
    "print(\"quant mulheres todos os cursos de ti  \")\n",
    "print(qfemti)\n",
    "\n",
    "mfemti=femti['NT_GER'].mean()\n",
    "print(\"media mulheres todos os cursos de ti\")\n",
    "print(mfemti)"
   ]
  },
  {
   "cell_type": "markdown",
   "metadata": {},
   "source": [
    "<h3>separando por região </h3>"
   ]
  },
  {
   "cell_type": "markdown",
   "metadata": {},
   "source": [
    "NORTE"
   ]
  },
  {
   "cell_type": "code",
   "execution_count": 22,
   "metadata": {},
   "outputs": [
    {
     "name": "stdout",
     "output_type": "stream",
     "text": [
      "quant homens ti região NORTE\n",
      "1762\n",
      "media homens ti região NORTE\n",
      "40.323041997729824\n"
     ]
    }
   ],
   "source": [
    "#masculino\n",
    "nortemascti = mascti[mascti['CO_REGIAO_CURSO']==1]\n",
    "qnortemascti=nortemascti['NT_GER'].count()\n",
    "print(\"quant homens ti região NORTE\")\n",
    "print(qnortemascti)\n",
    "\n",
    "mnortemascti=nortemascti['NT_GER'].mean()\n",
    "print(\"media homens ti região NORTE\")\n",
    "print(mnortemascti)"
   ]
  },
  {
   "cell_type": "code",
   "execution_count": 23,
   "metadata": {},
   "outputs": [
    {
     "name": "stdout",
     "output_type": "stream",
     "text": [
      "quant mulheres ti região NORTE\n",
      "407\n",
      "media mulheres ti região NORTE\n",
      "38.382309582309574\n"
     ]
    }
   ],
   "source": [
    "#feminino\n",
    "nortefemti = femti[femti['CO_REGIAO_CURSO']==1]\n",
    "qnortefemti=nortefemti['NT_GER'].count()\n",
    "print(\"quant mulheres ti região NORTE\")\n",
    "print(qnortefemti)\n",
    "\n",
    "mnortefemti=nortefemti['NT_GER'].mean()\n",
    "print(\"media mulheres ti região NORTE\")\n",
    "print(mnortefemti)"
   ]
  },
  {
   "cell_type": "markdown",
   "metadata": {},
   "source": [
    "NORDESTE"
   ]
  },
  {
   "cell_type": "code",
   "execution_count": 24,
   "metadata": {},
   "outputs": [
    {
     "name": "stdout",
     "output_type": "stream",
     "text": [
      "quant homens ti região NORDESTE\n",
      "5495\n",
      "media homens ti região NORDESTE\n",
      "43.26422202001809\n"
     ]
    }
   ],
   "source": [
    "#masculino\n",
    "nordestemascti = mascti[mascti['CO_REGIAO_CURSO']==2]\n",
    "qnordestemascti=nordestemascti['NT_GER'].count()\n",
    "print(\"quant homens ti região NORDESTE\")\n",
    "print(qnordestemascti)\n",
    "\n",
    "mnordestemascti=nordestemascti['NT_GER'].mean()\n",
    "print(\"media homens ti região NORDESTE\")\n",
    "print(mnordestemascti)"
   ]
  },
  {
   "cell_type": "code",
   "execution_count": 25,
   "metadata": {},
   "outputs": [
    {
     "name": "stdout",
     "output_type": "stream",
     "text": [
      "quant mulheres ti região NORDESTE\n",
      "943\n",
      "media mulheres ti região NORDESTE\n",
      "41.58494167550372\n"
     ]
    }
   ],
   "source": [
    "#feminino\n",
    "nordestefemti = femti[femti['CO_REGIAO_CURSO']==2]\n",
    "qnordestefemti=nordestefemti['NT_GER'].count()\n",
    "print(\"quant mulheres ti região NORDESTE\")\n",
    "print(qnordestefemti)\n",
    "\n",
    "mnordestefemti=nordestefemti['NT_GER'].mean()\n",
    "print(\"media mulheres ti região NORDESTE\")\n",
    "print(mnordestefemti)"
   ]
  },
  {
   "cell_type": "markdown",
   "metadata": {},
   "source": [
    "SUDESTE"
   ]
  },
  {
   "cell_type": "code",
   "execution_count": 26,
   "metadata": {},
   "outputs": [
    {
     "name": "stdout",
     "output_type": "stream",
     "text": [
      "quant homens ti região SUDESTE\n",
      "17958\n",
      "media homens ti região SUDESTE\n",
      "42.997204588484166\n"
     ]
    }
   ],
   "source": [
    "#masculino\n",
    "sudestemascti = mascti[mascti['CO_REGIAO_CURSO']==3]\n",
    "qsudestemascti=sudestemascti['NT_GER'].count()\n",
    "print(\"quant homens ti região SUDESTE\")\n",
    "print(qsudestemascti)\n",
    "\n",
    "msudestemascti=sudestemascti['NT_GER'].mean()\n",
    "print(\"media homens ti região SUDESTE\")\n",
    "print(msudestemascti)"
   ]
  },
  {
   "cell_type": "code",
   "execution_count": 27,
   "metadata": {},
   "outputs": [
    {
     "name": "stdout",
     "output_type": "stream",
     "text": [
      "quant mulheres ti região SUDESTE\n",
      "3203\n",
      "media mulheres ti região SUDESTE\n",
      "42.00849203871361\n"
     ]
    }
   ],
   "source": [
    "#feminino\n",
    "sudestefemti = femti[femti['CO_REGIAO_CURSO']==3]\n",
    "qsudestefemti=sudestefemti['NT_GER'].count()\n",
    "print(\"quant mulheres ti região SUDESTE\")\n",
    "print(qsudestefemti)\n",
    "\n",
    "msudestefemti=sudestefemti['NT_GER'].mean()\n",
    "print(\"media mulheres ti região SUDESTE\")\n",
    "print(msudestefemti)"
   ]
  },
  {
   "cell_type": "markdown",
   "metadata": {},
   "source": [
    "SUL"
   ]
  },
  {
   "cell_type": "code",
   "execution_count": 28,
   "metadata": {},
   "outputs": [
    {
     "name": "stdout",
     "output_type": "stream",
     "text": [
      "quant homens ti região SUL\n",
      "6494\n",
      "media homens ti região SUL\n",
      "43.96790883892829\n"
     ]
    }
   ],
   "source": [
    "#masculino\n",
    "sulmascti = mascti[mascti['CO_REGIAO_CURSO']==4]\n",
    "qsulmascti=sulmascti['NT_GER'].count()\n",
    "print(\"quant homens ti região SUL\")\n",
    "print(qsulmascti)\n",
    "\n",
    "msulmascti=sulmascti['NT_GER'].mean()\n",
    "print(\"media homens ti região SUL\")\n",
    "print(msulmascti)"
   ]
  },
  {
   "cell_type": "code",
   "execution_count": 29,
   "metadata": {},
   "outputs": [
    {
     "name": "stdout",
     "output_type": "stream",
     "text": [
      "quant mulheres ti região SUL\n",
      "804\n",
      "media mulheres ti região SUL\n",
      "43.39850746268657\n"
     ]
    }
   ],
   "source": [
    "#feminino\n",
    "sulfemti = femti[femti['CO_REGIAO_CURSO']==4]\n",
    "qsulfemti=sulfemti['NT_GER'].count()\n",
    "print(\"quant mulheres ti região SUL\")\n",
    "print(qsulfemti)\n",
    "\n",
    "msulfemti=sulfemti['NT_GER'].mean()\n",
    "print(\"media mulheres ti região SUL\")\n",
    "print(msulfemti)"
   ]
  },
  {
   "cell_type": "markdown",
   "metadata": {},
   "source": [
    "CENTRO-OESTE"
   ]
  },
  {
   "cell_type": "code",
   "execution_count": 30,
   "metadata": {},
   "outputs": [
    {
     "name": "stdout",
     "output_type": "stream",
     "text": [
      "quant homens ti região CENTRO-OESTE\n",
      "2607\n",
      "media homens ti região CENTRO-OESTE\n",
      "40.642999616417335\n"
     ]
    }
   ],
   "source": [
    "#masculino\n",
    "centrooestemascti = mascti[mascti['CO_REGIAO_CURSO']==5]\n",
    "qcentrooestemascti=centrooestemascti['NT_GER'].count()\n",
    "print(\"quant homens ti região CENTRO-OESTE\")\n",
    "print(qcentrooestemascti)\n",
    "\n",
    "mcentrooestemascti=centrooestemascti['NT_GER'].mean()\n",
    "print(\"media homens ti região CENTRO-OESTE\")\n",
    "print(mcentrooestemascti)"
   ]
  },
  {
   "cell_type": "code",
   "execution_count": 31,
   "metadata": {},
   "outputs": [
    {
     "name": "stdout",
     "output_type": "stream",
     "text": [
      "quant mulheres ti região CENTRO-OESTE\n",
      "489\n",
      "media mulheres ti região CENTRO-OESTE\n",
      "37.370552147239266\n"
     ]
    }
   ],
   "source": [
    "#feminino\n",
    "centrooestefemti = femti[femti['CO_REGIAO_CURSO']==5]\n",
    "qcentrooestefemti=centrooestefemti['NT_GER'].count()\n",
    "print(\"quant mulheres ti região CENTRO-OESTE\")\n",
    "print(qcentrooestefemti)\n",
    "\n",
    "mcentrooestefemti=centrooestefemti['NT_GER'].mean()\n",
    "print(\"media mulheres ti região CENTRO-OESTE\")\n",
    "print(mcentrooestefemti)"
   ]
  },
  {
   "cell_type": "markdown",
   "metadata": {},
   "source": [
    "<h3>COR OU RAÇA</h3>\n"
   ]
  },
  {
   "cell_type": "code",
   "execution_count": 32,
   "metadata": {},
   "outputs": [
    {
     "data": {
      "text/html": [
       "<div>\n",
       "<style scoped>\n",
       "    .dataframe tbody tr th:only-of-type {\n",
       "        vertical-align: middle;\n",
       "    }\n",
       "\n",
       "    .dataframe tbody tr th {\n",
       "        vertical-align: top;\n",
       "    }\n",
       "\n",
       "    .dataframe thead th {\n",
       "        text-align: right;\n",
       "    }\n",
       "</style>\n",
       "<table border=\"1\" class=\"dataframe\">\n",
       "  <thead>\n",
       "    <tr style=\"text-align: right;\">\n",
       "      <th></th>\n",
       "      <th>ANO_FIM_EM</th>\n",
       "      <th>ANO_IN_GRAD</th>\n",
       "      <th>NT_GER</th>\n",
       "      <th>QE_I02</th>\n",
       "      <th>QE_I05</th>\n",
       "      <th>QE_I06</th>\n",
       "      <th>QE_I08</th>\n",
       "      <th>QE_I17</th>\n",
       "      <th>QE_I20</th>\n",
       "      <th>QE_I25</th>\n",
       "      <th>CO_CATEGAD</th>\n",
       "      <th>CO_GRUPO</th>\n",
       "      <th>CO_UF_CURSO</th>\n",
       "      <th>CO_REGIAO_CURSO</th>\n",
       "      <th>NU_IDADE</th>\n",
       "      <th>TP_SEXO</th>\n",
       "    </tr>\n",
       "  </thead>\n",
       "  <tbody>\n",
       "    <tr>\n",
       "      <th>count</th>\n",
       "      <td>19538.000000</td>\n",
       "      <td>19538.000000</td>\n",
       "      <td>19538.000000</td>\n",
       "      <td>19538.0</td>\n",
       "      <td>19538.000000</td>\n",
       "      <td>19538.000000</td>\n",
       "      <td>19538.000000</td>\n",
       "      <td>19538.000000</td>\n",
       "      <td>19538.000000</td>\n",
       "      <td>19538.000000</td>\n",
       "      <td>19538.000000</td>\n",
       "      <td>19538.0</td>\n",
       "      <td>19538.000000</td>\n",
       "      <td>19538.000000</td>\n",
       "      <td>19538.000000</td>\n",
       "      <td>19538.0</td>\n",
       "    </tr>\n",
       "    <tr>\n",
       "      <th>mean</th>\n",
       "      <td>2008.559883</td>\n",
       "      <td>2013.263026</td>\n",
       "      <td>43.756341</td>\n",
       "      <td>1.0</td>\n",
       "      <td>3.943546</td>\n",
       "      <td>2.272955</td>\n",
       "      <td>3.434180</td>\n",
       "      <td>1.663118</td>\n",
       "      <td>3.581892</td>\n",
       "      <td>3.752789</td>\n",
       "      <td>3.452042</td>\n",
       "      <td>1.0</td>\n",
       "      <td>35.739994</td>\n",
       "      <td>3.230064</td>\n",
       "      <td>26.503429</td>\n",
       "      <td>1.0</td>\n",
       "    </tr>\n",
       "    <tr>\n",
       "      <th>std</th>\n",
       "      <td>5.220483</td>\n",
       "      <td>2.031529</td>\n",
       "      <td>13.744061</td>\n",
       "      <td>0.0</td>\n",
       "      <td>1.199135</td>\n",
       "      <td>0.750470</td>\n",
       "      <td>1.524733</td>\n",
       "      <td>1.065608</td>\n",
       "      <td>2.938045</td>\n",
       "      <td>2.313903</td>\n",
       "      <td>1.558364</td>\n",
       "      <td>0.0</td>\n",
       "      <td>7.247005</td>\n",
       "      <td>0.797603</td>\n",
       "      <td>6.011141</td>\n",
       "      <td>0.0</td>\n",
       "    </tr>\n",
       "    <tr>\n",
       "      <th>min</th>\n",
       "      <td>1973.000000</td>\n",
       "      <td>1997.000000</td>\n",
       "      <td>0.000000</td>\n",
       "      <td>1.0</td>\n",
       "      <td>1.000000</td>\n",
       "      <td>1.000000</td>\n",
       "      <td>1.000000</td>\n",
       "      <td>1.000000</td>\n",
       "      <td>1.000000</td>\n",
       "      <td>1.000000</td>\n",
       "      <td>1.000000</td>\n",
       "      <td>1.0</td>\n",
       "      <td>11.000000</td>\n",
       "      <td>1.000000</td>\n",
       "      <td>18.000000</td>\n",
       "      <td>1.0</td>\n",
       "    </tr>\n",
       "    <tr>\n",
       "      <th>25%</th>\n",
       "      <td>2007.000000</td>\n",
       "      <td>2012.000000</td>\n",
       "      <td>34.100000</td>\n",
       "      <td>1.0</td>\n",
       "      <td>3.000000</td>\n",
       "      <td>2.000000</td>\n",
       "      <td>2.000000</td>\n",
       "      <td>1.000000</td>\n",
       "      <td>1.000000</td>\n",
       "      <td>1.000000</td>\n",
       "      <td>2.000000</td>\n",
       "      <td>1.0</td>\n",
       "      <td>33.000000</td>\n",
       "      <td>3.000000</td>\n",
       "      <td>22.000000</td>\n",
       "      <td>1.0</td>\n",
       "    </tr>\n",
       "    <tr>\n",
       "      <th>50%</th>\n",
       "      <td>2010.000000</td>\n",
       "      <td>2014.000000</td>\n",
       "      <td>43.200000</td>\n",
       "      <td>1.0</td>\n",
       "      <td>4.000000</td>\n",
       "      <td>2.000000</td>\n",
       "      <td>3.000000</td>\n",
       "      <td>1.000000</td>\n",
       "      <td>3.000000</td>\n",
       "      <td>3.000000</td>\n",
       "      <td>4.000000</td>\n",
       "      <td>1.0</td>\n",
       "      <td>35.000000</td>\n",
       "      <td>3.000000</td>\n",
       "      <td>25.000000</td>\n",
       "      <td>1.0</td>\n",
       "    </tr>\n",
       "    <tr>\n",
       "      <th>75%</th>\n",
       "      <td>2012.000000</td>\n",
       "      <td>2015.000000</td>\n",
       "      <td>53.200000</td>\n",
       "      <td>1.0</td>\n",
       "      <td>5.000000</td>\n",
       "      <td>3.000000</td>\n",
       "      <td>5.000000</td>\n",
       "      <td>2.000000</td>\n",
       "      <td>5.000000</td>\n",
       "      <td>5.000000</td>\n",
       "      <td>5.000000</td>\n",
       "      <td>1.0</td>\n",
       "      <td>41.000000</td>\n",
       "      <td>4.000000</td>\n",
       "      <td>29.000000</td>\n",
       "      <td>1.0</td>\n",
       "    </tr>\n",
       "    <tr>\n",
       "      <th>max</th>\n",
       "      <td>2016.000000</td>\n",
       "      <td>2017.000000</td>\n",
       "      <td>96.200000</td>\n",
       "      <td>1.0</td>\n",
       "      <td>6.000000</td>\n",
       "      <td>6.000000</td>\n",
       "      <td>7.000000</td>\n",
       "      <td>6.000000</td>\n",
       "      <td>11.000000</td>\n",
       "      <td>8.000000</td>\n",
       "      <td>7.000000</td>\n",
       "      <td>1.0</td>\n",
       "      <td>53.000000</td>\n",
       "      <td>5.000000</td>\n",
       "      <td>69.000000</td>\n",
       "      <td>1.0</td>\n",
       "    </tr>\n",
       "  </tbody>\n",
       "</table>\n",
       "</div>"
      ],
      "text/plain": [
       "         ANO_FIM_EM   ANO_IN_GRAD        NT_GER   QE_I02        QE_I05  \\\n",
       "count  19538.000000  19538.000000  19538.000000  19538.0  19538.000000   \n",
       "mean    2008.559883   2013.263026     43.756341      1.0      3.943546   \n",
       "std        5.220483      2.031529     13.744061      0.0      1.199135   \n",
       "min     1973.000000   1997.000000      0.000000      1.0      1.000000   \n",
       "25%     2007.000000   2012.000000     34.100000      1.0      3.000000   \n",
       "50%     2010.000000   2014.000000     43.200000      1.0      4.000000   \n",
       "75%     2012.000000   2015.000000     53.200000      1.0      5.000000   \n",
       "max     2016.000000   2017.000000     96.200000      1.0      6.000000   \n",
       "\n",
       "             QE_I06        QE_I08        QE_I17        QE_I20        QE_I25  \\\n",
       "count  19538.000000  19538.000000  19538.000000  19538.000000  19538.000000   \n",
       "mean       2.272955      3.434180      1.663118      3.581892      3.752789   \n",
       "std        0.750470      1.524733      1.065608      2.938045      2.313903   \n",
       "min        1.000000      1.000000      1.000000      1.000000      1.000000   \n",
       "25%        2.000000      2.000000      1.000000      1.000000      1.000000   \n",
       "50%        2.000000      3.000000      1.000000      3.000000      3.000000   \n",
       "75%        3.000000      5.000000      2.000000      5.000000      5.000000   \n",
       "max        6.000000      7.000000      6.000000     11.000000      8.000000   \n",
       "\n",
       "         CO_CATEGAD  CO_GRUPO   CO_UF_CURSO  CO_REGIAO_CURSO      NU_IDADE  \\\n",
       "count  19538.000000   19538.0  19538.000000     19538.000000  19538.000000   \n",
       "mean       3.452042       1.0     35.739994         3.230064     26.503429   \n",
       "std        1.558364       0.0      7.247005         0.797603      6.011141   \n",
       "min        1.000000       1.0     11.000000         1.000000     18.000000   \n",
       "25%        2.000000       1.0     33.000000         3.000000     22.000000   \n",
       "50%        4.000000       1.0     35.000000         3.000000     25.000000   \n",
       "75%        5.000000       1.0     41.000000         4.000000     29.000000   \n",
       "max        7.000000       1.0     53.000000         5.000000     69.000000   \n",
       "\n",
       "       TP_SEXO  \n",
       "count  19538.0  \n",
       "mean       1.0  \n",
       "std        0.0  \n",
       "min        1.0  \n",
       "25%        1.0  \n",
       "50%        1.0  \n",
       "75%        1.0  \n",
       "max        1.0  "
      ]
     },
     "execution_count": 32,
     "metadata": {},
     "output_type": "execute_result"
    }
   ],
   "source": [
    "md = mascti[mascti['QE_I02']==1]\n",
    "md['NT_GER'].count()\n",
    "md.describe()"
   ]
  },
  {
   "cell_type": "markdown",
   "metadata": {},
   "source": [
    "<h3>feminino</h3>"
   ]
  },
  {
   "cell_type": "code",
   "execution_count": 33,
   "metadata": {},
   "outputs": [
    {
     "name": "stdout",
     "output_type": "stream",
     "text": [
      "3092\n"
     ]
    }
   ],
   "source": [
    "#BRANCAS\n",
    "md = femti[femti['QE_I02']==1]\n",
    "cor=md['NT_GER'].count()\n",
    "print(cor)"
   ]
  },
  {
   "cell_type": "code",
   "execution_count": 34,
   "metadata": {},
   "outputs": [
    {
     "name": "stdout",
     "output_type": "stream",
     "text": [
      "535\n"
     ]
    }
   ],
   "source": [
    "#PRETAS\n",
    "\n",
    "md = femti[femti['QE_I02']==2]\n",
    "cor=md['NT_GER'].count()\n",
    "print(cor)"
   ]
  },
  {
   "cell_type": "code",
   "execution_count": 35,
   "metadata": {},
   "outputs": [
    {
     "name": "stdout",
     "output_type": "stream",
     "text": [
      "182\n"
     ]
    }
   ],
   "source": [
    "#AMARELAS\n",
    "md = femti[femti['QE_I02']==3]\n",
    "cor=md['NT_GER'].count()\n",
    "print(cor)"
   ]
  },
  {
   "cell_type": "code",
   "execution_count": 36,
   "metadata": {},
   "outputs": [
    {
     "name": "stdout",
     "output_type": "stream",
     "text": [
      "1889\n"
     ]
    }
   ],
   "source": [
    "#PARDAS\n",
    "md = femti[femti['QE_I02']==4]\n",
    "cor=md['NT_GER'].count()\n",
    "print(cor)"
   ]
  },
  {
   "cell_type": "code",
   "execution_count": 37,
   "metadata": {},
   "outputs": [
    {
     "name": "stdout",
     "output_type": "stream",
     "text": [
      "19\n"
     ]
    }
   ],
   "source": [
    "#INDIGENAS\n",
    "md = femti[femti['QE_I02']==5]\n",
    "cor=md['NT_GER'].count()\n",
    "print(cor)\n"
   ]
  },
  {
   "cell_type": "code",
   "execution_count": 38,
   "metadata": {},
   "outputs": [
    {
     "name": "stdout",
     "output_type": "stream",
     "text": [
      "129\n"
     ]
    }
   ],
   "source": [
    "#NÃO QUERO DECLARAR\n",
    "md = femti[femti['QE_I02']==6]\n",
    "cor=md['NT_GER'].count()\n",
    "print(cor)"
   ]
  },
  {
   "cell_type": "markdown",
   "metadata": {},
   "source": [
    "<h3>masculino</h3>"
   ]
  },
  {
   "cell_type": "code",
   "execution_count": 39,
   "metadata": {},
   "outputs": [
    {
     "name": "stdout",
     "output_type": "stream",
     "text": [
      "19538\n"
     ]
    }
   ],
   "source": [
    "#BRANCOS\n",
    "md = mascti[mascti['QE_I02']==1]\n",
    "cor=md['NT_GER'].count()\n",
    "print(cor)"
   ]
  },
  {
   "cell_type": "code",
   "execution_count": 40,
   "metadata": {},
   "outputs": [
    {
     "name": "stdout",
     "output_type": "stream",
     "text": [
      "2647\n"
     ]
    }
   ],
   "source": [
    "#PRETOS\n",
    "md = mascti[mascti['QE_I02']==2]\n",
    "cor=md['NT_GER'].count()\n",
    "print(cor)"
   ]
  },
  {
   "cell_type": "code",
   "execution_count": 41,
   "metadata": {},
   "outputs": [
    {
     "name": "stdout",
     "output_type": "stream",
     "text": [
      "931\n"
     ]
    }
   ],
   "source": [
    "#AMARELOS\n",
    "md = mascti[mascti['QE_I02']==3]\n",
    "cor=md['NT_GER'].count()\n",
    "print(cor)"
   ]
  },
  {
   "cell_type": "code",
   "execution_count": 42,
   "metadata": {},
   "outputs": [
    {
     "name": "stdout",
     "output_type": "stream",
     "text": [
      "9925\n"
     ]
    }
   ],
   "source": [
    "#PARDOS\n",
    "md = mascti[mascti['QE_I02']==4]\n",
    "cor=md['NT_GER'].count()\n",
    "print(cor)"
   ]
  },
  {
   "cell_type": "code",
   "execution_count": 43,
   "metadata": {},
   "outputs": [
    {
     "name": "stdout",
     "output_type": "stream",
     "text": [
      "129\n"
     ]
    }
   ],
   "source": [
    "#INDIGENAS\n",
    "md = mascti[mascti['QE_I02']==5]\n",
    "cor=md['NT_GER'].count()\n",
    "print(cor)"
   ]
  },
  {
   "cell_type": "code",
   "execution_count": 44,
   "metadata": {},
   "outputs": [
    {
     "name": "stdout",
     "output_type": "stream",
     "text": [
      "1146\n"
     ]
    }
   ],
   "source": [
    "#NAO QUERO DECLARAR\n",
    "md = mascti[mascti['QE_I02']==6]\n",
    "cor=md['NT_GER'].count()\n",
    "print(cor)"
   ]
  },
  {
   "cell_type": "markdown",
   "metadata": {},
   "source": [
    "<h3>Escolorização da mãe</h3>\n",
    "Até que etapa de escolarização sua mãe concluiu?"
   ]
  },
  {
   "cell_type": "markdown",
   "metadata": {},
   "source": [
    "Mãe de pessoas do sexo feminino"
   ]
  },
  {
   "cell_type": "code",
   "execution_count": 45,
   "metadata": {
    "scrolled": true
   },
   "outputs": [
    {
     "name": "stdout",
     "output_type": "stream",
     "text": [
      "125\n"
     ]
    }
   ],
   "source": [
    "#A = Nenhuma.\n",
    "momf = femti[femti['QE_I05']==1]\n",
    "momnonf =momf['QE_I05'].count()\n",
    "print(momnonf)"
   ]
  },
  {
   "cell_type": "code",
   "execution_count": 46,
   "metadata": {},
   "outputs": [
    {
     "name": "stdout",
     "output_type": "stream",
     "text": [
      "1116\n"
     ]
    }
   ],
   "source": [
    "#B = Ensino fundamental: 1º ao 5º ano (1ª a 4ª série).\n",
    "momf = femti[femti['QE_I05']==2]\n",
    "momfund1f =momf['QE_I05'].count()\n",
    "print(momfund1f)"
   ]
  },
  {
   "cell_type": "code",
   "execution_count": 47,
   "metadata": {},
   "outputs": [
    {
     "name": "stdout",
     "output_type": "stream",
     "text": [
      "881\n"
     ]
    }
   ],
   "source": [
    "#C = Ensino fundamental: 6º ao 9º ano (5ª a 8ª série).\n",
    "momf = femti[femti['QE_I05']==3]\n",
    "momfund2f =momf['QE_I05'].count()\n",
    "print(momfund2f)"
   ]
  },
  {
   "cell_type": "code",
   "execution_count": 48,
   "metadata": {},
   "outputs": [
    {
     "name": "stdout",
     "output_type": "stream",
     "text": [
      "2272\n"
     ]
    }
   ],
   "source": [
    "#D = Ensino médio.\n",
    "momf = femti[femti['QE_I05']==4]\n",
    "momemf =momf['QE_I05'].count()\n",
    "print(momemf)"
   ]
  },
  {
   "cell_type": "code",
   "execution_count": 49,
   "metadata": {},
   "outputs": [
    {
     "name": "stdout",
     "output_type": "stream",
     "text": [
      "950\n"
     ]
    }
   ],
   "source": [
    "#E = Ensino Superior - Graduação.\n",
    "momf = femti[femti['QE_I05']==5]\n",
    "momesf =momf['QE_I05'].count()\n",
    "print(momesf)"
   ]
  },
  {
   "cell_type": "code",
   "execution_count": 50,
   "metadata": {},
   "outputs": [
    {
     "name": "stdout",
     "output_type": "stream",
     "text": [
      "502\n"
     ]
    }
   ],
   "source": [
    "#F = Pós-graduação.\n",
    "momf = femti[femti['QE_I05']==6]\n",
    "mompgradf =momf['QE_I05'].count()\n",
    "print(mompgradf)"
   ]
  },
  {
   "cell_type": "markdown",
   "metadata": {},
   "source": [
    "Mãe de pessoas do sexo masculino"
   ]
  },
  {
   "cell_type": "code",
   "execution_count": 51,
   "metadata": {},
   "outputs": [
    {
     "name": "stdout",
     "output_type": "stream",
     "text": [
      "650\n"
     ]
    }
   ],
   "source": [
    "#A = Nenhuma.\n",
    "mom = mascti[mascti['QE_I05']==1]\n",
    "momnon =mom['QE_I05'].count()\n",
    "print(momnon)"
   ]
  },
  {
   "cell_type": "code",
   "execution_count": 52,
   "metadata": {},
   "outputs": [
    {
     "name": "stdout",
     "output_type": "stream",
     "text": [
      "5453\n"
     ]
    }
   ],
   "source": [
    "#B = Ensino fundamental: 1º ao 5º ano (1ª a 4ª série).\n",
    "mom = mascti[mascti['QE_I05']==2]\n",
    "momfund1 =mom['QE_I05'].count()\n",
    "print(momfund1)"
   ]
  },
  {
   "cell_type": "code",
   "execution_count": 53,
   "metadata": {},
   "outputs": [
    {
     "name": "stdout",
     "output_type": "stream",
     "text": [
      "5388\n"
     ]
    }
   ],
   "source": [
    "#C = Ensino fundamental: 6º ao 9º ano (5ª a 8ª série).\n",
    "mom= mascti[mascti['QE_I05']==3]\n",
    "momfund2 =mom['QE_I05'].count()\n",
    "print(momfund2)"
   ]
  },
  {
   "cell_type": "code",
   "execution_count": 54,
   "metadata": {},
   "outputs": [
    {
     "name": "stdout",
     "output_type": "stream",
     "text": [
      "13324\n"
     ]
    }
   ],
   "source": [
    "#D = Ensino médio.\n",
    "mom = mascti[mascti['QE_I05']==4]\n",
    "momem =mom['QE_I05'].count()\n",
    "print(momem)"
   ]
  },
  {
   "cell_type": "code",
   "execution_count": 55,
   "metadata": {},
   "outputs": [
    {
     "name": "stdout",
     "output_type": "stream",
     "text": [
      "6334\n"
     ]
    }
   ],
   "source": [
    "#E = Ensino Superior - Graduação.\n",
    "mom = mascti[mascti['QE_I05']==5]\n",
    "momes =mom['QE_I05'].count()\n",
    "print(momes)"
   ]
  },
  {
   "cell_type": "code",
   "execution_count": 56,
   "metadata": {},
   "outputs": [
    {
     "name": "stdout",
     "output_type": "stream",
     "text": [
      "3167\n"
     ]
    }
   ],
   "source": [
    "#F = Pós-graduação.\n",
    "mom = mascti[mascti['QE_I05']==6]\n",
    "mompgrad =mom['QE_I05'].count()\n",
    "print(mompgrad)"
   ]
  },
  {
   "cell_type": "markdown",
   "metadata": {},
   "source": [
    "<h3>Em que tipo de escola você cursou o ensino médio?</h3>"
   ]
  },
  {
   "cell_type": "markdown",
   "metadata": {},
   "source": [
    "feminino"
   ]
  },
  {
   "cell_type": "code",
   "execution_count": 57,
   "metadata": {},
   "outputs": [
    {
     "name": "stdout",
     "output_type": "stream",
     "text": [
      "4008\n"
     ]
    }
   ],
   "source": [
    "#A = Todo em escola pública.\n",
    "totpub = femti[femti['QE_I17']==1]\n",
    "pubf =totpub['QE_I17'].count()\n",
    "print(pubf)"
   ]
  },
  {
   "cell_type": "code",
   "execution_count": 58,
   "metadata": {},
   "outputs": [
    {
     "name": "stdout",
     "output_type": "stream",
     "text": [
      "1416\n"
     ]
    }
   ],
   "source": [
    "#B = Todo em escola privada (particular).\n",
    "totpriv = femti[femti['QE_I17']==2]\n",
    "privf =totpriv['QE_I17'].count()\n",
    "print(privf)"
   ]
  },
  {
   "cell_type": "code",
   "execution_count": 59,
   "metadata": {},
   "outputs": [
    {
     "name": "stdout",
     "output_type": "stream",
     "text": [
      "7\n"
     ]
    }
   ],
   "source": [
    "#C = Todo no exterior.\n",
    "totext = femti[femti['QE_I17']==3]\n",
    "extf =totext['QE_I17'].count()\n",
    "print(extf)"
   ]
  },
  {
   "cell_type": "code",
   "execution_count": 60,
   "metadata": {},
   "outputs": [
    {
     "name": "stdout",
     "output_type": "stream",
     "text": [
      "219\n"
     ]
    }
   ],
   "source": [
    "#D = A maior parte em escola pública.\n",
    "mppub = femti[femti['QE_I17']==4]\n",
    "mppubf =mppub['QE_I17'].count()\n",
    "print(mppubf)"
   ]
  },
  {
   "cell_type": "code",
   "execution_count": 61,
   "metadata": {},
   "outputs": [
    {
     "name": "stdout",
     "output_type": "stream",
     "text": [
      "187\n"
     ]
    }
   ],
   "source": [
    "#E = A maior parte em escola privada (particular).\n",
    "mppriv = femti[femti['QE_I17']==5]\n",
    "mpprivf =mppriv['QE_I17'].count()\n",
    "print(mpprivf)"
   ]
  },
  {
   "cell_type": "code",
   "execution_count": 62,
   "metadata": {},
   "outputs": [
    {
     "name": "stdout",
     "output_type": "stream",
     "text": [
      "9\n"
     ]
    }
   ],
   "source": [
    "#F = Parte no Brasil e parte no exterior.\n",
    "mpext = femti[femti['QE_I17']==6]\n",
    "mpextf =mpext['QE_I17'].count()\n",
    "print(mpextf)"
   ]
  },
  {
   "cell_type": "markdown",
   "metadata": {},
   "source": [
    "masculino"
   ]
  },
  {
   "cell_type": "code",
   "execution_count": 63,
   "metadata": {},
   "outputs": [
    {
     "name": "stdout",
     "output_type": "stream",
     "text": [
      "21715\n"
     ]
    }
   ],
   "source": [
    "#A = Todo em escola pública.\n",
    "totpub = mascti[mascti['QE_I17']==1]\n",
    "pub =totpub['QE_I17'].count()\n",
    "print(pub)"
   ]
  },
  {
   "cell_type": "code",
   "execution_count": 64,
   "metadata": {},
   "outputs": [
    {
     "name": "stdout",
     "output_type": "stream",
     "text": [
      "9178\n"
     ]
    }
   ],
   "source": [
    "#B = Todo em escola privada (particular).\n",
    "totpriv = mascti[mascti['QE_I17']==2]\n",
    "priv =totpriv['QE_I17'].count()\n",
    "print(priv)"
   ]
  },
  {
   "cell_type": "code",
   "execution_count": 65,
   "metadata": {},
   "outputs": [
    {
     "name": "stdout",
     "output_type": "stream",
     "text": [
      "57\n"
     ]
    }
   ],
   "source": [
    "#C = Todo no exterior.\n",
    "totext = mascti[mascti['QE_I17']==3]\n",
    "ext =totext['QE_I17'].count()\n",
    "print(ext)"
   ]
  },
  {
   "cell_type": "code",
   "execution_count": 66,
   "metadata": {},
   "outputs": [
    {
     "name": "stdout",
     "output_type": "stream",
     "text": [
      "1764\n"
     ]
    }
   ],
   "source": [
    "#D = A maior parte em escola pública.\n",
    "mppub = mascti[mascti['QE_I17']==4]\n",
    "mppub =mppub['QE_I17'].count()\n",
    "print(mppub)"
   ]
  },
  {
   "cell_type": "code",
   "execution_count": 67,
   "metadata": {},
   "outputs": [
    {
     "name": "stdout",
     "output_type": "stream",
     "text": [
      "1532\n"
     ]
    }
   ],
   "source": [
    "#E = A maior parte em escola privada (particular).\n",
    "mppriv = mascti[mascti['QE_I17']==5]\n",
    "mppriv =mppriv['QE_I17'].count()\n",
    "print(mppriv)"
   ]
  },
  {
   "cell_type": "code",
   "execution_count": 68,
   "metadata": {},
   "outputs": [
    {
     "name": "stdout",
     "output_type": "stream",
     "text": [
      "70\n"
     ]
    }
   ],
   "source": [
    "#F = Parte no Brasil e parte no exterior.\n",
    "mpext = mascti[mascti['QE_I17']==6]\n",
    "mpext =mpext['QE_I17'].count()\n",
    "print(mpext)"
   ]
  },
  {
   "cell_type": "markdown",
   "metadata": {},
   "source": [
    "<h3> Renda Familiar Mulheres</h3>"
   ]
  },
  {
   "cell_type": "code",
   "execution_count": 70,
   "metadata": {},
   "outputs": [
    {
     "name": "stdout",
     "output_type": "stream",
     "text": [
      "1099\n"
     ]
    }
   ],
   "source": [
    "rd=femti[femti['QE_I08']==1]\n",
    "rend=rd['NT_GER'].count()\n",
    "print(rend)"
   ]
  },
  {
   "cell_type": "code",
   "execution_count": 71,
   "metadata": {},
   "outputs": [
    {
     "name": "stdout",
     "output_type": "stream",
     "text": [
      "1099\n"
     ]
    }
   ],
   "source": [
    "rd=femti[femti['QE_I08']==1]\n",
    "rend=rd['NT_GER'].count()\n",
    "print(rend)"
   ]
  },
  {
   "cell_type": "code",
   "execution_count": 72,
   "metadata": {},
   "outputs": [
    {
     "name": "stdout",
     "output_type": "stream",
     "text": [
      "1700\n"
     ]
    }
   ],
   "source": [
    "rd=femti[femti['QE_I08']==2]\n",
    "rend=rd['NT_GER'].count()\n",
    "print(rend)"
   ]
  },
  {
   "cell_type": "code",
   "execution_count": 73,
   "metadata": {},
   "outputs": [
    {
     "name": "stdout",
     "output_type": "stream",
     "text": [
      "1357\n"
     ]
    }
   ],
   "source": [
    "rd=femti[femti['QE_I08']==3]\n",
    "rend=rd['NT_GER'].count()\n",
    "print(rend)"
   ]
  },
  {
   "cell_type": "code",
   "execution_count": 74,
   "metadata": {},
   "outputs": [
    {
     "name": "stdout",
     "output_type": "stream",
     "text": [
      "696\n"
     ]
    }
   ],
   "source": [
    "rd=femti[femti['QE_I08']==4]\n",
    "rend=rd['NT_GER'].count()\n",
    "print(rend)"
   ]
  },
  {
   "cell_type": "code",
   "execution_count": 75,
   "metadata": {},
   "outputs": [
    {
     "name": "stdout",
     "output_type": "stream",
     "text": [
      "653\n"
     ]
    }
   ],
   "source": [
    "rd=femti[femti['QE_I08']==5]\n",
    "rend=rd['NT_GER'].count()\n",
    "print(rend)"
   ]
  },
  {
   "cell_type": "code",
   "execution_count": 76,
   "metadata": {},
   "outputs": [
    {
     "name": "stdout",
     "output_type": "stream",
     "text": [
      "315\n"
     ]
    }
   ],
   "source": [
    "rd=femti[femti['QE_I08']==6]\n",
    "rend=rd['NT_GER'].count()\n",
    "print(rend)"
   ]
  },
  {
   "cell_type": "code",
   "execution_count": 77,
   "metadata": {},
   "outputs": [
    {
     "name": "stdout",
     "output_type": "stream",
     "text": [
      "26\n"
     ]
    }
   ],
   "source": [
    "rd=femti[femti['QE_I08']==7]\n",
    "rend=rd['NT_GER'].count()\n",
    "print(rend)"
   ]
  },
  {
   "cell_type": "markdown",
   "metadata": {},
   "source": [
    "<h3> Renda familiar dos homens </h3>"
   ]
  },
  {
   "cell_type": "code",
   "execution_count": 78,
   "metadata": {},
   "outputs": [
    {
     "name": "stdout",
     "output_type": "stream",
     "text": [
      "4286\n",
      "8751\n",
      "8338\n",
      "4788\n",
      "5120\n",
      "2799\n",
      "234\n"
     ]
    }
   ],
   "source": [
    "rd=mascti[mascti['QE_I08']==1]\n",
    "rend=rd['NT_GER'].count()\n",
    "print(rend)\n",
    "\n",
    "rd=mascti[mascti['QE_I08']==2]\n",
    "rend=rd['NT_GER'].count()\n",
    "print(rend)\n",
    "\n",
    "rd=mascti[mascti['QE_I08']==3]\n",
    "rend=rd['NT_GER'].count()\n",
    "print(rend)\n",
    "\n",
    "rd=mascti[mascti['QE_I08']==4]\n",
    "rend=rd['NT_GER'].count()\n",
    "print(rend)\n",
    "\n",
    "rd=mascti[mascti['QE_I08']==5]\n",
    "rend=rd['NT_GER'].count()\n",
    "print(rend)\n",
    "\n",
    "rd=mascti[mascti['QE_I08']==6]\n",
    "rend=rd['NT_GER'].count()\n",
    "print(rend)\n",
    "\n",
    "rd=mascti[mascti['QE_I08']==7]\n",
    "rend=rd['NT_GER'].count()\n",
    "print(rend)"
   ]
  },
  {
   "cell_type": "markdown",
   "metadata": {},
   "source": [
    "<h3>Enfrentar dificuldades Mulheres </h3>"
   ]
  },
  {
   "cell_type": "code",
   "execution_count": 79,
   "metadata": {},
   "outputs": [
    {
     "name": "stdout",
     "output_type": "stream",
     "text": [
      "1389\n"
     ]
    }
   ],
   "source": [
    "d=femti[femti['QE_I20']==1]\n",
    "dif=d['NT_GER'].count()\n",
    "print(dif)"
   ]
  },
  {
   "cell_type": "code",
   "execution_count": 80,
   "metadata": {},
   "outputs": [
    {
     "name": "stdout",
     "output_type": "stream",
     "text": [
      "382\n"
     ]
    }
   ],
   "source": [
    "d=femti[femti['QE_I20']==2]\n",
    "dif=d['NT_GER'].count()\n",
    "print(dif)"
   ]
  },
  {
   "cell_type": "code",
   "execution_count": 81,
   "metadata": {},
   "outputs": [
    {
     "name": "stdout",
     "output_type": "stream",
     "text": [
      "2308\n"
     ]
    }
   ],
   "source": [
    "d=femti[femti['QE_I20']==3]\n",
    "dif=d['NT_GER'].count()\n",
    "print(dif)"
   ]
  },
  {
   "cell_type": "code",
   "execution_count": 82,
   "metadata": {},
   "outputs": [
    {
     "name": "stdout",
     "output_type": "stream",
     "text": [
      "88\n"
     ]
    }
   ],
   "source": [
    "d=femti[femti['QE_I20']==4]\n",
    "dif=d['NT_GER'].count()\n",
    "print(dif)"
   ]
  },
  {
   "cell_type": "code",
   "execution_count": 83,
   "metadata": {},
   "outputs": [
    {
     "name": "stdout",
     "output_type": "stream",
     "text": [
      "133\n"
     ]
    }
   ],
   "source": [
    "d=femti[femti['QE_I20']==5]\n",
    "dif=d['NT_GER'].count()\n",
    "print(dif)"
   ]
  },
  {
   "cell_type": "code",
   "execution_count": 84,
   "metadata": {},
   "outputs": [
    {
     "name": "stdout",
     "output_type": "stream",
     "text": [
      "8\n"
     ]
    }
   ],
   "source": [
    "d=femti[femti['QE_I20']==6]\n",
    "dif=d['NT_GER'].count()\n",
    "print(dif)"
   ]
  },
  {
   "cell_type": "code",
   "execution_count": 85,
   "metadata": {},
   "outputs": [
    {
     "name": "stdout",
     "output_type": "stream",
     "text": [
      "779\n"
     ]
    }
   ],
   "source": [
    "d=femti[femti['QE_I20']==7]\n",
    "dif=d['NT_GER'].count()\n",
    "print(dif)"
   ]
  },
  {
   "cell_type": "code",
   "execution_count": 86,
   "metadata": {},
   "outputs": [
    {
     "name": "stdout",
     "output_type": "stream",
     "text": [
      "319\n"
     ]
    }
   ],
   "source": [
    "d=femti[femti['QE_I20']==8]\n",
    "dif=d['NT_GER'].count()\n",
    "print(dif)"
   ]
  },
  {
   "cell_type": "code",
   "execution_count": 87,
   "metadata": {},
   "outputs": [
    {
     "name": "stdout",
     "output_type": "stream",
     "text": [
      "24\n"
     ]
    }
   ],
   "source": [
    "d=femti[femti['QE_I20']==9]\n",
    "dif=d['NT_GER'].count()\n",
    "print(dif)"
   ]
  },
  {
   "cell_type": "code",
   "execution_count": 88,
   "metadata": {},
   "outputs": [
    {
     "name": "stdout",
     "output_type": "stream",
     "text": [
      "63\n"
     ]
    }
   ],
   "source": [
    "d=femti[femti['QE_I20']==10]\n",
    "dif=d['NT_GER'].count()\n",
    "print(dif)"
   ]
  },
  {
   "cell_type": "code",
   "execution_count": 89,
   "metadata": {},
   "outputs": [
    {
     "name": "stdout",
     "output_type": "stream",
     "text": [
      "353\n"
     ]
    }
   ],
   "source": [
    "d=femti[femti['QE_I20']==11]\n",
    "dif=d['NT_GER'].count()\n",
    "print(dif)"
   ]
  },
  {
   "cell_type": "markdown",
   "metadata": {},
   "source": [
    "<h3> dificuldades homens</h3>"
   ]
  },
  {
   "cell_type": "code",
   "execution_count": 90,
   "metadata": {},
   "outputs": [
    {
     "name": "stdout",
     "output_type": "stream",
     "text": [
      "10346\n"
     ]
    }
   ],
   "source": [
    "d=mascti[mascti['QE_I20']==1]\n",
    "dif=d['NT_GER'].count()\n",
    "print(dif)"
   ]
  },
  {
   "cell_type": "code",
   "execution_count": 91,
   "metadata": {},
   "outputs": [
    {
     "name": "stdout",
     "output_type": "stream",
     "text": [
      "3279\n"
     ]
    }
   ],
   "source": [
    "d=mascti[mascti['QE_I20']==2]\n",
    "dif=d['NT_GER'].count()\n",
    "print(dif)"
   ]
  },
  {
   "cell_type": "code",
   "execution_count": 92,
   "metadata": {},
   "outputs": [
    {
     "name": "stdout",
     "output_type": "stream",
     "text": [
      "11129\n"
     ]
    }
   ],
   "source": [
    "d=mascti[mascti['QE_I20']==3]\n",
    "dif=d['NT_GER'].count()\n",
    "print(dif)"
   ]
  },
  {
   "cell_type": "code",
   "execution_count": 93,
   "metadata": {},
   "outputs": [
    {
     "name": "stdout",
     "output_type": "stream",
     "text": [
      "358\n"
     ]
    }
   ],
   "source": [
    "d=mascti[mascti['QE_I20']==4]\n",
    "dif=d['NT_GER'].count()\n",
    "print(dif)"
   ]
  },
  {
   "cell_type": "code",
   "execution_count": 94,
   "metadata": {},
   "outputs": [
    {
     "name": "stdout",
     "output_type": "stream",
     "text": [
      "591\n"
     ]
    }
   ],
   "source": [
    "d=mascti[mascti['QE_I20']==5]\n",
    "dif=d['NT_GER'].count()\n",
    "print(dif)"
   ]
  },
  {
   "cell_type": "code",
   "execution_count": 95,
   "metadata": {},
   "outputs": [
    {
     "name": "stdout",
     "output_type": "stream",
     "text": [
      "109\n"
     ]
    }
   ],
   "source": [
    "d=mascti[mascti['QE_I20']==6]\n",
    "dif=d['NT_GER'].count()\n",
    "print(dif)"
   ]
  },
  {
   "cell_type": "code",
   "execution_count": 96,
   "metadata": {},
   "outputs": [
    {
     "name": "stdout",
     "output_type": "stream",
     "text": [
      "3814\n"
     ]
    }
   ],
   "source": [
    "d=mascti[mascti['QE_I20']==7]\n",
    "dif=d['NT_GER'].count()\n",
    "print(dif)"
   ]
  },
  {
   "cell_type": "code",
   "execution_count": 97,
   "metadata": {},
   "outputs": [
    {
     "name": "stdout",
     "output_type": "stream",
     "text": [
      "1897\n"
     ]
    }
   ],
   "source": [
    "d=mascti[mascti['QE_I20']==8]\n",
    "dif=d['NT_GER'].count()\n",
    "print(dif)"
   ]
  },
  {
   "cell_type": "code",
   "execution_count": 98,
   "metadata": {},
   "outputs": [
    {
     "name": "stdout",
     "output_type": "stream",
     "text": [
      "92\n"
     ]
    }
   ],
   "source": [
    "d=mascti[mascti['QE_I20']==9]\n",
    "dif=d['NT_GER'].count()\n",
    "print(dif)"
   ]
  },
  {
   "cell_type": "code",
   "execution_count": 99,
   "metadata": {},
   "outputs": [
    {
     "name": "stdout",
     "output_type": "stream",
     "text": [
      "540\n"
     ]
    }
   ],
   "source": [
    "d=mascti[mascti['QE_I20']==10]\n",
    "dif=d['NT_GER'].count()\n",
    "print(dif)"
   ]
  },
  {
   "cell_type": "code",
   "execution_count": 100,
   "metadata": {},
   "outputs": [
    {
     "name": "stdout",
     "output_type": "stream",
     "text": [
      "2161\n"
     ]
    }
   ],
   "source": [
    "d=mascti[mascti['QE_I20']==11]\n",
    "dif=d['NT_GER'].count()\n",
    "print(dif)"
   ]
  },
  {
   "cell_type": "markdown",
   "metadata": {},
   "source": [
    "<h3> Motivo para escolher o curso mulheres </h3>"
   ]
  },
  {
   "cell_type": "code",
   "execution_count": 101,
   "metadata": {},
   "outputs": [
    {
     "name": "stdout",
     "output_type": "stream",
     "text": [
      "2148\n"
     ]
    }
   ],
   "source": [
    "m=femti[femti['QE_I25']==1]\n",
    "mot=m['NT_GER'].count()\n",
    "print(mot)"
   ]
  },
  {
   "cell_type": "code",
   "execution_count": 102,
   "metadata": {},
   "outputs": [
    {
     "name": "stdout",
     "output_type": "stream",
     "text": [
      "391\n"
     ]
    }
   ],
   "source": [
    "m=femti[femti['QE_I25']==2]\n",
    "mot=m['NT_GER'].count()\n",
    "print(mot)"
   ]
  },
  {
   "cell_type": "code",
   "execution_count": 103,
   "metadata": {},
   "outputs": [
    {
     "name": "stdout",
     "output_type": "stream",
     "text": [
      "916\n"
     ]
    }
   ],
   "source": [
    "m=femti[femti['QE_I25']==3]\n",
    "mot=m['NT_GER'].count()\n",
    "print(mot)"
   ]
  },
  {
   "cell_type": "code",
   "execution_count": 104,
   "metadata": {},
   "outputs": [
    {
     "name": "stdout",
     "output_type": "stream",
     "text": [
      "18\n"
     ]
    }
   ],
   "source": [
    "m=femti[femti['QE_I25']==4]\n",
    "mot=m['NT_GER'].count()\n",
    "print(mot)"
   ]
  },
  {
   "cell_type": "code",
   "execution_count": 105,
   "metadata": {},
   "outputs": [
    {
     "name": "stdout",
     "output_type": "stream",
     "text": [
      "1179\n"
     ]
    }
   ],
   "source": [
    "m=femti[femti['QE_I25']==5]\n",
    "mot=m['NT_GER'].count()\n",
    "print(mot)"
   ]
  },
  {
   "cell_type": "code",
   "execution_count": 106,
   "metadata": {},
   "outputs": [
    {
     "name": "stdout",
     "output_type": "stream",
     "text": [
      "88\n"
     ]
    }
   ],
   "source": [
    "m=femti[femti['QE_I25']==6]\n",
    "mot=m['NT_GER'].count()\n",
    "print(mot)"
   ]
  },
  {
   "cell_type": "code",
   "execution_count": 107,
   "metadata": {},
   "outputs": [
    {
     "name": "stdout",
     "output_type": "stream",
     "text": [
      "66\n"
     ]
    }
   ],
   "source": [
    "m=femti[femti['QE_I25']==7]\n",
    "mot=m['NT_GER'].count()\n",
    "print(mot)"
   ]
  },
  {
   "cell_type": "code",
   "execution_count": 108,
   "metadata": {},
   "outputs": [
    {
     "name": "stdout",
     "output_type": "stream",
     "text": [
      "1040\n"
     ]
    }
   ],
   "source": [
    "m=femti[femti['QE_I25']==8]\n",
    "mot=m['NT_GER'].count()\n",
    "print(mot)"
   ]
  },
  {
   "cell_type": "markdown",
   "metadata": {},
   "source": [
    "<h3> Motivos para escolher o curso homens</h3>"
   ]
  },
  {
   "cell_type": "code",
   "execution_count": 109,
   "metadata": {},
   "outputs": [
    {
     "name": "stdout",
     "output_type": "stream",
     "text": [
      "10132\n"
     ]
    }
   ],
   "source": [
    "m=mascti[mascti['QE_I25']==1]\n",
    "mot=m['NT_GER'].count()\n",
    "print(mot)"
   ]
  },
  {
   "cell_type": "code",
   "execution_count": 110,
   "metadata": {},
   "outputs": [
    {
     "name": "stdout",
     "output_type": "stream",
     "text": [
      "1210\n"
     ]
    }
   ],
   "source": [
    "m=mascti[mascti['QE_I25']==2]\n",
    "mot=m['NT_GER'].count()\n",
    "print(mot)"
   ]
  },
  {
   "cell_type": "code",
   "execution_count": 111,
   "metadata": {},
   "outputs": [
    {
     "name": "stdout",
     "output_type": "stream",
     "text": [
      "5770\n"
     ]
    }
   ],
   "source": [
    "m=mascti[mascti['QE_I25']==3]\n",
    "mot=m['NT_GER'].count()\n",
    "print(mot)"
   ]
  },
  {
   "cell_type": "code",
   "execution_count": 112,
   "metadata": {},
   "outputs": [
    {
     "name": "stdout",
     "output_type": "stream",
     "text": [
      "169\n"
     ]
    }
   ],
   "source": [
    "m=mascti[mascti['QE_I25']==4]\n",
    "mot=m['NT_GER'].count()\n",
    "print(mot)"
   ]
  },
  {
   "cell_type": "code",
   "execution_count": 113,
   "metadata": {},
   "outputs": [
    {
     "name": "stdout",
     "output_type": "stream",
     "text": [
      "11839\n"
     ]
    }
   ],
   "source": [
    "m=mascti[mascti['QE_I25']==5]\n",
    "mot=m['NT_GER'].count()\n",
    "print(mot)"
   ]
  },
  {
   "cell_type": "code",
   "execution_count": 114,
   "metadata": {},
   "outputs": [
    {
     "name": "stdout",
     "output_type": "stream",
     "text": [
      "559\n"
     ]
    }
   ],
   "source": [
    "m=mascti[mascti['QE_I25']==6]\n",
    "mot=m['NT_GER'].count()\n",
    "print(mot)"
   ]
  },
  {
   "cell_type": "code",
   "execution_count": 115,
   "metadata": {},
   "outputs": [
    {
     "name": "stdout",
     "output_type": "stream",
     "text": [
      "268\n"
     ]
    }
   ],
   "source": [
    "m=mascti[mascti['QE_I25']==7]\n",
    "mot=m['NT_GER'].count()\n",
    "print(mot)"
   ]
  },
  {
   "cell_type": "code",
   "execution_count": 116,
   "metadata": {},
   "outputs": [
    {
     "name": "stdout",
     "output_type": "stream",
     "text": [
      "4369\n"
     ]
    }
   ],
   "source": [
    "m=mascti[mascti['QE_I25']==8]\n",
    "mot=m['NT_GER'].count()\n",
    "print(mot)"
   ]
  },
  {
   "cell_type": "markdown",
   "metadata": {},
   "source": [
    "<h3> com quem mora mulheres</h3>"
   ]
  },
  {
   "cell_type": "code",
   "execution_count": 117,
   "metadata": {},
   "outputs": [
    {
     "name": "stdout",
     "output_type": "stream",
     "text": [
      "443\n"
     ]
    }
   ],
   "source": [
    "v=femti[femti['QE_I06']==1]\n",
    "viv=v['NT_GER'].count()\n",
    "print(viv)"
   ]
  },
  {
   "cell_type": "code",
   "execution_count": 118,
   "metadata": {},
   "outputs": [
    {
     "name": "stdout",
     "output_type": "stream",
     "text": [
      "3863\n"
     ]
    }
   ],
   "source": [
    "v=femti[femti['QE_I06']==2]\n",
    "viv=v['NT_GER'].count()\n",
    "print(viv)"
   ]
  },
  {
   "cell_type": "code",
   "execution_count": 119,
   "metadata": {},
   "outputs": [
    {
     "name": "stdout",
     "output_type": "stream",
     "text": [
      "1101\n"
     ]
    }
   ],
   "source": [
    "v=femti[femti['QE_I06']==3]\n",
    "viv=v['NT_GER'].count()\n",
    "print(viv)"
   ]
  },
  {
   "cell_type": "code",
   "execution_count": 120,
   "metadata": {},
   "outputs": [
    {
     "name": "stdout",
     "output_type": "stream",
     "text": [
      "383\n"
     ]
    }
   ],
   "source": [
    "v=femti[femti['QE_I06']==4]\n",
    "viv=v['NT_GER'].count()\n",
    "print(viv)"
   ]
  },
  {
   "cell_type": "code",
   "execution_count": 121,
   "metadata": {},
   "outputs": [
    {
     "name": "stdout",
     "output_type": "stream",
     "text": [
      "13\n"
     ]
    }
   ],
   "source": [
    "v=femti[femti['QE_I06']==5]\n",
    "viv=v['NT_GER'].count()\n",
    "print(viv)"
   ]
  },
  {
   "cell_type": "code",
   "execution_count": 122,
   "metadata": {},
   "outputs": [
    {
     "name": "stdout",
     "output_type": "stream",
     "text": [
      "43\n"
     ]
    }
   ],
   "source": [
    "v=femti[femti['QE_I06']==6]\n",
    "viv=v['NT_GER'].count()\n",
    "print(viv)"
   ]
  },
  {
   "cell_type": "markdown",
   "metadata": {},
   "source": [
    "<h3> Com quem mora homens</h3>"
   ]
  },
  {
   "cell_type": "code",
   "execution_count": 123,
   "metadata": {},
   "outputs": [
    {
     "name": "stdout",
     "output_type": "stream",
     "text": [
      "2727\n"
     ]
    }
   ],
   "source": [
    "v=mascti[mascti['QE_I06']==1]\n",
    "viv=v['NT_GER'].count()\n",
    "print(viv)"
   ]
  },
  {
   "cell_type": "code",
   "execution_count": 124,
   "metadata": {},
   "outputs": [
    {
     "name": "stdout",
     "output_type": "stream",
     "text": [
      "21675\n"
     ]
    }
   ],
   "source": [
    "v=mascti[mascti['QE_I06']==2]\n",
    "viv=v['NT_GER'].count()\n",
    "print(viv)"
   ]
  },
  {
   "cell_type": "code",
   "execution_count": 125,
   "metadata": {},
   "outputs": [
    {
     "name": "stdout",
     "output_type": "stream",
     "text": [
      "7573\n"
     ]
    }
   ],
   "source": [
    "v=mascti[mascti['QE_I06']==3]\n",
    "viv=v['NT_GER'].count()\n",
    "print(viv)"
   ]
  },
  {
   "cell_type": "code",
   "execution_count": 126,
   "metadata": {},
   "outputs": [
    {
     "name": "stdout",
     "output_type": "stream",
     "text": [
      "2034\n"
     ]
    }
   ],
   "source": [
    "v=mascti[mascti['QE_I06']==4]\n",
    "viv=v['NT_GER'].count()\n",
    "print(viv)"
   ]
  },
  {
   "cell_type": "code",
   "execution_count": 127,
   "metadata": {},
   "outputs": [
    {
     "name": "stdout",
     "output_type": "stream",
     "text": [
      "90\n"
     ]
    }
   ],
   "source": [
    "v=mascti[mascti['QE_I06']==5]\n",
    "viv=v['NT_GER'].count()\n",
    "print(viv)"
   ]
  },
  {
   "cell_type": "code",
   "execution_count": 128,
   "metadata": {},
   "outputs": [
    {
     "name": "stdout",
     "output_type": "stream",
     "text": [
      "217\n"
     ]
    }
   ],
   "source": [
    "v=mascti[mascti['QE_I06']==6]\n",
    "viv=v['NT_GER'].count()\n",
    "print(viv)"
   ]
  }
 ],
 "metadata": {
  "kernelspec": {
   "display_name": "Python 3",
   "language": "python",
   "name": "python3"
  },
  "language_info": {
   "codemirror_mode": {
    "name": "ipython",
    "version": 3
   },
   "file_extension": ".py",
   "mimetype": "text/x-python",
   "name": "python",
   "nbconvert_exporter": "python",
   "pygments_lexer": "ipython3",
   "version": "3.6.5"
  }
 },
 "nbformat": 4,
 "nbformat_minor": 2
}
