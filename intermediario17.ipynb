{
 "cells": [
  {
   "cell_type": "code",
   "execution_count": 1,
   "metadata": {},
   "outputs": [
    {
     "data": {
      "text/plain": [
       "(537436, 150)"
      ]
     },
     "execution_count": 1,
     "metadata": {},
     "output_type": "execute_result"
    }
   ],
   "source": [
    "import pandas\n",
    "import matplotlib.pyplot as plt\n",
    "import scipy.stats as stats\n",
    "enade2017=pandas.read_csv(\"MICRODADOS_ENADE_2017.txt\", sep=';',dtype={\"DS_VT_ESC_OFG\": str, \n",
    "                                                                               'DS_VT_ESC_OCE':str,\n",
    "                                                                              'DS_VT_ACE_OCE':str,\n",
    "                                                                              'NT_GER':str,\n",
    "                                                                              'NT_FG':str,\n",
    "                                                                              'NT_OBJ_FG':str,\n",
    "                                                                              'NT_DIS_FG':str,\n",
    "                                                                              'NT_CE':str,\n",
    "                                                                              'NT_OBJ_CE':str,\n",
    "                                                                              'NT_DIS_CE':str})\n",
    "enade2017.shape\n"
   ]
  },
  {
   "cell_type": "code",
   "execution_count": 2,
   "metadata": {},
   "outputs": [
    {
     "data": {
      "text/plain": [
       "Index(['NU_ANO', 'CO_IES', 'CO_CATEGAD', 'CO_ORGACAD', 'CO_GRUPO', 'CO_CURSO',\n",
       "       'CO_MODALIDADE', 'CO_MUNIC_CURSO', 'CO_UF_CURSO', 'CO_REGIAO_CURSO'],\n",
       "      dtype='object')"
      ]
     },
     "execution_count": 2,
     "metadata": {},
     "output_type": "execute_result"
    }
   ],
   "source": [
    "enade2017.columns[0:10]"
   ]
  },
  {
   "cell_type": "code",
   "execution_count": 3,
   "metadata": {},
   "outputs": [
    {
     "data": {
      "text/html": [
       "<div>\n",
       "<style scoped>\n",
       "    .dataframe tbody tr th:only-of-type {\n",
       "        vertical-align: middle;\n",
       "    }\n",
       "\n",
       "    .dataframe tbody tr th {\n",
       "        vertical-align: top;\n",
       "    }\n",
       "\n",
       "    .dataframe thead th {\n",
       "        text-align: right;\n",
       "    }\n",
       "</style>\n",
       "<table border=\"1\" class=\"dataframe\">\n",
       "  <thead>\n",
       "    <tr style=\"text-align: right;\">\n",
       "      <th></th>\n",
       "      <th>NT_GER</th>\n",
       "      <th>CO_CATEGAD</th>\n",
       "      <th>CO_UF_CURSO</th>\n",
       "      <th>QE_I08</th>\n",
       "      <th>QE_I10</th>\n",
       "    </tr>\n",
       "  </thead>\n",
       "  <tbody>\n",
       "    <tr>\n",
       "      <th>0</th>\n",
       "      <td>52,6</td>\n",
       "      <td>1</td>\n",
       "      <td>51</td>\n",
       "      <td>B</td>\n",
       "      <td>B</td>\n",
       "    </tr>\n",
       "    <tr>\n",
       "      <th>1</th>\n",
       "      <td>63,1</td>\n",
       "      <td>1</td>\n",
       "      <td>51</td>\n",
       "      <td>B</td>\n",
       "      <td>E</td>\n",
       "    </tr>\n",
       "    <tr>\n",
       "      <th>2</th>\n",
       "      <td>33,7</td>\n",
       "      <td>1</td>\n",
       "      <td>51</td>\n",
       "      <td>F</td>\n",
       "      <td>A</td>\n",
       "    </tr>\n",
       "    <tr>\n",
       "      <th>3</th>\n",
       "      <td>58,1</td>\n",
       "      <td>1</td>\n",
       "      <td>51</td>\n",
       "      <td>B</td>\n",
       "      <td>A</td>\n",
       "    </tr>\n",
       "    <tr>\n",
       "      <th>4</th>\n",
       "      <td>46,3</td>\n",
       "      <td>1</td>\n",
       "      <td>51</td>\n",
       "      <td>F</td>\n",
       "      <td>C</td>\n",
       "    </tr>\n",
       "    <tr>\n",
       "      <th>5</th>\n",
       "      <td>64,2</td>\n",
       "      <td>1</td>\n",
       "      <td>51</td>\n",
       "      <td>C</td>\n",
       "      <td>B</td>\n",
       "    </tr>\n",
       "    <tr>\n",
       "      <th>6</th>\n",
       "      <td>41,4</td>\n",
       "      <td>1</td>\n",
       "      <td>51</td>\n",
       "      <td>C</td>\n",
       "      <td>A</td>\n",
       "    </tr>\n",
       "    <tr>\n",
       "      <th>7</th>\n",
       "      <td>48,8</td>\n",
       "      <td>1</td>\n",
       "      <td>51</td>\n",
       "      <td>C</td>\n",
       "      <td>A</td>\n",
       "    </tr>\n",
       "    <tr>\n",
       "      <th>8</th>\n",
       "      <td>52,9</td>\n",
       "      <td>1</td>\n",
       "      <td>51</td>\n",
       "      <td>E</td>\n",
       "      <td>A</td>\n",
       "    </tr>\n",
       "    <tr>\n",
       "      <th>9</th>\n",
       "      <td>62,7</td>\n",
       "      <td>1</td>\n",
       "      <td>51</td>\n",
       "      <td>C</td>\n",
       "      <td>C</td>\n",
       "    </tr>\n",
       "  </tbody>\n",
       "</table>\n",
       "</div>"
      ],
      "text/plain": [
       "  NT_GER  CO_CATEGAD  CO_UF_CURSO QE_I08 QE_I10\n",
       "0   52,6           1           51      B      B\n",
       "1   63,1           1           51      B      E\n",
       "2   33,7           1           51      F      A\n",
       "3   58,1           1           51      B      A\n",
       "4   46,3           1           51      F      C\n",
       "5   64,2           1           51      C      B\n",
       "6   41,4           1           51      C      A\n",
       "7   48,8           1           51      C      A\n",
       "8   52,9           1           51      E      A\n",
       "9   62,7           1           51      C      C"
      ]
     },
     "execution_count": 3,
     "metadata": {},
     "output_type": "execute_result"
    }
   ],
   "source": [
    "'''\n",
    "nota geral: 0-98 \n",
    "\n",
    " QE_I08.\n",
    "  Qual a renda total de sua família, incluindo seus rendimentos?\n",
    "  A  (    ) Até 1,5 salário mínimo (até R$ 1.405,50).\n",
    "  B  (    ) De 1,5 a 3 salários mínimos (R$ 1.405,51 a R$ 2.811,00).\n",
    "  C  (    ) De 3 a 4,5 salários mínimos (R$ 2.811,01 a R$ 4.216,50).\n",
    "  D  (    ) De 4,5 a 6 salários mínimos (R$ 4.216,51 a R$ 5.622,00).\n",
    "  E  (    ) De 6 a 10 salários mínimos (R$ 5. 622,01 a R$ 9.370,00).\n",
    "  F  (    ) De 10 a 30 salários mínimos (R$ 9.370,01 a R$ 28.110,00).\n",
    "  G  (    ) Acima de 30 salários mínimos (mais de R$ 28.110,00).\n",
    "  \n",
    "  QE_I10.\n",
    "   Qual alternativa a seguir melhor descreve sua situação de trabalho (exceto estágio ou bolsas)?\n",
    "   A  (    ) Não estou trabalhando.\n",
    "   B  (    ) Trabalho eventualmente.\n",
    "   C  (    ) Trabalho até 20 horas semanais.\n",
    "   D  (    ) Trabalho de 21 a 39 horas semanais.\n",
    "   E  (    ) Trabalho 40 horas semanais ou mais. \n",
    "\n",
    "'''\n",
    "\n",
    "tabela17 = pandas.DataFrame(enade2017, columns=['NT_GER', 'CO_CATEGAD', 'CO_UF_CURSO', 'QE_I08', 'QE_I10'])\n",
    "tabela17.head(10)"
   ]
  },
  {
   "cell_type": "code",
   "execution_count": 4,
   "metadata": {},
   "outputs": [
    {
     "data": {
      "text/html": [
       "<div>\n",
       "<style scoped>\n",
       "    .dataframe tbody tr th:only-of-type {\n",
       "        vertical-align: middle;\n",
       "    }\n",
       "\n",
       "    .dataframe tbody tr th {\n",
       "        vertical-align: top;\n",
       "    }\n",
       "\n",
       "    .dataframe thead th {\n",
       "        text-align: right;\n",
       "    }\n",
       "</style>\n",
       "<table border=\"1\" class=\"dataframe\">\n",
       "  <thead>\n",
       "    <tr style=\"text-align: right;\">\n",
       "      <th></th>\n",
       "      <th>NT_GER</th>\n",
       "      <th>CO_CATEGAD</th>\n",
       "      <th>CO_UF_CURSO</th>\n",
       "      <th>QE_I08</th>\n",
       "      <th>QE_I10</th>\n",
       "    </tr>\n",
       "  </thead>\n",
       "  <tbody>\n",
       "    <tr>\n",
       "      <th>0</th>\n",
       "      <td>52.6</td>\n",
       "      <td>1</td>\n",
       "      <td>51</td>\n",
       "      <td>B</td>\n",
       "      <td>B</td>\n",
       "    </tr>\n",
       "    <tr>\n",
       "      <th>1</th>\n",
       "      <td>63.1</td>\n",
       "      <td>1</td>\n",
       "      <td>51</td>\n",
       "      <td>B</td>\n",
       "      <td>E</td>\n",
       "    </tr>\n",
       "    <tr>\n",
       "      <th>2</th>\n",
       "      <td>33.7</td>\n",
       "      <td>1</td>\n",
       "      <td>51</td>\n",
       "      <td>F</td>\n",
       "      <td>A</td>\n",
       "    </tr>\n",
       "    <tr>\n",
       "      <th>3</th>\n",
       "      <td>58.1</td>\n",
       "      <td>1</td>\n",
       "      <td>51</td>\n",
       "      <td>B</td>\n",
       "      <td>A</td>\n",
       "    </tr>\n",
       "    <tr>\n",
       "      <th>4</th>\n",
       "      <td>46.3</td>\n",
       "      <td>1</td>\n",
       "      <td>51</td>\n",
       "      <td>F</td>\n",
       "      <td>C</td>\n",
       "    </tr>\n",
       "  </tbody>\n",
       "</table>\n",
       "</div>"
      ],
      "text/plain": [
       "   NT_GER  CO_CATEGAD  CO_UF_CURSO QE_I08 QE_I10\n",
       "0    52.6           1           51      B      B\n",
       "1    63.1           1           51      B      E\n",
       "2    33.7           1           51      F      A\n",
       "3    58.1           1           51      B      A\n",
       "4    46.3           1           51      F      C"
      ]
     },
     "execution_count": 4,
     "metadata": {},
     "output_type": "execute_result"
    }
   ],
   "source": [
    "#LIMPEZA DE DADOS \n",
    "#substitui vírgula por ponto\n",
    "\n",
    "tabela17['NT_GER'] = tabela17['NT_GER'].str.replace(',', '.')\n",
    "tabela17=tabela17.loc[(tabela17['NT_GER'].notnull())]\n",
    "tabela17['NT_GER'] = pandas.to_numeric(tabela17['NT_GER'])\n",
    "tabela17.head()"
   ]
  },
  {
   "cell_type": "code",
   "execution_count": 5,
   "metadata": {},
   "outputs": [
    {
     "data": {
      "text/html": [
       "<div>\n",
       "<style scoped>\n",
       "    .dataframe tbody tr th:only-of-type {\n",
       "        vertical-align: middle;\n",
       "    }\n",
       "\n",
       "    .dataframe tbody tr th {\n",
       "        vertical-align: top;\n",
       "    }\n",
       "\n",
       "    .dataframe thead th {\n",
       "        text-align: right;\n",
       "    }\n",
       "</style>\n",
       "<table border=\"1\" class=\"dataframe\">\n",
       "  <thead>\n",
       "    <tr style=\"text-align: right;\">\n",
       "      <th></th>\n",
       "      <th>NT_GER</th>\n",
       "      <th>CO_CATEGAD</th>\n",
       "      <th>CO_UF_CURSO</th>\n",
       "      <th>QE_I08</th>\n",
       "      <th>QE_I10</th>\n",
       "    </tr>\n",
       "  </thead>\n",
       "  <tbody>\n",
       "    <tr>\n",
       "      <th>0</th>\n",
       "      <td>52.6</td>\n",
       "      <td>1</td>\n",
       "      <td>51</td>\n",
       "      <td>2</td>\n",
       "      <td>2</td>\n",
       "    </tr>\n",
       "    <tr>\n",
       "      <th>1</th>\n",
       "      <td>63.1</td>\n",
       "      <td>1</td>\n",
       "      <td>51</td>\n",
       "      <td>2</td>\n",
       "      <td>5</td>\n",
       "    </tr>\n",
       "    <tr>\n",
       "      <th>2</th>\n",
       "      <td>33.7</td>\n",
       "      <td>1</td>\n",
       "      <td>51</td>\n",
       "      <td>6</td>\n",
       "      <td>1</td>\n",
       "    </tr>\n",
       "    <tr>\n",
       "      <th>3</th>\n",
       "      <td>58.1</td>\n",
       "      <td>1</td>\n",
       "      <td>51</td>\n",
       "      <td>2</td>\n",
       "      <td>1</td>\n",
       "    </tr>\n",
       "    <tr>\n",
       "      <th>4</th>\n",
       "      <td>46.3</td>\n",
       "      <td>1</td>\n",
       "      <td>51</td>\n",
       "      <td>6</td>\n",
       "      <td>3</td>\n",
       "    </tr>\n",
       "  </tbody>\n",
       "</table>\n",
       "</div>"
      ],
      "text/plain": [
       "   NT_GER  CO_CATEGAD  CO_UF_CURSO  QE_I08  QE_I10\n",
       "0    52.6           1           51       2       2\n",
       "1    63.1           1           51       2       5\n",
       "2    33.7           1           51       6       1\n",
       "3    58.1           1           51       2       1\n",
       "4    46.3           1           51       6       3"
      ]
     },
     "execution_count": 5,
     "metadata": {},
     "output_type": "execute_result"
    }
   ],
   "source": [
    "tabela17=tabela17.loc[(tabela17['QE_I08'].notnull())]\n",
    "tabela17=tabela17.loc[(tabela17['QE_I10'].notnull())]\n",
    "\n",
    "tabela17['QE_I08'] = tabela17['QE_I08'].map({'A': 1, 'B': 2, 'C': 3, 'D': 4,'E': 5, 'F':6,'G':7})\n",
    "tabela17['QE_I10'] = tabela17['QE_I10'].map({'A': 1, 'B': 2, 'C': 3, 'D': 4,'E': 5})\n",
    "tabela17.head()"
   ]
  },
  {
   "cell_type": "code",
   "execution_count": 6,
   "metadata": {},
   "outputs": [
    {
     "data": {
      "text/plain": [
       "43.61764950278398"
      ]
     },
     "execution_count": 6,
     "metadata": {},
     "output_type": "execute_result"
    }
   ],
   "source": [
    "tabela17['NT_GER'].mean()"
   ]
  },
  {
   "cell_type": "code",
   "execution_count": 7,
   "metadata": {},
   "outputs": [
    {
     "data": {
      "text/plain": [
       "count    442868.000000\n",
       "mean         43.617650\n",
       "std          14.061583\n",
       "min           0.000000\n",
       "25%          33.500000\n",
       "50%          43.000000\n",
       "75%          53.200000\n",
       "max          98.100000\n",
       "Name: NT_GER, dtype: float64"
      ]
     },
     "execution_count": 7,
     "metadata": {},
     "output_type": "execute_result"
    }
   ],
   "source": [
    "tabela17['NT_GER'].describe()"
   ]
  },
  {
   "cell_type": "code",
   "execution_count": 8,
   "metadata": {},
   "outputs": [
    {
     "name": "stdout",
     "output_type": "stream",
     "text": [
      "indice da primeira maior nota 2017:  72257\n",
      "Maior nota:  98.1\n"
     ]
    }
   ],
   "source": [
    "print('indice da primeira maior nota 2017: ', tabela17['NT_GER'].idxmax())\n",
    "print('Maior nota: ', tabela17['NT_GER'][72257])\n",
    "#print(tabela['NT_GER'].idxmax())"
   ]
  },
  {
   "cell_type": "code",
   "execution_count": 9,
   "metadata": {},
   "outputs": [],
   "source": [
    "#Calcula a media de Minas Gerais\n",
    "\n",
    "UF17 = tabela17"
   ]
  },
  {
   "cell_type": "code",
   "execution_count": 10,
   "metadata": {},
   "outputs": [],
   "source": [
    "#UF17['NT_GER'].describe()"
   ]
  },
  {
   "cell_type": "code",
   "execution_count": 11,
   "metadata": {},
   "outputs": [
    {
     "data": {
      "text/html": [
       "<div>\n",
       "<style scoped>\n",
       "    .dataframe tbody tr th:only-of-type {\n",
       "        vertical-align: middle;\n",
       "    }\n",
       "\n",
       "    .dataframe tbody tr th {\n",
       "        vertical-align: top;\n",
       "    }\n",
       "\n",
       "    .dataframe thead th {\n",
       "        text-align: right;\n",
       "    }\n",
       "</style>\n",
       "<table border=\"1\" class=\"dataframe\">\n",
       "  <thead>\n",
       "    <tr style=\"text-align: right;\">\n",
       "      <th></th>\n",
       "      <th>NT_GER</th>\n",
       "      <th>CO_CATEGAD</th>\n",
       "      <th>CO_UF_CURSO</th>\n",
       "      <th>QE_I08</th>\n",
       "      <th>QE_I10</th>\n",
       "    </tr>\n",
       "  </thead>\n",
       "  <tbody>\n",
       "    <tr>\n",
       "      <th>count</th>\n",
       "      <td>103027.00000</td>\n",
       "      <td>103027.0</td>\n",
       "      <td>103027.000000</td>\n",
       "      <td>103027.000000</td>\n",
       "      <td>103027.000000</td>\n",
       "    </tr>\n",
       "    <tr>\n",
       "      <th>mean</th>\n",
       "      <td>48.10947</td>\n",
       "      <td>1.0</td>\n",
       "      <td>30.987033</td>\n",
       "      <td>2.937754</td>\n",
       "      <td>2.376697</td>\n",
       "    </tr>\n",
       "    <tr>\n",
       "      <th>std</th>\n",
       "      <td>14.64374</td>\n",
       "      <td>0.0</td>\n",
       "      <td>10.319677</td>\n",
       "      <td>1.660787</td>\n",
       "      <td>1.636752</td>\n",
       "    </tr>\n",
       "    <tr>\n",
       "      <th>min</th>\n",
       "      <td>0.00000</td>\n",
       "      <td>1.0</td>\n",
       "      <td>11.000000</td>\n",
       "      <td>1.000000</td>\n",
       "      <td>1.000000</td>\n",
       "    </tr>\n",
       "    <tr>\n",
       "      <th>25%</th>\n",
       "      <td>37.80000</td>\n",
       "      <td>1.0</td>\n",
       "      <td>24.000000</td>\n",
       "      <td>2.000000</td>\n",
       "      <td>1.000000</td>\n",
       "    </tr>\n",
       "    <tr>\n",
       "      <th>50%</th>\n",
       "      <td>48.20000</td>\n",
       "      <td>1.0</td>\n",
       "      <td>31.000000</td>\n",
       "      <td>3.000000</td>\n",
       "      <td>1.000000</td>\n",
       "    </tr>\n",
       "    <tr>\n",
       "      <th>75%</th>\n",
       "      <td>58.50000</td>\n",
       "      <td>1.0</td>\n",
       "      <td>35.000000</td>\n",
       "      <td>4.000000</td>\n",
       "      <td>4.000000</td>\n",
       "    </tr>\n",
       "    <tr>\n",
       "      <th>max</th>\n",
       "      <td>98.10000</td>\n",
       "      <td>1.0</td>\n",
       "      <td>53.000000</td>\n",
       "      <td>7.000000</td>\n",
       "      <td>5.000000</td>\n",
       "    </tr>\n",
       "  </tbody>\n",
       "</table>\n",
       "</div>"
      ],
      "text/plain": [
       "             NT_GER  CO_CATEGAD    CO_UF_CURSO         QE_I08         QE_I10\n",
       "count  103027.00000    103027.0  103027.000000  103027.000000  103027.000000\n",
       "mean       48.10947         1.0      30.987033       2.937754       2.376697\n",
       "std        14.64374         0.0      10.319677       1.660787       1.636752\n",
       "min         0.00000         1.0      11.000000       1.000000       1.000000\n",
       "25%        37.80000         1.0      24.000000       2.000000       1.000000\n",
       "50%        48.20000         1.0      31.000000       3.000000       1.000000\n",
       "75%        58.50000         1.0      35.000000       4.000000       4.000000\n",
       "max        98.10000         1.0      53.000000       7.000000       5.000000"
      ]
     },
     "execution_count": 11,
     "metadata": {},
     "output_type": "execute_result"
    }
   ],
   "source": [
    "#CATEGORIA DA UNIVERSIDADE\n",
    "#2017\n",
    "#Pública = 1\n",
    "#Privada = 2\n",
    "tabela17 = tabela17.loc[(tabela17['CO_CATEGAD'].notnull())]\n",
    "tabela17['CO_CATEGAD'] = tabela17['CO_CATEGAD'].map({'1': 1, '2':1, '3':1, '4':2, '5':2})\n",
    "\n",
    "CAT17Pub = UF17[UF17['CO_CATEGAD']==1]\n",
    "CAT17Pub.describe()"
   ]
  },
  {
   "cell_type": "code",
   "execution_count": 12,
   "metadata": {},
   "outputs": [
    {
     "data": {
      "text/html": [
       "<div>\n",
       "<style scoped>\n",
       "    .dataframe tbody tr th:only-of-type {\n",
       "        vertical-align: middle;\n",
       "    }\n",
       "\n",
       "    .dataframe tbody tr th {\n",
       "        vertical-align: top;\n",
       "    }\n",
       "\n",
       "    .dataframe thead th {\n",
       "        text-align: right;\n",
       "    }\n",
       "</style>\n",
       "<table border=\"1\" class=\"dataframe\">\n",
       "  <thead>\n",
       "    <tr style=\"text-align: right;\">\n",
       "      <th></th>\n",
       "      <th>NT_GER</th>\n",
       "      <th>CO_CATEGAD</th>\n",
       "      <th>CO_UF_CURSO</th>\n",
       "      <th>QE_I08</th>\n",
       "      <th>QE_I10</th>\n",
       "    </tr>\n",
       "  </thead>\n",
       "  <tbody>\n",
       "    <tr>\n",
       "      <th>count</th>\n",
       "      <td>50003.000000</td>\n",
       "      <td>50003.0</td>\n",
       "      <td>50003.000000</td>\n",
       "      <td>50003.000000</td>\n",
       "      <td>50003.000000</td>\n",
       "    </tr>\n",
       "    <tr>\n",
       "      <th>mean</th>\n",
       "      <td>44.595284</td>\n",
       "      <td>2.0</td>\n",
       "      <td>32.018759</td>\n",
       "      <td>2.501350</td>\n",
       "      <td>2.610763</td>\n",
       "    </tr>\n",
       "    <tr>\n",
       "      <th>std</th>\n",
       "      <td>14.427150</td>\n",
       "      <td>0.0</td>\n",
       "      <td>8.880785</td>\n",
       "      <td>1.510431</td>\n",
       "      <td>1.677591</td>\n",
       "    </tr>\n",
       "    <tr>\n",
       "      <th>min</th>\n",
       "      <td>0.000000</td>\n",
       "      <td>2.0</td>\n",
       "      <td>13.000000</td>\n",
       "      <td>1.000000</td>\n",
       "      <td>1.000000</td>\n",
       "    </tr>\n",
       "    <tr>\n",
       "      <th>25%</th>\n",
       "      <td>34.400000</td>\n",
       "      <td>2.0</td>\n",
       "      <td>26.000000</td>\n",
       "      <td>1.000000</td>\n",
       "      <td>1.000000</td>\n",
       "    </tr>\n",
       "    <tr>\n",
       "      <th>50%</th>\n",
       "      <td>44.300000</td>\n",
       "      <td>2.0</td>\n",
       "      <td>33.000000</td>\n",
       "      <td>2.000000</td>\n",
       "      <td>2.000000</td>\n",
       "    </tr>\n",
       "    <tr>\n",
       "      <th>75%</th>\n",
       "      <td>54.700000</td>\n",
       "      <td>2.0</td>\n",
       "      <td>35.000000</td>\n",
       "      <td>3.000000</td>\n",
       "      <td>4.000000</td>\n",
       "    </tr>\n",
       "    <tr>\n",
       "      <th>max</th>\n",
       "      <td>93.800000</td>\n",
       "      <td>2.0</td>\n",
       "      <td>52.000000</td>\n",
       "      <td>7.000000</td>\n",
       "      <td>5.000000</td>\n",
       "    </tr>\n",
       "  </tbody>\n",
       "</table>\n",
       "</div>"
      ],
      "text/plain": [
       "             NT_GER  CO_CATEGAD   CO_UF_CURSO        QE_I08        QE_I10\n",
       "count  50003.000000     50003.0  50003.000000  50003.000000  50003.000000\n",
       "mean      44.595284         2.0     32.018759      2.501350      2.610763\n",
       "std       14.427150         0.0      8.880785      1.510431      1.677591\n",
       "min        0.000000         2.0     13.000000      1.000000      1.000000\n",
       "25%       34.400000         2.0     26.000000      1.000000      1.000000\n",
       "50%       44.300000         2.0     33.000000      2.000000      2.000000\n",
       "75%       54.700000         2.0     35.000000      3.000000      4.000000\n",
       "max       93.800000         2.0     52.000000      7.000000      5.000000"
      ]
     },
     "execution_count": 12,
     "metadata": {},
     "output_type": "execute_result"
    }
   ],
   "source": [
    "#Privada\n",
    "CAT17Priv = UF17[UF17['CO_CATEGAD']==2]\n",
    "CAT17Priv.describe()"
   ]
  },
  {
   "cell_type": "code",
   "execution_count": 13,
   "metadata": {},
   "outputs": [
    {
     "data": {
      "text/plain": [
       "count    50003.000000\n",
       "mean        44.595284\n",
       "std         14.427150\n",
       "min          0.000000\n",
       "25%         34.400000\n",
       "50%         44.300000\n",
       "75%         54.700000\n",
       "max         93.800000\n",
       "Name: NT_GER, dtype: float64"
      ]
     },
     "execution_count": 13,
     "metadata": {},
     "output_type": "execute_result"
    }
   ],
   "source": [
    "#somente as notas de quem respondeu a questão sobre a renda\n",
    "CAT17Priv=CAT17Priv.loc[(CAT17Priv['QE_I08'].notnull())]\n",
    "CAT17Priv.NT_GER.describe()"
   ]
  },
  {
   "cell_type": "code",
   "execution_count": 14,
   "metadata": {},
   "outputs": [
    {
     "data": {
      "text/plain": [
       "count    50003.000000\n",
       "mean        44.595284\n",
       "std         14.427150\n",
       "min          0.000000\n",
       "25%         34.400000\n",
       "50%         44.300000\n",
       "75%         54.700000\n",
       "max         93.800000\n",
       "Name: NT_GER, dtype: float64"
      ]
     },
     "execution_count": 14,
     "metadata": {},
     "output_type": "execute_result"
    }
   ],
   "source": [
    "#somente as notas de quem respondeu a questão sobre a situacao de trabalho\n",
    "CAT17Priv=CAT17Priv.loc[(CAT17Priv['QE_I10'].notnull())]\n",
    "CAT17Priv.NT_GER.describe()"
   ]
  },
  {
   "cell_type": "code",
   "execution_count": 15,
   "metadata": {},
   "outputs": [
    {
     "data": {
      "text/plain": [
       "5108    4\n",
       "5109    1\n",
       "5110    3\n",
       "5111    4\n",
       "5112    1\n",
       "5113    4\n",
       "5114    6\n",
       "5115    3\n",
       "5116    6\n",
       "5117    4\n",
       "Name: QE_I08, dtype: int64"
      ]
     },
     "execution_count": 15,
     "metadata": {},
     "output_type": "execute_result"
    }
   ],
   "source": [
    "CAT17Priv.QE_I08.head(10)\n"
   ]
  },
  {
   "cell_type": "code",
   "execution_count": 16,
   "metadata": {},
   "outputs": [
    {
     "data": {
      "text/plain": [
       "5108    1\n",
       "5109    1\n",
       "5110    1\n",
       "5111    2\n",
       "5112    1\n",
       "5113    1\n",
       "5114    2\n",
       "5115    1\n",
       "5116    2\n",
       "5117    1\n",
       "Name: QE_I10, dtype: int64"
      ]
     },
     "execution_count": 16,
     "metadata": {},
     "output_type": "execute_result"
    }
   ],
   "source": [
    "CAT17Priv.QE_I10.head(10)"
   ]
  },
  {
   "cell_type": "code",
   "execution_count": 17,
   "metadata": {},
   "outputs": [
    {
     "data": {
      "text/plain": [
       "count    103027.00000\n",
       "mean         48.10947\n",
       "std          14.64374\n",
       "min           0.00000\n",
       "25%          37.80000\n",
       "50%          48.20000\n",
       "75%          58.50000\n",
       "max          98.10000\n",
       "Name: NT_GER, dtype: float64"
      ]
     },
     "execution_count": 17,
     "metadata": {},
     "output_type": "execute_result"
    }
   ],
   "source": [
    "#somente as notas de quem respondeu a questão sobre a situação de trabalho\n",
    "#2017 publica\n",
    "CAT17Pub=CAT17Pub.loc[(CAT17Pub['QE_I10'].notnull())]\n",
    "CAT17Pub.NT_GER.describe()"
   ]
  },
  {
   "cell_type": "code",
   "execution_count": 18,
   "metadata": {},
   "outputs": [
    {
     "data": {
      "text/plain": [
       "count    103027.00000\n",
       "mean         48.10947\n",
       "std          14.64374\n",
       "min           0.00000\n",
       "25%          37.80000\n",
       "50%          48.20000\n",
       "75%          58.50000\n",
       "max          98.10000\n",
       "Name: NT_GER, dtype: float64"
      ]
     },
     "execution_count": 18,
     "metadata": {},
     "output_type": "execute_result"
    }
   ],
   "source": [
    "#somente as notas de quem respondeu a questão sobre a renda\n",
    "CAT17Pub=CAT17Pub.loc[(CAT17Pub['QE_I08'].notnull())]\n",
    "CAT17Pub.NT_GER.describe()"
   ]
  },
  {
   "cell_type": "code",
   "execution_count": 19,
   "metadata": {},
   "outputs": [
    {
     "data": {
      "text/plain": [
       "0    2\n",
       "1    2\n",
       "2    6\n",
       "3    2\n",
       "4    6\n",
       "5    3\n",
       "6    3\n",
       "7    3\n",
       "8    5\n",
       "9    3\n",
       "Name: QE_I08, dtype: int64"
      ]
     },
     "execution_count": 19,
     "metadata": {},
     "output_type": "execute_result"
    }
   ],
   "source": [
    "CAT17Pub.QE_I08.head(10)\n"
   ]
  },
  {
   "cell_type": "code",
   "execution_count": 20,
   "metadata": {},
   "outputs": [
    {
     "data": {
      "text/plain": [
       "0    2\n",
       "1    5\n",
       "2    1\n",
       "3    1\n",
       "4    3\n",
       "5    2\n",
       "6    1\n",
       "7    1\n",
       "8    1\n",
       "9    3\n",
       "Name: QE_I10, dtype: int64"
      ]
     },
     "execution_count": 20,
     "metadata": {},
     "output_type": "execute_result"
    }
   ],
   "source": [
    "CAT17Pub.QE_I10.head(10)\n"
   ]
  },
  {
   "cell_type": "code",
   "execution_count": 21,
   "metadata": {},
   "outputs": [
    {
     "data": {
      "image/png": "[encoded data removed]",
      "text/plain": [
       "<Figure size 432x288 with 1 Axes>"
      ]
     },
     "metadata": {},
     "output_type": "display_data"
    }
   ],
   "source": [
    "import matplotlib.pyplot as plt\n",
    "#visualmente\n",
    "plt.scatter( CAT17Pub.NT_GER, CAT17Pub.QE_I08)\n",
    "plt.ylabel('Faixa de renda')\n",
    "plt.xlabel('Nota FEDERAL.')\n",
    "plt.show()"
   ]
  },
  {
   "cell_type": "code",
   "execution_count": 22,
   "metadata": {},
   "outputs": [
    {
     "data": {
      "image/png": "[encoded data removed]",
      "text/plain": [
       "<Figure size 432x288 with 1 Axes>"
      ]
     },
     "metadata": {},
     "output_type": "display_data"
    }
   ],
   "source": [
    "import matplotlib.pyplot as plt\n",
    "#visualmente\n",
    "plt.scatter( CAT17Priv.NT_GER, CAT17Priv.QE_I08)\n",
    "plt.ylabel('Faixa de renda')\n",
    "plt.xlabel('Nota privada.')\n",
    "plt.show()"
   ]
  },
  {
   "cell_type": "code",
   "execution_count": 23,
   "metadata": {},
   "outputs": [
    {
     "data": {
      "image/png": "[encoded data removed]",
      "text/plain": [
       "<Figure size 432x288 with 1 Axes>"
      ]
     },
     "metadata": {},
     "output_type": "display_data"
    }
   ],
   "source": [
    "import matplotlib.pyplot as plt\n",
    "#visualmente\n",
    "plt.scatter( CAT17Pub.NT_GER, CAT17Pub.QE_I10)\n",
    "plt.ylabel('Situação de trabalho')\n",
    "plt.xlabel('Nota FEDERAL.')\n",
    "plt.show()"
   ]
  },
  {
   "cell_type": "code",
   "execution_count": 24,
   "metadata": {},
   "outputs": [
    {
     "data": {
      "image/png": "[encoded data removed]",
      "text/plain": [
       "<Figure size 432x288 with 1 Axes>"
      ]
     },
     "metadata": {},
     "output_type": "display_data"
    }
   ],
   "source": [
    "import matplotlib.pyplot as plt\n",
    "#visualmente\n",
    "plt.scatter( CAT17Priv.NT_GER, CAT17Priv.QE_I10)\n",
    "plt.ylabel('Situação de trabalho')\n",
    "plt.xlabel('Nota privada.')\n",
    "plt.show()"
   ]
  },
  {
   "cell_type": "code",
   "execution_count": 25,
   "metadata": {},
   "outputs": [
    {
     "data": {
      "text/plain": [
       "<matplotlib.axes._subplots.AxesSubplot at 0x1901d21eb70>"
      ]
     },
     "execution_count": 25,
     "metadata": {},
     "output_type": "execute_result"
    },
    {
     "data": {
      "image/png": "[encoded data removed]",
      "text/plain": [
       "<Figure size 432x288 with 1 Axes>"
      ]
     },
     "metadata": {},
     "output_type": "display_data"
    }
   ],
   "source": [
    "pub10 = pandas.DataFrame(CAT17Pub, columns=['NT_GER', 'QE_I10'])\n",
    "pub10.boxplot(by='QE_I10')\n"
   ]
  },
  {
   "cell_type": "code",
   "execution_count": 26,
   "metadata": {},
   "outputs": [
    {
     "data": {
      "text/plain": [
       "<matplotlib.axes._subplots.AxesSubplot at 0x1901cc95978>"
      ]
     },
     "execution_count": 26,
     "metadata": {},
     "output_type": "execute_result"
    },
    {
     "data": {
      "image/png": "[encoded data removed]",
      "text/plain": [
       "<Figure size 432x288 with 1 Axes>"
      ]
     },
     "metadata": {},
     "output_type": "display_data"
    }
   ],
   "source": [
    "pub08 = pandas.DataFrame(CAT17Pub, columns=['NT_GER', 'QE_I08'])\n",
    "pub08.boxplot(by='QE_I08')\n"
   ]
  },
  {
   "cell_type": "code",
   "execution_count": 27,
   "metadata": {},
   "outputs": [
    {
     "data": {
      "text/html": [
       "<div>\n",
       "<style scoped>\n",
       "    .dataframe tbody tr th:only-of-type {\n",
       "        vertical-align: middle;\n",
       "    }\n",
       "\n",
       "    .dataframe tbody tr th {\n",
       "        vertical-align: top;\n",
       "    }\n",
       "\n",
       "    .dataframe thead th {\n",
       "        text-align: right;\n",
       "    }\n",
       "</style>\n",
       "<table border=\"1\" class=\"dataframe\">\n",
       "  <thead>\n",
       "    <tr style=\"text-align: right;\">\n",
       "      <th></th>\n",
       "      <th>NT_GER</th>\n",
       "      <th>QE_I10</th>\n",
       "    </tr>\n",
       "  </thead>\n",
       "  <tbody>\n",
       "    <tr>\n",
       "      <th>5108</th>\n",
       "      <td>64.6</td>\n",
       "      <td>1</td>\n",
       "    </tr>\n",
       "    <tr>\n",
       "      <th>5109</th>\n",
       "      <td>64.0</td>\n",
       "      <td>1</td>\n",
       "    </tr>\n",
       "    <tr>\n",
       "      <th>5110</th>\n",
       "      <td>78.1</td>\n",
       "      <td>1</td>\n",
       "    </tr>\n",
       "    <tr>\n",
       "      <th>5111</th>\n",
       "      <td>79.3</td>\n",
       "      <td>2</td>\n",
       "    </tr>\n",
       "    <tr>\n",
       "      <th>5112</th>\n",
       "      <td>66.4</td>\n",
       "      <td>1</td>\n",
       "    </tr>\n",
       "    <tr>\n",
       "      <th>5113</th>\n",
       "      <td>52.3</td>\n",
       "      <td>1</td>\n",
       "    </tr>\n",
       "    <tr>\n",
       "      <th>5114</th>\n",
       "      <td>71.3</td>\n",
       "      <td>2</td>\n",
       "    </tr>\n",
       "    <tr>\n",
       "      <th>5115</th>\n",
       "      <td>69.3</td>\n",
       "      <td>1</td>\n",
       "    </tr>\n",
       "    <tr>\n",
       "      <th>5116</th>\n",
       "      <td>62.9</td>\n",
       "      <td>2</td>\n",
       "    </tr>\n",
       "    <tr>\n",
       "      <th>5117</th>\n",
       "      <td>58.7</td>\n",
       "      <td>1</td>\n",
       "    </tr>\n",
       "  </tbody>\n",
       "</table>\n",
       "</div>"
      ],
      "text/plain": [
       "      NT_GER  QE_I10\n",
       "5108    64.6       1\n",
       "5109    64.0       1\n",
       "5110    78.1       1\n",
       "5111    79.3       2\n",
       "5112    66.4       1\n",
       "5113    52.3       1\n",
       "5114    71.3       2\n",
       "5115    69.3       1\n",
       "5116    62.9       2\n",
       "5117    58.7       1"
      ]
     },
     "execution_count": 27,
     "metadata": {},
     "output_type": "execute_result"
    }
   ],
   "source": [
    "priv10 = pandas.DataFrame(CAT17Priv, columns=['NT_GER', 'QE_I10'])\n",
    "priv10.head(10)\n",
    "#qe22.boxplot(by='QE_I10')\n"
   ]
  },
  {
   "cell_type": "code",
   "execution_count": 28,
   "metadata": {},
   "outputs": [
    {
     "data": {
      "text/plain": [
       "<matplotlib.axes._subplots.AxesSubplot at 0x1901d17d8d0>"
      ]
     },
     "execution_count": 28,
     "metadata": {},
     "output_type": "execute_result"
    },
    {
     "data": {
      "image/png": "[encoded data removed]",
      "text/plain": [
       "<Figure size 432x288 with 1 Axes>"
      ]
     },
     "metadata": {},
     "output_type": "display_data"
    }
   ],
   "source": [
    "priv08 = pandas.DataFrame(CAT17Priv, columns=['NT_GER', 'QE_I08'])\n",
    "priv08.boxplot(by='QE_I08')\n"
   ]
  },
  {
   "cell_type": "code",
   "execution_count": 29,
   "metadata": {},
   "outputs": [
    {
     "name": "stdout",
     "output_type": "stream",
     "text": [
      "count    20390.000000\n",
      "mean        45.407386\n",
      "std         14.328866\n",
      "min          0.000000\n",
      "25%         35.225000\n",
      "50%         45.200000\n",
      "75%         55.400000\n",
      "max         92.200000\n",
      "Name: NT_GER, dtype: float64\n"
     ]
    }
   ],
   "source": [
    "'''DOS ESTUDANTES DE ESCOLA PÚBLICA QUE TRABALHAM >=40 HORAS POR SEMANA '''\n",
    "trabalhopub1=pub10.loc[pub10.QE_I10 ==5]\n",
    "print(trabalhopub1.NT_GER.describe())\n",
    "\n"
   ]
  },
  {
   "cell_type": "code",
   "execution_count": 30,
   "metadata": {},
   "outputs": [
    {
     "data": {
      "text/plain": [
       "<matplotlib.axes._subplots.AxesSubplot at 0x1901d162cf8>"
      ]
     },
     "execution_count": 30,
     "metadata": {},
     "output_type": "execute_result"
    },
    {
     "data": {
      "image/png": "[encoded data removed]",
      "text/plain": [
       "<Figure size 432x288 with 1 Axes>"
      ]
     },
     "metadata": {},
     "output_type": "display_data"
    }
   ],
   "source": [
    "a = pandas.DataFrame(trabalhopub1, columns=['NT_GER', 'QE_I10'])\n",
    "a.boxplot(by='QE_I10')\n",
    "\n"
   ]
  },
  {
   "cell_type": "code",
   "execution_count": 31,
   "metadata": {},
   "outputs": [
    {
     "name": "stdout",
     "output_type": "stream",
     "text": [
      "count    12150.000000\n",
      "mean        42.766033\n",
      "std         13.981782\n",
      "min          0.000000\n",
      "25%         32.900000\n",
      "50%         42.300000\n",
      "75%         52.200000\n",
      "max         92.300000\n",
      "Name: NT_GER, dtype: float64\n"
     ]
    }
   ],
   "source": [
    "'''DOS ESTUDANTES DE ESCOLA PRIVADA QUE TRABALHAM >=40 HORAS POR SEMANA '''\n",
    "trabalhopriv1=priv10.loc[priv10.QE_I10 ==5]\n",
    "print(trabalhopriv1.NT_GER.describe())"
   ]
  },
  {
   "cell_type": "code",
   "execution_count": 32,
   "metadata": {},
   "outputs": [
    {
     "data": {
      "text/plain": [
       "<matplotlib.axes._subplots.AxesSubplot at 0x1901d47b630>"
      ]
     },
     "execution_count": 32,
     "metadata": {},
     "output_type": "execute_result"
    },
    {
     "data": {
      "image/png": "[encoded data removed]",
      "text/plain": [
       "<Figure size 432x288 with 1 Axes>"
      ]
     },
     "metadata": {},
     "output_type": "display_data"
    }
   ],
   "source": [
    "a = pandas.DataFrame(trabalhopriv1, columns=['NT_GER', 'QE_I10'])\n",
    "a.boxplot(by='QE_I10')"
   ]
  },
  {
   "cell_type": "code",
   "execution_count": 33,
   "metadata": {},
   "outputs": [
    {
     "name": "stdout",
     "output_type": "stream",
     "text": [
      "count    53685.000000\n",
      "mean        49.321922\n",
      "std         14.337213\n",
      "min          0.000000\n",
      "25%         39.500000\n",
      "50%         49.500000\n",
      "75%         59.500000\n",
      "max         96.400000\n",
      "Name: NT_GER, dtype: float64\n"
     ]
    }
   ],
   "source": [
    "'''DOS ESTUDANTES DE ESCOLA PÚBLICA QUE NAO TRABALHAM '''\n",
    "trabalhopub2=pub10.loc[pub10.QE_I10 ==1]\n",
    "print(trabalhopub2.NT_GER.describe())\n"
   ]
  },
  {
   "cell_type": "code",
   "execution_count": 34,
   "metadata": {},
   "outputs": [
    {
     "data": {
      "text/plain": [
       "<matplotlib.axes._subplots.AxesSubplot at 0x1901d4ccef0>"
      ]
     },
     "execution_count": 34,
     "metadata": {},
     "output_type": "execute_result"
    },
    {
     "data": {
      "image/png": "[encoded data removed]",
      "text/plain": [
       "<Figure size 432x288 with 1 Axes>"
      ]
     },
     "metadata": {},
     "output_type": "display_data"
    }
   ],
   "source": [
    "a = pandas.DataFrame(trabalhopub2, columns=['NT_GER', 'QE_I10'])\n",
    "a.boxplot(by='QE_I10')"
   ]
  },
  {
   "cell_type": "code",
   "execution_count": 35,
   "metadata": {},
   "outputs": [
    {
     "name": "stdout",
     "output_type": "stream",
     "text": [
      "count    22424.000000\n",
      "mean        45.904986\n",
      "std         14.390390\n",
      "min          0.000000\n",
      "25%         35.800000\n",
      "50%         45.850000\n",
      "75%         56.000000\n",
      "max         93.800000\n",
      "Name: NT_GER, dtype: float64\n"
     ]
    }
   ],
   "source": [
    "'''DOS ESTUDANTES DE ESCOLA PRIVADA QUE NAO TRABALHAM '''\n",
    "trabalhopriv2=priv10.loc[priv10.QE_I10 ==1]\n",
    "print(trabalhopriv2.NT_GER.describe())"
   ]
  },
  {
   "cell_type": "code",
   "execution_count": 36,
   "metadata": {},
   "outputs": [
    {
     "data": {
      "text/plain": [
       "<matplotlib.axes._subplots.AxesSubplot at 0x1901d521d30>"
      ]
     },
     "execution_count": 36,
     "metadata": {},
     "output_type": "execute_result"
    },
    {
     "data": {
      "image/png": "[encoded data removed]",
      "text/plain": [
       "<Figure size 432x288 with 1 Axes>"
      ]
     },
     "metadata": {},
     "output_type": "display_data"
    }
   ],
   "source": [
    "a = pandas.DataFrame(trabalhopriv2, columns=['NT_GER', 'QE_I10'])\n",
    "a.boxplot(by='QE_I10')"
   ]
  },
  {
   "cell_type": "code",
   "execution_count": 37,
   "metadata": {},
   "outputs": [
    {
     "name": "stdout",
     "output_type": "stream",
     "text": [
      "count    24055.000000\n",
      "mean        43.230933\n",
      "std         14.064832\n",
      "min          0.000000\n",
      "25%         33.100000\n",
      "50%         42.900000\n",
      "75%         53.100000\n",
      "max         91.000000\n",
      "Name: NT_GER, dtype: float64\n"
     ]
    }
   ],
   "source": [
    "\"\"\" DOS ESTUDANTES DE ESCOLA PUBLICA COM A RENDA DE ATÉ 1,5 SALÁRIO MINIMO\"\"\"\n",
    "rendapub1=pub08.loc[pub08.QE_I08 ==1]\n",
    "print(rendapub1.NT_GER.describe())\n"
   ]
  },
  {
   "cell_type": "code",
   "execution_count": 38,
   "metadata": {},
   "outputs": [
    {
     "data": {
      "text/plain": [
       "<matplotlib.axes._subplots.AxesSubplot at 0x1901d57a438>"
      ]
     },
     "execution_count": 38,
     "metadata": {},
     "output_type": "execute_result"
    },
    {
     "data": {
      "image/png": "[encoded data removed]",
      "text/plain": [
       "<Figure size 432x288 with 1 Axes>"
      ]
     },
     "metadata": {},
     "output_type": "display_data"
    }
   ],
   "source": [
    "a = pandas.DataFrame(rendapub1, columns=['NT_GER', 'QE_I08'])\n",
    "a.boxplot(by='QE_I08')"
   ]
  },
  {
   "cell_type": "code",
   "execution_count": 39,
   "metadata": {},
   "outputs": [
    {
     "name": "stdout",
     "output_type": "stream",
     "text": [
      "count    16033.000000\n",
      "mean        40.797343\n",
      "std         13.431551\n",
      "min          0.000000\n",
      "25%         31.200000\n",
      "50%         40.300000\n",
      "75%         50.000000\n",
      "max         88.700000\n",
      "Name: NT_GER, dtype: float64\n"
     ]
    }
   ],
   "source": [
    "\"\"\" DOS ESTUDANTES DE ESCOLA PRIVADA COM A RENDA DE ATÉ 1,5 SALÁRIO MINIMO\"\"\"\n",
    "rendapriv1=priv08.loc[priv08.QE_I08 ==1]\n",
    "print(rendapriv1.NT_GER.describe())"
   ]
  },
  {
   "cell_type": "code",
   "execution_count": 40,
   "metadata": {},
   "outputs": [
    {
     "data": {
      "text/plain": [
       "<matplotlib.axes._subplots.AxesSubplot at 0x1901ccf7f60>"
      ]
     },
     "execution_count": 40,
     "metadata": {},
     "output_type": "execute_result"
    },
    {
     "data": {
      "image/png": "[encoded data removed]",
      "text/plain": [
       "<Figure size 432x288 with 1 Axes>"
      ]
     },
     "metadata": {},
     "output_type": "display_data"
    }
   ],
   "source": [
    "a = pandas.DataFrame(rendapriv1, columns=['NT_GER', 'QE_I08'])\n",
    "a.boxplot(by='QE_I08')"
   ]
  },
  {
   "cell_type": "code",
   "execution_count": 41,
   "metadata": {},
   "outputs": [
    {
     "name": "stdout",
     "output_type": "stream",
     "text": [
      "count    12732.000000\n",
      "mean        52.522549\n",
      "std         14.155338\n",
      "min          0.000000\n",
      "25%         43.200000\n",
      "50%         53.000000\n",
      "75%         62.525000\n",
      "max         96.200000\n",
      "Name: NT_GER, dtype: float64\n"
     ]
    }
   ],
   "source": [
    "\"\"\" DOS ESTUDANTES DE ESCOLA PUBLICA COM A RENDA DE 6 a 10 SALÁRIOS MINIMOS\"\"\"\n",
    "rendapub2=pub08.loc[pub08.QE_I08 ==5]\n",
    "print(rendapub2.NT_GER.describe())"
   ]
  },
  {
   "cell_type": "code",
   "execution_count": 42,
   "metadata": {},
   "outputs": [
    {
     "data": {
      "text/plain": [
       "<matplotlib.axes._subplots.AxesSubplot at 0x1901cbe5240>"
      ]
     },
     "execution_count": 42,
     "metadata": {},
     "output_type": "execute_result"
    },
    {
     "data": {
      "image/png": "[encoded data removed]",
      "text/plain": [
       "<Figure size 432x288 with 1 Axes>"
      ]
     },
     "metadata": {},
     "output_type": "display_data"
    }
   ],
   "source": [
    "a = pandas.DataFrame(rendapub2, columns=['NT_GER', 'QE_I08'])\n",
    "a.boxplot(by='QE_I08')"
   ]
  },
  {
   "cell_type": "code",
   "execution_count": 43,
   "metadata": {},
   "outputs": [
    {
     "name": "stdout",
     "output_type": "stream",
     "text": [
      "count    4300.000000\n",
      "mean       49.998349\n",
      "std        14.757584\n",
      "min         0.000000\n",
      "25%        39.900000\n",
      "50%        50.450000\n",
      "75%        60.600000\n",
      "max        93.800000\n",
      "Name: NT_GER, dtype: float64\n"
     ]
    }
   ],
   "source": [
    "\"\"\" DOS ESTUDANTES DE ESCOLA PRIVADA COM A RENDA DE 6 a 10 SALÁRIOS MINIMOS\"\"\"\n",
    "rendapriv2=priv08.loc[priv08.QE_I08 ==5]\n",
    "print(rendapriv2.NT_GER.describe())"
   ]
  },
  {
   "cell_type": "code",
   "execution_count": 44,
   "metadata": {},
   "outputs": [
    {
     "data": {
      "text/plain": [
       "<matplotlib.axes._subplots.AxesSubplot at 0x1901d59d9e8>"
      ]
     },
     "execution_count": 44,
     "metadata": {},
     "output_type": "execute_result"
    },
    {
     "data": {
      "image/png": "[encoded data removed]",
      "text/plain": [
       "<Figure size 432x288 with 1 Axes>"
      ]
     },
     "metadata": {},
     "output_type": "display_data"
    }
   ],
   "source": [
    "a = pandas.DataFrame(rendapriv2, columns=['NT_GER', 'QE_I08'])\n",
    "a.boxplot(by='QE_I08')"
   ]
  },
  {
   "cell_type": "code",
   "execution_count": null,
   "metadata": {},
   "outputs": [],
   "source": []
  }
 ],
 "metadata": {
  "kernelspec": {
   "display_name": "Python 3",
   "language": "python",
   "name": "python3"
  },
  "language_info": {
   "codemirror_mode": {
    "name": "ipython",
    "version": 3
   },
   "file_extension": ".py",
   "mimetype": "text/x-python",
   "name": "python",
   "nbconvert_exporter": "python",
   "pygments_lexer": "ipython3",
   "version": "3.6.5"
  }
 },
 "nbformat": 4,
 "nbformat_minor": 2
}
